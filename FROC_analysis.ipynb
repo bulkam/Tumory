{
 "metadata": {
  "name": "",
  "signature": "sha256:51485f528eb5b3b4b05058fd9aa285f6413b3e87cc176cdfc6d6b0fba14ad6df"
 },
 "nbformat": 3,
 "nbformat_minor": 0,
 "worksheets": [
  {
   "cells": [
    {
     "cell_type": "code",
     "collapsed": false,
     "input": [
      "import data_reader as dr\n",
      "from matplotlib import pyplot as plt\n",
      "import os.path as op\n",
      "import os"
     ],
     "language": "python",
     "metadata": {},
     "outputs": [],
     "prompt_number": 8
    },
    {
     "cell_type": "code",
     "collapsed": false,
     "input": [
      "dataset = dr.DATAset()\n",
      "dataset.create_dataset_CT()\n",
      "config = dataset.config"
     ],
     "language": "python",
     "metadata": {},
     "outputs": [
      {
       "output_type": "stream",
       "stream": "stdout",
       "text": [
        "Vytvoren dataset\n"
       ]
      }
     ],
     "prompt_number": 9
    },
    {
     "cell_type": "code",
     "collapsed": false,
     "input": [
      "class Evaluation():\n",
      "    \n",
      "    def __init__(self, fname):\n",
      "        \n",
      "        self.fname = fname\n",
      "        \n",
      "        self.processing = get_processing(fname)\n",
      "        self.coloring = get_coloring(fname)\n",
      "        self.decomposition = get_decomposition(fname)\n",
      "        self.winsize = get_winsize(fname)\n",
      "        self.ori = find_ori(fname)\n",
      "        self.ppc = find_ppc(fname)\n",
      "        self.cpb = find_cpb(fname)\n",
      "        self.hog = [self.ori, self.ppc, self.cpb]\n",
      "        \n",
      "        result = dr.load_json(fname)\n",
      "        \n",
      "        self.recall = np.mean(result[\"recall\"])\n",
      "        self.precision = np.mean(result[\"precision\"])\n",
      "        self.accuracy = np.mean(result[\"accuracy\"])\n",
      "        \n",
      "        self.configlabel = re.sub(\".*affine\\+flip\\_+\", \"\", fname)\n",
      "        self.configlabel = re.sub(\"\\/evaluation\\/\", \"\", self.configlabel)\n",
      "        self.configlabel = re.sub(\"random\\-state\", \"r-s\", self.configlabel)\n",
      "        self.configlabel = re.sub(\"CV\\_\", \"_\", self.configlabel)\n",
      "        self.configlabel = re.sub(\"\\.json\", \"\", self.configlabel)\n",
      "        \n",
      "        self.f1 = np.mean(result[\"f1\"])\n",
      "        self.TN = np.mean(result[\"TN\"])\n",
      "        self.TP = np.mean(result[\"TP\"])\n",
      "        self.FP = np.mean(result[\"FP\"])\n",
      "        self.FN = np.mean(result[\"FN\"])"
     ],
     "language": "python",
     "metadata": {},
     "outputs": []
    },
    {
     "cell_type": "code",
     "collapsed": false,
     "input": [
      "folders = [f + \"/\" for f in os.listdir(config[\"result_path\"]) if not op.isfile(f) and f.startswith(\"20\")]\n",
      "print folders\n",
      "\n",
      "results = []\n",
      "\n",
      "for folder in folders:\n",
      "    try:\n",
      "        results.append(dr.load_json(config[\"result_path\"] + folder + \"nms_overlap_evaluation.json\"))\n",
      "        print \"Nalezen soubor!\"\n",
      "    except:\n",
      "        print \"Slozka \"+str(folder)+\" nema soubor s nazvem nms_overlap_evaluation.json\""
     ],
     "language": "python",
     "metadata": {},
     "outputs": [
      {
       "output_type": "stream",
       "stream": "stdout",
       "text": [
        "[u'2017-10-21__20-15-01-444000/', u'2017-10-21__20-22-34-008000/', u'2017-10-22__12-10-12-067000/', u'2017-10-26__17-34-38-317000/', u'2017-10-27__09-40-59-532000/', u'2017-10-27__09-42-50-582000/', u'2017-10-27__09-51-33-662000/', u'2017-10-27__12-40-54-492000/', u'2017-10-27__12-54-41-055000/', u'2017-10-28__13-17-34-175000/', u'2017-10-28__13-23-16-645000/']\n",
        "Slozka 2017-10-21__20-15-01-444000/ nema soubor s nazvem nms_overlap_evaluation.json\n",
        "Slozka 2017-10-21__20-22-34-008000/ nema soubor s nazvem nms_overlap_evaluation.json\n",
        "Nalezen soubor!\n",
        "Nalezen soubor!\n",
        "Nalezen soubor!"
       ]
      },
      {
       "output_type": "stream",
       "stream": "stdout",
       "text": [
        "\n",
        "Nalezen soubor!\n",
        "Nalezen soubor!\n",
        "Nalezen soubor!"
       ]
      },
      {
       "output_type": "stream",
       "stream": "stdout",
       "text": [
        "\n",
        "Nalezen soubor!\n",
        "Nalezen soubor!\n",
        "Nalezen soubor!\n"
       ]
      }
     ],
     "prompt_number": 14
    },
    {
     "cell_type": "code",
     "collapsed": false,
     "input": [],
     "language": "python",
     "metadata": {},
     "outputs": []
    }
   ],
   "metadata": {}
  }
 ]
}