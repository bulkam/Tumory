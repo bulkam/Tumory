{
 "metadata": {
  "name": "",
  "signature": "sha256:96068eca4f267e4760306e3c2e8da0d175902dc241e6d75c3e4ea780e1c592e4"
 },
 "nbformat": 3,
 "nbformat_minor": 0,
 "worksheets": [
  {
   "cells": [
    {
     "cell_type": "code",
     "collapsed": false,
     "input": [
      "import data_reader as dr\n",
      "\n",
      "import classifier as clas\n",
      "from matplotlib import pyplot as plt\n",
      "import os.path as op\n",
      "import os\n",
      "import pandas as pd\n",
      "import numpy as np\n",
      "from collections import OrderedDict"
     ],
     "language": "python",
     "metadata": {},
     "outputs": [
      {
       "output_type": "stream",
       "stream": "stdout",
       "text": [
        "Vytvoren dataset\n"
       ]
      }
     ],
     "prompt_number": 1
    },
    {
     "cell_type": "code",
     "collapsed": false,
     "input": [
      "dataset = dr.DATAset()\n",
      "dataset.create_dataset_CT()\n",
      "config = dataset.config"
     ],
     "language": "python",
     "metadata": {},
     "outputs": [
      {
       "output_type": "stream",
       "stream": "stdout",
       "text": [
        "Vytvoren dataset\n"
       ]
      }
     ],
     "prompt_number": 3
    },
    {
     "cell_type": "code",
     "collapsed": false,
     "input": [
      "class Evaluation():\n",
      "    \n",
      "    def __init__(self, foldername):\n",
      "        \n",
      "        self.config = dr.load_json(foldername + \"CT.json\")\n",
      "        self.result = dr.load_json(foldername + \"nms_overlap_evaluation.json\")\n",
      "        self.foldername = foldername\n",
      "        \n",
      "        #self.coloring = bool(self.config[\"background_coloring\"])\n",
      "        #self.n_components = self.config[\"n_for_PCA\"]\n",
      "        \n",
      "        self.recall = self.result[\"recall\"]\n",
      "        self.TPR = self.result[\"TPR\"]\n",
      "        self.precision = self.result[\"precision\"]\n",
      "        self.FPC = self.result[\"FPC\"]\n",
      "                \n",
      "        self.TN = self.result[\"TN\"]\n",
      "        self.TP = self.result[\"TP\"]\n",
      "        self.FP = self.result[\"FP\"]\n",
      "        self.FN = self.result[\"FN\"]"
     ],
     "language": "python",
     "metadata": {},
     "outputs": []
    },
    {
     "cell_type": "code",
     "collapsed": false,
     "input": [
      "folders = [f + \"/\" for f in os.listdir(config[\"result_path\"]) if not op.isfile(f) and f.startswith(\"20\")]\n",
      "#print folders\n",
      "\n",
      "results = []\n",
      "\n",
      "for folder in folders:\n",
      "    try:\n",
      "        results.append(Evaluation(config[\"result_path\"] + folder))\n",
      "        print \"Nalezen soubor!\"\n",
      "    except:\n",
      "        print \"Slozka \"+str(folder)+\" nema soubor s nazvem nms_overlap_evaluation.json\""
     ],
     "language": "python",
     "metadata": {},
     "outputs": []
    },
    {
     "cell_type": "code",
     "collapsed": false,
     "input": [
      "print [e.FPC for e in results]"
     ],
     "language": "python",
     "metadata": {},
     "outputs": []
    },
    {
     "cell_type": "markdown",
     "metadata": {},
     "source": [
      "# Grafy"
     ]
    },
    {
     "cell_type": "code",
     "collapsed": false,
     "input": [
      "results_sorted = sorted(results, key=lambda x: x.FPC, reverse=False)\n",
      "\n",
      "x = np.array([e.FPC for e in results_sorted])\n",
      "y = np.array([e.TPR for e in results_sorted])\n",
      "\n",
      "print x\n",
      "print y"
     ],
     "language": "python",
     "metadata": {},
     "outputs": []
    },
    {
     "cell_type": "code",
     "collapsed": false,
     "input": [
      "plt.plot(x, y)\n",
      "plt.xlim(min(x), max(x))\n",
      "plt.ylim(0, 1)\n",
      "plt.fill_between(x, y, 0, where = y == y, facecolor='b', alpha=0.3)\n",
      "#plt.grid()\n",
      "for i in xrange(len(x)):\n",
      "    plt.axvline(x[i], ymin=0, ymax=y[i], linestyle=\":\", color=\"black\", lw=2)\n",
      "    plt.axhline(y[i], xmin=0, xmax=float(x[i]-min(x))/(max(x)-min(x)), linestyle=\":\", color=\"black\", lw=2)\n",
      "plt.show()"
     ],
     "language": "python",
     "metadata": {},
     "outputs": []
    },
    {
     "cell_type": "code",
     "collapsed": false,
     "input": [
      "x = np.random.rand(15)\n",
      "plt.plot(x)\n",
      "plt.fill_between(np.arange(len(x)), x, 0, where = x > 0, facecolor='b', alpha=0.3)\n",
      "plt.grid()\n",
      "plt.show()"
     ],
     "language": "python",
     "metadata": {},
     "outputs": []
    },
    {
     "cell_type": "markdown",
     "metadata": {},
     "source": [
      "# FROC analyza"
     ]
    },
    {
     "cell_type": "code",
     "collapsed": false,
     "input": [
      "svm = clas.Classifier()\n",
      "folder = \"classification/results/gold/2017-11-09__16-06-52-462000HNM=best50_median11_NOcoloring_win48_ori=12_ppc=6_cpb=2/\"\n",
      "#folder = \"classification/results/gold/2017-11-09__05-28-02-511000HNM=best50_median15_NOcoloring_win48_ori=9_ppc=6_cpb=2/\"\n",
      "fname = folder + \"test_results.json\"\n",
      "svm.test_results = dr.load_json(fname)"
     ],
     "language": "python",
     "metadata": {},
     "outputs": [],
     "prompt_number": 67
    },
    {
     "cell_type": "code",
     "collapsed": false,
     "input": [
      "def detected(svm, value):\n",
      "    #       ----- Podminka detekce  -----\n",
      "    # rozhodnuti klasifikatoru\n",
      "    R = value[\"result\"][0]  \n",
      "    detection_condition = R > svm.min_prob\n",
      "    # pokud nas zajima zastoupeni jater v celem bb\n",
      "    if svm.liver_coverage_mode:\n",
      "        detection_condition = detection_condition and (value[\"liver_coverage\"]  >= svm.min_liver_coverage)\n",
      "    # pokud nas zajima zastoupeni jater ve stredu\n",
      "    if svm.liver_center_coverage_mode:\n",
      "        if svm.ellipse_mode:\n",
      "            detection_condition = detection_condition and (value[\"liver_center_ellipse_coverage\"]  >= svm.min_liver_center_coverage)\n",
      "            real_mini_bounding_box = None\n",
      "        else:\n",
      "            detection_condition = detection_condition and (value[\"liver_center_coverage\"] >= svm.min_liver_center_coverage)\n",
      "            small_mask = None\n",
      "    else:\n",
      "        real_mini_bounding_box = None\n",
      "        small_mask = None\n",
      "    # pripadna podminka pokryti po stranach\n",
      "    if svm.liver_sides_mode:\n",
      "        sides_coverage, sides_filled = fe.liver_sides_filled(mask_frame, min_coverage=svm.min_liver_side_coverage)\n",
      "        detection_condition = detection_condition and (sides_filled >= svm.min_liver_sides_filled)\n",
      "\n",
      "    return int(detection_condition)"
     ],
     "language": "python",
     "metadata": {},
     "outputs": [],
     "prompt_number": 68
    },
    {
     "cell_type": "code",
     "collapsed": false,
     "input": [
      "print len(svm.test_results.items())"
     ],
     "language": "python",
     "metadata": {},
     "outputs": [
      {
       "output_type": "stream",
       "stream": "stdout",
       "text": [
        "407\n"
       ]
      }
     ],
     "prompt_number": 57
    },
    {
     "cell_type": "code",
     "collapsed": false,
     "input": [
      "\"\"\" Premarkovani podle ppsti \"\"\"\n",
      "\n",
      "thrs = np.arange(0.5, 0.98, 0.025)\n",
      "\n",
      "for thr in thrs:\n",
      "    svm.test_results_nms = {}\n",
      "    for imgname, values in svm.test_results.items():\n",
      "        if \"hard_negative\" in imgname: continue\n",
      "        svm.min_prob = thr\n",
      "        for i, value in enumerate(values):\n",
      "            #svm.test_results[imgname][i][\"mark\"] = int(value[\"result\"][0] >= thr)\n",
      "            svm.test_results[imgname][i][\"mark\"] = detected(svm, value)\n",
      "        for res in svm.test_results[imgname]:\n",
      "            if res[\"mark\"] == 1:\n",
      "                svm.test_results_nms[imgname] = svm.non_maxima_suppression(imgname, to_print=False)\n",
      "                break\n",
      "        if not svm.test_results_nms.has_key(imgname):\n",
      "            svm.test_results_nms[imgname] = []\n",
      "    print \"[RESULT] Prah: \" + str(thr)\n",
      "    svm.evaluate_nms_results_overlap(print_steps=False)\n",
      "    #FROC_results[\"\"]"
     ],
     "language": "python",
     "metadata": {},
     "outputs": [
      {
       "output_type": "stream",
       "stream": "stdout",
       "text": [
        "[RESULT] Prah: 0.5\n",
        "[RESULT] Celkove vysledky pro 356 obrazku:"
       ]
      },
      {
       "output_type": "stream",
       "stream": "stdout",
       "text": [
        "\n",
        "         TP: 363\n",
        "         TN: 0\n",
        "         FP: 829\n",
        "         FN: 125\n",
        "        TPR: 0.743852459016\n",
        "  precision: 0.304530201342\n",
        "        FPC: 2.32865168539\n",
        "[RESULT] Prah: 0.525"
       ]
      },
      {
       "output_type": "stream",
       "stream": "stdout",
       "text": [
        "\n",
        "[RESULT] Celkove vysledky pro 356 obrazku:"
       ]
      },
      {
       "output_type": "stream",
       "stream": "stdout",
       "text": [
        "\n",
        "         TP: 360\n",
        "         TN: 0\n",
        "         FP: 811\n",
        "         FN: 127\n",
        "        TPR: 0.739219712526\n",
        "  precision: 0.307429547395\n",
        "        FPC: 2.27808988764\n",
        "[RESULT] Prah: 0.55"
       ]
      },
      {
       "output_type": "stream",
       "stream": "stdout",
       "text": [
        "\n",
        "[RESULT] Celkove vysledky pro 356 obrazku:"
       ]
      },
      {
       "output_type": "stream",
       "stream": "stdout",
       "text": [
        "\n",
        "         TP: 359\n",
        "         TN: 0\n",
        "         FP: 789\n",
        "         FN: 128\n",
        "        TPR: 0.737166324435\n",
        "  precision: 0.312717770035\n",
        "        FPC: 2.21629213483\n",
        "[RESULT] Prah: 0.575"
       ]
      },
      {
       "output_type": "stream",
       "stream": "stdout",
       "text": [
        "\n",
        "[RESULT] Celkove vysledky pro 356 obrazku:"
       ]
      },
      {
       "output_type": "stream",
       "stream": "stdout",
       "text": [
        "\n",
        "         TP: 357\n",
        "         TN: 0\n",
        "         FP: 756\n",
        "         FN: 129\n",
        "        TPR: 0.734567901235\n",
        "  precision: 0.320754716981\n",
        "        FPC: 2.12359550562\n",
        "[RESULT] Prah: 0.6"
       ]
      },
      {
       "output_type": "stream",
       "stream": "stdout",
       "text": [
        "\n",
        "[RESULT] Celkove vysledky pro 356 obrazku:"
       ]
      },
      {
       "output_type": "stream",
       "stream": "stdout",
       "text": [
        "\n",
        "         TP: 356\n",
        "         TN: 0\n",
        "         FP: 733\n",
        "         FN: 130\n",
        "        TPR: 0.732510288066\n",
        "  precision: 0.326905417815\n",
        "        FPC: 2.05898876404\n",
        "[RESULT] Prah: 0.625"
       ]
      },
      {
       "output_type": "stream",
       "stream": "stdout",
       "text": [
        "\n",
        "[RESULT] Celkove vysledky pro 356 obrazku:"
       ]
      },
      {
       "output_type": "stream",
       "stream": "stdout",
       "text": [
        "\n",
        "         TP: 356\n",
        "         TN: 0\n",
        "         FP: 712\n",
        "         FN: 130\n",
        "        TPR: 0.732510288066\n",
        "  precision: 0.333333333333\n",
        "        FPC: 2.0\n",
        "[RESULT] Prah: 0.65"
       ]
      },
      {
       "output_type": "stream",
       "stream": "stdout",
       "text": [
        "\n",
        "[RESULT] Celkove vysledky pro 356 obrazku:"
       ]
      },
      {
       "output_type": "stream",
       "stream": "stdout",
       "text": [
        "\n",
        "         TP: 356\n",
        "         TN: 0\n",
        "         FP: 686\n",
        "         FN: 130\n",
        "        TPR: 0.732510288066\n",
        "  precision: 0.341650671785\n",
        "        FPC: 1.92696629213\n",
        "[RESULT] Prah: 0.675"
       ]
      },
      {
       "output_type": "stream",
       "stream": "stdout",
       "text": [
        "\n",
        "[RESULT] Celkove vysledky pro 356 obrazku:"
       ]
      },
      {
       "output_type": "stream",
       "stream": "stdout",
       "text": [
        "\n",
        "         TP: 355\n",
        "         TN: 0\n",
        "         FP: 655\n",
        "         FN: 130\n",
        "        TPR: 0.731958762887\n",
        "  precision: 0.351485148515\n",
        "        FPC: 1.83988764045\n",
        "[RESULT] Prah: 0.7"
       ]
      },
      {
       "output_type": "stream",
       "stream": "stdout",
       "text": [
        "\n",
        "[RESULT] Celkove vysledky pro 356 obrazku:"
       ]
      },
      {
       "output_type": "stream",
       "stream": "stdout",
       "text": [
        "\n",
        "         TP: 352\n",
        "         TN: 0\n",
        "         FP: 618\n",
        "         FN: 131\n",
        "        TPR: 0.728778467909\n",
        "  precision: 0.362886597938\n",
        "        FPC: 1.73595505618\n",
        "[RESULT] Prah: 0.725"
       ]
      },
      {
       "output_type": "stream",
       "stream": "stdout",
       "text": [
        "\n",
        "[RESULT] Celkove vysledky pro 356 obrazku:"
       ]
      },
      {
       "output_type": "stream",
       "stream": "stdout",
       "text": [
        "\n",
        "         TP: 352\n",
        "         TN: 0\n",
        "         FP: 587\n",
        "         FN: 131\n",
        "        TPR: 0.728778467909\n",
        "  precision: 0.374866879659\n",
        "        FPC: 1.64887640449\n",
        "[RESULT] Prah: 0.75"
       ]
      },
      {
       "output_type": "stream",
       "stream": "stdout",
       "text": [
        "\n",
        "[RESULT] Celkove vysledky pro 356 obrazku:"
       ]
      },
      {
       "output_type": "stream",
       "stream": "stdout",
       "text": [
        "\n",
        "         TP: 352\n",
        "         TN: 0\n",
        "         FP: 566\n",
        "         FN: 131\n",
        "        TPR: 0.728778467909\n",
        "  precision: 0.383442265795\n",
        "        FPC: 1.58988764045\n",
        "[RESULT] Prah: 0.775"
       ]
      },
      {
       "output_type": "stream",
       "stream": "stdout",
       "text": [
        "\n",
        "[RESULT] Celkove vysledky pro 356 obrazku:"
       ]
      },
      {
       "output_type": "stream",
       "stream": "stdout",
       "text": [
        "\n",
        "         TP: 351\n",
        "         TN: 0\n",
        "         FP: 526\n",
        "         FN: 131\n",
        "        TPR: 0.728215767635\n",
        "  precision: 0.400228050171\n",
        "        FPC: 1.47752808989\n",
        "[RESULT] Prah: 0.8"
       ]
      },
      {
       "output_type": "stream",
       "stream": "stdout",
       "text": [
        "\n",
        "[RESULT] Celkove vysledky pro 356 obrazku:"
       ]
      },
      {
       "output_type": "stream",
       "stream": "stdout",
       "text": [
        "\n",
        "         TP: 348\n",
        "         TN: 0\n",
        "         FP: 497\n",
        "         FN: 132\n",
        "        TPR: 0.725\n",
        "  precision: 0.411834319527\n",
        "        FPC: 1.39606741573\n",
        "[RESULT] Prah: 0.825"
       ]
      },
      {
       "output_type": "stream",
       "stream": "stdout",
       "text": [
        "\n",
        "[RESULT] Celkove vysledky pro 356 obrazku:"
       ]
      },
      {
       "output_type": "stream",
       "stream": "stdout",
       "text": [
        "\n",
        "         TP: 343\n",
        "         TN: 0\n",
        "         FP: 456\n",
        "         FN: 133\n",
        "        TPR: 0.720588235294\n",
        "  precision: 0.42928660826\n",
        "        FPC: 1.2808988764\n",
        "[RESULT] Prah: 0.85"
       ]
      },
      {
       "output_type": "stream",
       "stream": "stdout",
       "text": [
        "\n",
        "[RESULT] Celkove vysledky pro 356 obrazku:"
       ]
      },
      {
       "output_type": "stream",
       "stream": "stdout",
       "text": [
        "\n",
        "         TP: 343\n",
        "         TN: 0\n",
        "         FP: 428\n",
        "         FN: 133\n",
        "        TPR: 0.720588235294\n",
        "  precision: 0.444876783398\n",
        "        FPC: 1.20224719101\n",
        "[RESULT] Prah: 0.875"
       ]
      },
      {
       "output_type": "stream",
       "stream": "stdout",
       "text": [
        "\n",
        "[RESULT] Celkove vysledky pro 356 obrazku:"
       ]
      },
      {
       "output_type": "stream",
       "stream": "stdout",
       "text": [
        "\n",
        "         TP: 339\n",
        "         TN: 0\n",
        "         FP: 389\n",
        "         FN: 136\n",
        "        TPR: 0.713684210526\n",
        "  precision: 0.465659340659\n",
        "        FPC: 1.09269662921\n",
        "[RESULT] Prah: 0.9"
       ]
      },
      {
       "output_type": "stream",
       "stream": "stdout",
       "text": [
        "\n",
        "[RESULT] Celkove vysledky pro 356 obrazku:"
       ]
      },
      {
       "output_type": "stream",
       "stream": "stdout",
       "text": [
        "\n",
        "         TP: 333\n",
        "         TN: 0\n",
        "         FP: 344\n",
        "         FN: 139\n",
        "        TPR: 0.705508474576\n",
        "  precision: 0.491875923191\n",
        "        FPC: 0.966292134831\n",
        "[RESULT] Prah: 0.925"
       ]
      },
      {
       "output_type": "stream",
       "stream": "stdout",
       "text": [
        "\n",
        "[RESULT] Celkove vysledky pro 356 obrazku:"
       ]
      },
      {
       "output_type": "stream",
       "stream": "stdout",
       "text": [
        "\n",
        "         TP: 324\n",
        "         TN: 0\n",
        "         FP: 295\n",
        "         FN: 144\n",
        "        TPR: 0.692307692308\n",
        "  precision: 0.523424878837\n",
        "        FPC: 0.828651685393\n",
        "[RESULT] Prah: 0.95"
       ]
      },
      {
       "output_type": "stream",
       "stream": "stdout",
       "text": [
        "\n",
        "[RESULT] Celkove vysledky pro 356 obrazku:"
       ]
      },
      {
       "output_type": "stream",
       "stream": "stdout",
       "text": [
        "\n",
        "         TP: 312\n",
        "         TN: 0\n",
        "         FP: 228\n",
        "         FN: 150\n",
        "        TPR: 0.675324675325\n",
        "  precision: 0.577777777778\n",
        "        FPC: 0.640449438202\n",
        "[RESULT] Prah: 0.975"
       ]
      },
      {
       "output_type": "stream",
       "stream": "stdout",
       "text": [
        "\n",
        "[RESULT] Celkove vysledky pro 356 obrazku:"
       ]
      },
      {
       "output_type": "stream",
       "stream": "stdout",
       "text": [
        "\n",
        "         TP: 292\n",
        "         TN: 0\n",
        "         FP: 161\n",
        "         FN: 161\n",
        "        TPR: 0.644591611479\n",
        "  precision: 0.644591611479\n",
        "        FPC: 0.452247191011\n"
       ]
      }
     ],
     "prompt_number": 58
    },
    {
     "cell_type": "code",
     "collapsed": false,
     "input": [
      "dr.zapis_json(svm.FROC_scores, folder + \"FROC_scores.json\")"
     ],
     "language": "python",
     "metadata": {},
     "outputs": [],
     "prompt_number": 59
    },
    {
     "cell_type": "code",
     "collapsed": false,
     "input": [
      "svm.FROC_scores = dr.load_json(folder + \"FROC_scores.json\")"
     ],
     "language": "python",
     "metadata": {},
     "outputs": [],
     "prompt_number": 69
    },
    {
     "cell_type": "code",
     "collapsed": false,
     "input": [
      "plt.figure(figsize=(18, 12))\n",
      "plt.title(u\"FROC anal\u00fdza\")\n",
      "\n",
      "TPRs = list()\n",
      "FPCs = list()\n",
      "\n",
      "scores = OrderedDict(sorted(svm.FROC_scores.items()), key=lambda x: -x[1][\"FPC\"])\n",
      "#print scores.items()\n",
      "\n",
      "for thr, results in scores.items():\n",
      "    #print results\n",
      "    try:\n",
      "        TPRs.append(results[\"TPR\"])\n",
      "        FPCs.append(results[\"FPC\"])\n",
      "    except:\n",
      "        pass\n",
      "\n",
      "indxs = np.argsort(FPCs)\n",
      "FPCs = np.array(FPCs)[indxs]\n",
      "TPRs = np.array(TPRs)[indxs]\n",
      "probs = np.array(scores.keys())[indxs]\n",
      "print probs\n",
      "\n",
      "plt.plot(FPCs, TPRs)\n",
      "plt.grid()\n",
      "plt.fill_between(FPCs, TPRs , 0, where = FPCs == FPCs, facecolor='b', alpha=0.3)\n",
      "\n",
      "up_offset = 0.01\n",
      "plt.xlim((min(FPCs), max(FPCs)))\n",
      "plt.ylim((min(TPRs), max(TPRs)+up_offset))\n",
      "plt.xlabel(\"FPC\")\n",
      "plt.ylabel(\"TPR\")\n",
      "\n",
      "x = FPCs\n",
      "y = TPRs\n",
      "\n",
      "for i in xrange(len(x)):\n",
      "    plt.plot([x[i], x[i]], [min(y), y[i]], linestyle=\"--\", color=\"b\", lw=1)\n",
      "    plt.plot([min(x), x[i]], [y[i], y[i]], linestyle=\"--\", color=\"b\", lw=1)\n",
      "    plt.annotate(round(float(probs[i]),3), xy=(x[i], y[i]), xytext=(-30, 20), textcoords='offset points', ha='right', va='bottom',\n",
      "                 arrowprops=dict(arrowstyle = '->', connectionstyle='arc3,rad=0'),\n",
      "                 bbox=dict(boxstyle='round, pad=0.1', fc='cyan', alpha=0.6),)\n",
      "plt.savefig(folder+\"FROC_analysis.png\")   \n",
      "plt.show()\n",
      "\n"
     ],
     "language": "python",
     "metadata": {},
     "outputs": [
      {
       "output_type": "stream",
       "stream": "stdout",
       "text": [
        "[u'0.97500000000000042' u'0.9500000000000004' u'0.92500000000000038'\n",
        " u'0.90000000000000036' u'0.87500000000000033' u'0.85000000000000031'\n",
        " u'0.82500000000000029' u'0.80000000000000027' u'0.77500000000000024'\n",
        " u'0.75000000000000022' u'0.7250000000000002' u'0.70000000000000018'\n",
        " u'0.67500000000000016' u'0.65000000000000013' u'0.62500000000000011'\n",
        " u'0.60000000000000009' u'0.57500000000000007' u'0.55000000000000004'\n",
        " u'0.52500000000000002' u'0.5']\n"
       ]
      }
     ],
     "prompt_number": 83
    },
    {
     "cell_type": "code",
     "collapsed": false,
     "input": [
      "folders = [\"classification/results/gold/2017-11-09__16-06-52-462000HNM=best50_median11_NOcoloring_win48_ori=12_ppc=6_cpb=2/\",\n",
      "           \"classification/results/gold/2017-11-09__05-28-02-511000HNM=best50_median15_NOcoloring_win48_ori=9_ppc=6_cpb=2/\"]\n",
      "colors = [\"b\", \"r\", \"g\", \"c\", \"m\"]"
     ],
     "language": "python",
     "metadata": {},
     "outputs": [],
     "prompt_number": 52
    },
    {
     "cell_type": "code",
     "collapsed": false,
     "input": [
      "plt.figure(figsize=(18, 12))\n",
      "plt.title(u\"FROC anal\u00fdza\")\n",
      "\n",
      "svmm = clas.Classifier()\n",
      "for f in range(len(folders)):\n",
      "    svmm.FROC_scores = dr.load_json(folders[f]+\"FROC_scores.json\")\n",
      "    \n",
      "    TPRs = list()\n",
      "    FPCs = list()\n",
      "\n",
      "    scores = OrderedDict(sorted(svmm.FROC_scores.items()), key=lambda x: -x[1][\"FPC\"])\n",
      "    #print scores.items()\n",
      "\n",
      "    for thr, results in scores.items():\n",
      "        #print results\n",
      "        try:\n",
      "            TPRs.append(results[\"TPR\"])\n",
      "            FPCs.append(results[\"FPC\"])\n",
      "        except:\n",
      "            pass\n",
      "\n",
      "    indxs = np.argsort(FPCs)\n",
      "    FPCs = np.array(FPCs)[indxs]\n",
      "    TPRs = np.array(TPRs)[indxs]\n",
      "    probs = np.array(scores.keys())[indxs]\n",
      "\n",
      "    plt.plot(FPCs, TPRs, color=colors[f])\n",
      "    plt.fill_between(FPCs, TPRs , 0, where = FPCs == FPCs, facecolor=colors[f], alpha=0.3)\n",
      "    plt.scatter(FPCs, TPRs, marker=\"o\")\n",
      "\n",
      "    up_offset = 0.01\n",
      "    plt.xlim((min(FPCs), max(FPCs)))\n",
      "    plt.ylim((min(TPRs), max(TPRs)+up_offset))\n",
      "    plt.xlabel(\"FPC\")\n",
      "    plt.ylabel(\"TPR\")\n",
      "\n",
      "    x = FPCs\n",
      "    y = TPRs\n",
      "\n",
      "#    for i in xrange(len(x)):\n",
      "#        plt.plot([x[i], x[i]], [min(y), y[i]], linestyle=\"--\", color=colors[f], lw=1)\n",
      "#        plt.plot([min(x), x[i]], [y[i], y[i]], linestyle=\"--\", color=colors[f], lw=1) \n",
      "        #plt.axhline(y[i], xmin=0, xmax=float(x[i]-min(x))/(max(x)-min(x)), linestyle=\"--\", color=colors[f], lw=1)\n",
      "        #plt.annotate(round(float(probs[i]),3), xy=(x[i], y[i]), xytext=(-30, 20), textcoords='offset points', ha='right', va='bottom',\n",
      "        #             arrowprops=dict(arrowstyle = '->', connectionstyle='arc3,rad=0'),\n",
      "        #             bbox=dict(boxstyle='round, pad=0.1', fc='cyan', alpha=0.6),)\n",
      "\n",
      "plt.grid()\n",
      "plt.show()\n",
      "\n",
      "plt.savefig(\"classification/results/FROC_analysis.png\")"
     ],
     "language": "python",
     "metadata": {},
     "outputs": [],
     "prompt_number": 92
    },
    {
     "cell_type": "code",
     "collapsed": false,
     "input": [
      "# ==> nejlepsi bude \"classification/results/gold/2017-11-09__16-06-52-462000HNM=best50_median11_NOcoloring_win48_ori=12_ppc=6_cpb=2/\"\n",
      "# a k tomu min_prob = 0.725"
     ],
     "language": "python",
     "metadata": {},
     "outputs": []
    }
   ],
   "metadata": {}
  }
 ]
}