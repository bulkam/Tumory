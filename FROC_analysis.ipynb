{
 "metadata": {
  "name": "",
  "signature": "sha256:f4c772f583999fd0b193a4845cbc0261c2a59ab69056cead1399b3970003f0fd"
 },
 "nbformat": 3,
 "nbformat_minor": 0,
 "worksheets": [
  {
   "cells": [
    {
     "cell_type": "code",
     "collapsed": false,
     "input": [
      "import data_reader as dr\n",
      "from matplotlib import pyplot as plt\n",
      "import os.path as op\n",
      "import os\n",
      "import pandas as pd\n",
      "import numpy as np"
     ],
     "language": "python",
     "metadata": {},
     "outputs": [],
     "prompt_number": 1
    },
    {
     "cell_type": "code",
     "collapsed": false,
     "input": [
      "dataset = dr.DATAset()\n",
      "dataset.create_dataset_CT()\n",
      "config = dataset.config"
     ],
     "language": "python",
     "metadata": {},
     "outputs": [
      {
       "output_type": "stream",
       "stream": "stdout",
       "text": [
        "Vytvoren dataset\n"
       ]
      }
     ],
     "prompt_number": 2
    },
    {
     "cell_type": "code",
     "collapsed": false,
     "input": [
      "class Evaluation():\n",
      "    \n",
      "    def __init__(self, foldername):\n",
      "        \n",
      "        self.config = dr.load_json(foldername + \"CT.json\")\n",
      "        self.result = dr.load_json(foldername + \"nms_overlap_evaluation.json\")\n",
      "        self.foldername = foldername\n",
      "        \n",
      "        #self.coloring = bool(self.config[\"background_coloring\"])\n",
      "        #self.n_components = self.config[\"n_for_PCA\"]\n",
      "        \n",
      "        self.recall = self.result[\"recall\"]\n",
      "        self.TPR = self.result[\"TPR\"]\n",
      "        self.precision = self.result[\"precision\"]\n",
      "        self.FPC = self.result[\"FPC\"]\n",
      "                \n",
      "        self.TN = self.result[\"TN\"]\n",
      "        self.TP = self.result[\"TP\"]\n",
      "        self.FP = self.result[\"FP\"]\n",
      "        self.FN = self.result[\"FN\"]"
     ],
     "language": "python",
     "metadata": {},
     "outputs": [],
     "prompt_number": 3
    },
    {
     "cell_type": "code",
     "collapsed": false,
     "input": [
      "folders = [f + \"/\" for f in os.listdir(config[\"result_path\"]) if not op.isfile(f) and f.startswith(\"20\")]\n",
      "#print folders\n",
      "\n",
      "results = []\n",
      "\n",
      "for folder in folders:\n",
      "    try:\n",
      "        results.append(Evaluation(config[\"result_path\"] + folder))\n",
      "        print \"Nalezen soubor!\"\n",
      "    except:\n",
      "        print \"Slozka \"+str(folder)+\" nema soubor s nazvem nms_overlap_evaluation.json\""
     ],
     "language": "python",
     "metadata": {},
     "outputs": [
      {
       "output_type": "stream",
       "stream": "stdout",
       "text": [
        "Slozka 2017-10-21__20-15-01-444000/ nema soubor s nazvem nms_overlap_evaluation.json\n",
        "Slozka 2017-10-21__20-22-34-008000/ nema soubor s nazvem nms_overlap_evaluation.json\n",
        "Slozka 2017-10-22__12-10-12-067000/ nema soubor s nazvem nms_overlap_evaluation.json\n",
        "Slozka 2017-10-26__17-34-38-317000/ nema soubor s nazvem nms_overlap_evaluation.json\n",
        "Nalezen soubor!\n",
        "Nalezen soubor!\n",
        "Nalezen soubor!\n",
        "Nalezen soubor!\n",
        "Nalezen soubor!\n",
        "Nalezen soubor!\n",
        "Nalezen soubor!\n"
       ]
      }
     ],
     "prompt_number": 4
    },
    {
     "cell_type": "code",
     "collapsed": false,
     "input": [
      "print [e.FPC for e in results]"
     ],
     "language": "python",
     "metadata": {},
     "outputs": [
      {
       "output_type": "stream",
       "stream": "stdout",
       "text": [
        "[1, 1.0, 0.8333333333333334, 4.125, 0.8888888888888888, 1.1111111111111112, 1.1111111111111112]\n"
       ]
      }
     ],
     "prompt_number": 5
    },
    {
     "cell_type": "markdown",
     "metadata": {},
     "source": [
      "# Grafy"
     ]
    },
    {
     "cell_type": "code",
     "collapsed": false,
     "input": [
      "results_sorted = sorted(results, key=lambda x: x.FPC, reverse=False)\n",
      "\n",
      "x = np.array([e.FPC for e in results_sorted])\n",
      "y = np.array([e.TPR for e in results_sorted])\n",
      "\n",
      "print x\n",
      "print y"
     ],
     "language": "python",
     "metadata": {},
     "outputs": [
      {
       "output_type": "stream",
       "stream": "stdout",
       "text": [
        "[ 0.83333333  0.88888889  1.          1.          1.11111111  1.11111111\n",
        "  4.125     ]\n",
        "[ 0.81818182  1.          0.          0.875       0.33333333  0.33333333\n",
        "  0.56521739]\n"
       ]
      }
     ],
     "prompt_number": 11
    },
    {
     "cell_type": "code",
     "collapsed": false,
     "input": [
      "plt.plot(x, y)\n",
      "plt.xlim(min(x), max(x))\n",
      "plt.ylim(0, 1)\n",
      "plt.fill_between(x, y, 0, where = y == y, facecolor='b', alpha=0.3)\n",
      "#plt.grid()\n",
      "for i in xrange(len(x)):\n",
      "    plt.axvline(x[i], ymin=0, ymax=y[i], linestyle=\":\", color=\"black\", lw=2)\n",
      "    plt.axhline(y[i], xmin=0, xmax=float(x[i]-min(x))/(max(x)-min(x)), linestyle=\":\", color=\"black\", lw=2)\n",
      "plt.show()"
     ],
     "language": "python",
     "metadata": {},
     "outputs": [],
     "prompt_number": 33
    },
    {
     "cell_type": "code",
     "collapsed": false,
     "input": [
      "x = np.random.rand(15)\n",
      "plt.plot(x)\n",
      "plt.fill_between(np.arange(len(x)), x, 0, where = x > 0, facecolor='b', alpha=0.3)\n",
      "plt.grid()\n",
      "plt.show()"
     ],
     "language": "python",
     "metadata": {},
     "outputs": [],
     "prompt_number": 8
    },
    {
     "cell_type": "code",
     "collapsed": false,
     "input": [],
     "language": "python",
     "metadata": {},
     "outputs": []
    }
   ],
   "metadata": {}
  }
 ]
}