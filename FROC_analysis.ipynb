{
 "metadata": {
  "name": "",
  "signature": "sha256:f24488a720b496fd2907fa4f6e56c5131bee622bd07d2afeef1ca0974a46f26a"
 },
 "nbformat": 3,
 "nbformat_minor": 0,
 "worksheets": [
  {
   "cells": [
    {
     "cell_type": "code",
     "collapsed": false,
     "input": [
      "import data_reader as dr\n",
      "\n",
      "import classifier as clas\n",
      "from matplotlib import pyplot as plt\n",
      "import os.path as op\n",
      "import os\n",
      "import pandas as pd\n",
      "import numpy as np\n",
      "from collections import OrderedDict"
     ],
     "language": "python",
     "metadata": {},
     "outputs": [
      {
       "output_type": "stream",
       "stream": "stdout",
       "text": [
        "Vytvoren dataset\n"
       ]
      }
     ],
     "prompt_number": 2
    },
    {
     "cell_type": "code",
     "collapsed": false,
     "input": [
      "dataset = dr.DATAset()\n",
      "dataset.create_dataset_CT()\n",
      "config = dataset.config"
     ],
     "language": "python",
     "metadata": {},
     "outputs": [
      {
       "output_type": "stream",
       "stream": "stdout",
       "text": [
        "Vytvoren dataset\n"
       ]
      }
     ],
     "prompt_number": 3
    },
    {
     "cell_type": "code",
     "collapsed": false,
     "input": [
      "class Evaluation():\n",
      "    \n",
      "    def __init__(self, foldername):\n",
      "        \n",
      "        self.config = dr.load_json(foldername + \"CT.json\")\n",
      "        self.result = dr.load_json(foldername + \"nms_overlap_evaluation.json\")\n",
      "        self.foldername = foldername\n",
      "        \n",
      "        #self.coloring = bool(self.config[\"background_coloring\"])\n",
      "        #self.n_components = self.config[\"n_for_PCA\"]\n",
      "        \n",
      "        self.recall = self.result[\"recall\"]\n",
      "        self.TPR = self.result[\"TPR\"]\n",
      "        self.precision = self.result[\"precision\"]\n",
      "        self.FPC = self.result[\"FPC\"]\n",
      "                \n",
      "        self.TN = self.result[\"TN\"]\n",
      "        self.TP = self.result[\"TP\"]\n",
      "        self.FP = self.result[\"FP\"]\n",
      "        self.FN = self.result[\"FN\"]"
     ],
     "language": "python",
     "metadata": {},
     "outputs": []
    },
    {
     "cell_type": "code",
     "collapsed": false,
     "input": [
      "folders = [f + \"/\" for f in os.listdir(config[\"result_path\"]) if not op.isfile(f) and f.startswith(\"20\")]\n",
      "#print folders\n",
      "\n",
      "results = []\n",
      "\n",
      "for folder in folders:\n",
      "    try:\n",
      "        results.append(Evaluation(config[\"result_path\"] + folder))\n",
      "        print \"Nalezen soubor!\"\n",
      "    except:\n",
      "        print \"Slozka \"+str(folder)+\" nema soubor s nazvem nms_overlap_evaluation.json\""
     ],
     "language": "python",
     "metadata": {},
     "outputs": []
    },
    {
     "cell_type": "code",
     "collapsed": false,
     "input": [
      "print [e.FPC for e in results]"
     ],
     "language": "python",
     "metadata": {},
     "outputs": []
    },
    {
     "cell_type": "markdown",
     "metadata": {},
     "source": [
      "# Grafy"
     ]
    },
    {
     "cell_type": "code",
     "collapsed": false,
     "input": [
      "results_sorted = sorted(results, key=lambda x: x.FPC, reverse=False)\n",
      "\n",
      "x = np.array([e.FPC for e in results_sorted])\n",
      "y = np.array([e.TPR for e in results_sorted])\n",
      "\n",
      "print x\n",
      "print y"
     ],
     "language": "python",
     "metadata": {},
     "outputs": []
    },
    {
     "cell_type": "code",
     "collapsed": false,
     "input": [
      "plt.plot(x, y)\n",
      "plt.xlim(min(x), max(x))\n",
      "plt.ylim(0, 1)\n",
      "plt.fill_between(x, y, 0, where = y == y, facecolor='b', alpha=0.3)\n",
      "#plt.grid()\n",
      "for i in xrange(len(x)):\n",
      "    plt.axvline(x[i], ymin=0, ymax=y[i], linestyle=\":\", color=\"black\", lw=2)\n",
      "    plt.axhline(y[i], xmin=0, xmax=float(x[i]-min(x))/(max(x)-min(x)), linestyle=\":\", color=\"black\", lw=2)\n",
      "plt.show()"
     ],
     "language": "python",
     "metadata": {},
     "outputs": []
    },
    {
     "cell_type": "code",
     "collapsed": false,
     "input": [
      "x = np.random.rand(15)\n",
      "plt.plot(x)\n",
      "plt.fill_between(np.arange(len(x)), x, 0, where = x > 0, facecolor='b', alpha=0.3)\n",
      "plt.grid()\n",
      "plt.show()"
     ],
     "language": "python",
     "metadata": {},
     "outputs": []
    },
    {
     "cell_type": "markdown",
     "metadata": {},
     "source": [
      "# FROC analyza"
     ]
    },
    {
     "cell_type": "code",
     "collapsed": false,
     "input": [
      "svm = clas.Classifier()\n",
      "fname = \"classification/results/hnm_nocoloring/2017-11-02__08-09-15-901000HNM=best50_bilateral9_NO_coloring_win48_col27_ori=9_ppc=6_cpb=2/test_results.json\"\n",
      "svm.test_results = dr.load_json(fname)"
     ],
     "language": "python",
     "metadata": {},
     "outputs": [],
     "prompt_number": 4
    },
    {
     "cell_type": "code",
     "collapsed": false,
     "input": [
      "\"\"\" Premarkovani podle ppsti \"\"\"\n",
      "\n",
      "thrs = np.arange(0.5, 0.98, 0.025)\n",
      "\n",
      "for thr in thrs:\n",
      "    for imgname, values in svm.test_results.items():\n",
      "        svm.min_prob = thr\n",
      "        for i, value in enumerate(values):\n",
      "            svm.test_results[imgname][i][\"mark\"] = int(value[\"result\"][0] > thr)\n",
      "        for res in svm.test_results[imgname]:\n",
      "            if res[\"mark\"] == 1:\n",
      "                svm.test_results_nms[imgname] = svm.non_maxima_suppression(imgname, to_print=False)\n",
      "                break\n",
      "    print \"[RESULT] Prah: \" + str(thr)\n",
      "    svm.evaluate_nms_results_overlap(print_steps=False)\n",
      "    #FROC_results[\"\"]"
     ],
     "language": "python",
     "metadata": {},
     "outputs": [
      {
       "output_type": "stream",
       "stream": "stdout",
       "text": [
        "[RESULT] Prah: 0.5\n",
        "[RESULT] Celkove vysledky pro 404 obrazku:"
       ]
      },
      {
       "output_type": "stream",
       "stream": "stdout",
       "text": [
        "\n",
        "         TP: 323\n",
        "         TN: 0\n",
        "         FP: 965\n",
        "         FN: 127\n",
        "        TPR: 0.717777777778\n",
        "  precision: 0.250776397516\n",
        "        FPC: 2.38861386139\n",
        "[RESULT] Prah: 0.525"
       ]
      },
      {
       "output_type": "stream",
       "stream": "stdout",
       "text": [
        "\n",
        "[RESULT] Celkove vysledky pro 404 obrazku:"
       ]
      },
      {
       "output_type": "stream",
       "stream": "stdout",
       "text": [
        "\n",
        "         TP: 322\n",
        "         TN: 0\n",
        "         FP: 936\n",
        "         FN: 128\n",
        "        TPR: 0.715555555556\n",
        "  precision: 0.255961844197\n",
        "        FPC: 2.31683168317\n",
        "[RESULT] Prah: 0.55"
       ]
      },
      {
       "output_type": "stream",
       "stream": "stdout",
       "text": [
        "\n",
        "[RESULT] Celkove vysledky pro 404 obrazku:"
       ]
      },
      {
       "output_type": "stream",
       "stream": "stdout",
       "text": [
        "\n",
        "         TP: 321\n",
        "         TN: 0\n",
        "         FP: 919\n",
        "         FN: 129\n",
        "        TPR: 0.713333333333\n",
        "  precision: 0.258870967742\n",
        "        FPC: 2.27475247525\n",
        "[RESULT] Prah: 0.575"
       ]
      },
      {
       "output_type": "stream",
       "stream": "stdout",
       "text": [
        "\n",
        "[RESULT] Celkove vysledky pro 404 obrazku:"
       ]
      },
      {
       "output_type": "stream",
       "stream": "stdout",
       "text": [
        "\n",
        "         TP: 320\n",
        "         TN: 0\n",
        "         FP: 891\n",
        "         FN: 129\n",
        "        TPR: 0.712694877506\n",
        "  precision: 0.264244426094\n",
        "        FPC: 2.20544554455\n",
        "[RESULT] Prah: 0.6"
       ]
      },
      {
       "output_type": "stream",
       "stream": "stdout",
       "text": [
        "\n",
        "[RESULT] Celkove vysledky pro 404 obrazku:"
       ]
      },
      {
       "output_type": "stream",
       "stream": "stdout",
       "text": [
        "\n",
        "         TP: 319\n",
        "         TN: 0\n",
        "         FP: 865\n",
        "         FN: 129\n",
        "        TPR: 0.712053571429\n",
        "  precision: 0.269425675676\n",
        "        FPC: 2.14108910891\n",
        "[RESULT] Prah: 0.625"
       ]
      },
      {
       "output_type": "stream",
       "stream": "stdout",
       "text": [
        "\n",
        "[RESULT] Celkove vysledky pro 404 obrazku:"
       ]
      },
      {
       "output_type": "stream",
       "stream": "stdout",
       "text": [
        "\n",
        "         TP: 319\n",
        "         TN: 0\n",
        "         FP: 843\n",
        "         FN: 129\n",
        "        TPR: 0.712053571429\n",
        "  precision: 0.274526678141\n",
        "        FPC: 2.08663366337\n",
        "[RESULT] Prah: 0.65"
       ]
      },
      {
       "output_type": "stream",
       "stream": "stdout",
       "text": [
        "\n",
        "[RESULT] Celkove vysledky pro 404 obrazku:"
       ]
      },
      {
       "output_type": "stream",
       "stream": "stdout",
       "text": [
        "\n",
        "         TP: 319\n",
        "         TN: 0\n",
        "         FP: 826\n",
        "         FN: 129\n",
        "        TPR: 0.712053571429\n",
        "  precision: 0.278602620087\n",
        "        FPC: 2.04455445545\n",
        "[RESULT] Prah: 0.675"
       ]
      },
      {
       "output_type": "stream",
       "stream": "stdout",
       "text": [
        "\n",
        "[RESULT] Celkove vysledky pro 404 obrazku:"
       ]
      },
      {
       "output_type": "stream",
       "stream": "stdout",
       "text": [
        "\n",
        "         TP: 316\n",
        "         TN: 0\n",
        "         FP: 803\n",
        "         FN: 130\n",
        "        TPR: 0.708520179372\n",
        "  precision: 0.282394995532\n",
        "        FPC: 1.98762376238\n",
        "[RESULT] Prah: 0.7"
       ]
      },
      {
       "output_type": "stream",
       "stream": "stdout",
       "text": [
        "\n",
        "[RESULT] Celkove vysledky pro 404 obrazku:"
       ]
      },
      {
       "output_type": "stream",
       "stream": "stdout",
       "text": [
        "\n",
        "         TP: 316\n",
        "         TN: 0\n",
        "         FP: 785\n",
        "         FN: 130\n",
        "        TPR: 0.708520179372\n",
        "  precision: 0.287011807448\n",
        "        FPC: 1.94306930693\n",
        "[RESULT] Prah: 0.725"
       ]
      },
      {
       "output_type": "stream",
       "stream": "stdout",
       "text": [
        "\n",
        "[RESULT] Celkove vysledky pro 404 obrazku:"
       ]
      },
      {
       "output_type": "stream",
       "stream": "stdout",
       "text": [
        "\n",
        "         TP: 312\n",
        "         TN: 0\n",
        "         FP: 763\n",
        "         FN: 132\n",
        "        TPR: 0.702702702703\n",
        "  precision: 0.29023255814\n",
        "        FPC: 1.88861386139\n",
        "[RESULT] Prah: 0.75"
       ]
      },
      {
       "output_type": "stream",
       "stream": "stdout",
       "text": [
        "\n",
        "[RESULT] Celkove vysledky pro 404 obrazku:"
       ]
      },
      {
       "output_type": "stream",
       "stream": "stdout",
       "text": [
        "\n",
        "         TP: 311\n",
        "         TN: 0\n",
        "         FP: 735\n",
        "         FN: 132\n",
        "        TPR: 0.702031602709\n",
        "  precision: 0.297323135755\n",
        "        FPC: 1.81930693069\n",
        "[RESULT] Prah: 0.775"
       ]
      },
      {
       "output_type": "stream",
       "stream": "stdout",
       "text": [
        "\n",
        "[RESULT] Celkove vysledky pro 404 obrazku:"
       ]
      },
      {
       "output_type": "stream",
       "stream": "stdout",
       "text": [
        "\n",
        "         TP: 309\n",
        "         TN: 0\n",
        "         FP: 714\n",
        "         FN: 132\n",
        "        TPR: 0.700680272109\n",
        "  precision: 0.302052785924\n",
        "        FPC: 1.76732673267\n",
        "[RESULT] Prah: 0.8"
       ]
      },
      {
       "output_type": "stream",
       "stream": "stdout",
       "text": [
        "\n",
        "[RESULT] Celkove vysledky pro 404 obrazku:"
       ]
      },
      {
       "output_type": "stream",
       "stream": "stdout",
       "text": [
        "\n",
        "         TP: 306\n",
        "         TN: 0\n",
        "         FP: 686\n",
        "         FN: 134\n",
        "        TPR: 0.695454545455\n",
        "  precision: 0.308467741935\n",
        "        FPC: 1.69801980198\n",
        "[RESULT] Prah: 0.825"
       ]
      },
      {
       "output_type": "stream",
       "stream": "stdout",
       "text": [
        "\n",
        "[RESULT] Celkove vysledky pro 404 obrazku:"
       ]
      },
      {
       "output_type": "stream",
       "stream": "stdout",
       "text": [
        "\n",
        "         TP: 304\n",
        "         TN: 0\n",
        "         FP: 655\n",
        "         FN: 136\n",
        "        TPR: 0.690909090909\n",
        "  precision: 0.316996871741\n",
        "        FPC: 1.62128712871\n",
        "[RESULT] Prah: 0.85"
       ]
      },
      {
       "output_type": "stream",
       "stream": "stdout",
       "text": [
        "\n",
        "[RESULT] Celkove vysledky pro 404 obrazku:"
       ]
      },
      {
       "output_type": "stream",
       "stream": "stdout",
       "text": [
        "\n",
        "         TP: 300\n",
        "         TN: 0\n",
        "         FP: 625\n",
        "         FN: 137\n",
        "        TPR: 0.686498855835\n",
        "  precision: 0.324324324324\n",
        "        FPC: 1.54702970297\n",
        "[RESULT] Prah: 0.875"
       ]
      },
      {
       "output_type": "stream",
       "stream": "stdout",
       "text": [
        "\n",
        "[RESULT] Celkove vysledky pro 404 obrazku:"
       ]
      },
      {
       "output_type": "stream",
       "stream": "stdout",
       "text": [
        "\n",
        "         TP: 294\n",
        "         TN: 0\n",
        "         FP: 586\n",
        "         FN: 140\n",
        "        TPR: 0.677419354839\n",
        "  precision: 0.334090909091\n",
        "        FPC: 1.4504950495\n",
        "[RESULT] Prah: 0.9"
       ]
      },
      {
       "output_type": "stream",
       "stream": "stdout",
       "text": [
        "\n",
        "[RESULT] Celkove vysledky pro 404 obrazku:"
       ]
      },
      {
       "output_type": "stream",
       "stream": "stdout",
       "text": [
        "\n",
        "         TP: 291\n",
        "         TN: 0\n",
        "         FP: 539\n",
        "         FN: 143\n",
        "        TPR: 0.670506912442\n",
        "  precision: 0.350602409639\n",
        "        FPC: 1.33415841584\n",
        "[RESULT] Prah: 0.925"
       ]
      },
      {
       "output_type": "stream",
       "stream": "stdout",
       "text": [
        "\n",
        "[RESULT] Celkove vysledky pro 404 obrazku:"
       ]
      },
      {
       "output_type": "stream",
       "stream": "stdout",
       "text": [
        "\n",
        "         TP: 288\n",
        "         TN: 0\n",
        "         FP: 492\n",
        "         FN: 143\n",
        "        TPR: 0.668213457077\n",
        "  precision: 0.369230769231\n",
        "        FPC: 1.21782178218\n",
        "[RESULT] Prah: 0.95"
       ]
      },
      {
       "output_type": "stream",
       "stream": "stdout",
       "text": [
        "\n",
        "[RESULT] Celkove vysledky pro 404 obrazku:"
       ]
      },
      {
       "output_type": "stream",
       "stream": "stdout",
       "text": [
        "\n",
        "         TP: 283\n",
        "         TN: 0\n",
        "         FP: 439\n",
        "         FN: 146\n",
        "        TPR: 0.659673659674\n",
        "  precision: 0.391966759003\n",
        "        FPC: 1.08663366337\n",
        "[RESULT] Prah: 0.975"
       ]
      },
      {
       "output_type": "stream",
       "stream": "stdout",
       "text": [
        "\n",
        "[RESULT] Celkove vysledky pro 404 obrazku:"
       ]
      },
      {
       "output_type": "stream",
       "stream": "stdout",
       "text": [
        "\n",
        "         TP: 276\n",
        "         TN: 0\n",
        "         FP: 362\n",
        "         FN: 149\n",
        "        TPR: 0.649411764706\n",
        "  precision: 0.432601880878\n",
        "        FPC: 0.89603960396\n"
       ]
      }
     ],
     "prompt_number": 6
    },
    {
     "cell_type": "code",
     "collapsed": false,
     "input": [
      "plt.figure(figsize=(18, 10))\n",
      "plt.title(u\"FROC anal\u00fdza\")\n",
      "\n",
      "TPRs = list()\n",
      "FPCs = list()\n",
      "\n",
      "scores = OrderedDict(sorted(svm.FROC_scores.items()), key=lambda x: -x[1][\"FPC\"])\n",
      "#print scores.items()\n",
      "\n",
      "for thr, results in scores.items():\n",
      "    #print results\n",
      "    try:\n",
      "        TPRs.append(results[\"TPR\"])\n",
      "        FPCs.append(results[\"FPC\"])\n",
      "    except:\n",
      "        pass\n",
      "\n",
      "indxs = np.argsort(FPCs)\n",
      "FPCs = np.array(FPCs)[indxs]\n",
      "TPRs = np.array(TPRs)[indxs]\n",
      "probs = np.array(scores.keys())[indxs]\n",
      "print probs\n",
      "\n",
      "plt.plot(FPCs, TPRs)\n",
      "plt.grid()\n",
      "plt.fill_between(FPCs, TPRs , 0, where = FPCs == FPCs, facecolor='b', alpha=0.3)\n",
      "\n",
      "up_offset = 0.01\n",
      "plt.xlim((min(FPCs), max(FPCs)))\n",
      "plt.ylim((min(TPRs), max(TPRs)+up_offset))\n",
      "plt.xlabel(\"FPC\")\n",
      "plt.ylabel(\"TPR\")\n",
      "\n",
      "x = FPCs\n",
      "y = TPRs\n",
      "\n",
      "for i in xrange(len(x)):\n",
      "    plt.axvline(x[i], ymin=0, ymax=float(y[i]-min(y))/(max(y)+up_offset-min(y)), linestyle=\"--\", color=\"blue\", lw=1)\n",
      "    plt.axhline(y[i], xmin=0, xmax=float(x[i]-min(x))/(max(x)-min(x)), linestyle=\"--\", color=\"blue\", lw=1)\n",
      "    plt.annotate(probs[i], xy=(x[i], y[i]), xytext=(-30, 20), textcoords='offset points', ha='right', va='bottom',\n",
      "                 arrowprops=dict(arrowstyle = '->', connectionstyle='arc3,rad=0'),\n",
      "                 bbox=dict(boxstyle='round, pad=0.1', fc='cyan', alpha=0.6),)\n",
      "    \n",
      "plt.show()"
     ],
     "language": "python",
     "metadata": {},
     "outputs": []
    },
    {
     "cell_type": "code",
     "collapsed": false,
     "input": [],
     "language": "python",
     "metadata": {},
     "outputs": [],
     "prompt_number": 1
    },
    {
     "cell_type": "code",
     "collapsed": false,
     "input": [],
     "language": "python",
     "metadata": {},
     "outputs": []
    }
   ],
   "metadata": {}
  }
 ]
}