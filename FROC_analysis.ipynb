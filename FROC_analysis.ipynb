{
 "metadata": {
  "name": "",
  "signature": "sha256:b5c26b31a84944c3c3cd57194f6b1a0c4876e72497cfb7a625e873b010e07e9e"
 },
 "nbformat": 3,
 "nbformat_minor": 0,
 "worksheets": [
  {
   "cells": [
    {
     "cell_type": "code",
     "collapsed": false,
     "input": [
      "import data_reader as dr\n",
      "from matplotlib import pyplot as plt\n",
      "import os.path as op\n",
      "import os\n",
      "import pandas as pd\n",
      "import numpy as np"
     ],
     "language": "python",
     "metadata": {},
     "outputs": []
    },
    {
     "cell_type": "code",
     "collapsed": false,
     "input": [
      "dataset = dr.DATAset()\n",
      "dataset.create_dataset_CT()\n",
      "config = dataset.config"
     ],
     "language": "python",
     "metadata": {},
     "outputs": []
    },
    {
     "cell_type": "code",
     "collapsed": false,
     "input": [
      "class Evaluation():\n",
      "    \n",
      "    def __init__(self, foldername):\n",
      "        \n",
      "        self.config = dr.load_json(foldername + \"CT.json\")\n",
      "        self.result = dr.load_json(foldername + \"nms_overlap_evaluation.json\")\n",
      "        self.foldername = foldername\n",
      "        \n",
      "        #self.coloring = bool(self.config[\"background_coloring\"])\n",
      "        #self.n_components = self.config[\"n_for_PCA\"]\n",
      "        \n",
      "        self.recall = self.result[\"recall\"]\n",
      "        self.TPR = self.result[\"TPR\"]\n",
      "        self.precision = self.result[\"precision\"]\n",
      "        self.FPC = self.result[\"FPC\"]\n",
      "                \n",
      "        self.TN = self.result[\"TN\"]\n",
      "        self.TP = self.result[\"TP\"]\n",
      "        self.FP = self.result[\"FP\"]\n",
      "        self.FN = self.result[\"FN\"]"
     ],
     "language": "python",
     "metadata": {},
     "outputs": []
    },
    {
     "cell_type": "code",
     "collapsed": false,
     "input": [
      "folders = [f + \"/\" for f in os.listdir(config[\"result_path\"]) if not op.isfile(f) and f.startswith(\"20\")]\n",
      "#print folders\n",
      "\n",
      "results = []\n",
      "\n",
      "for folder in folders:\n",
      "    try:\n",
      "        results.append(Evaluation(config[\"result_path\"] + folder))\n",
      "        print \"Nalezen soubor!\"\n",
      "    except:\n",
      "        print \"Slozka \"+str(folder)+\" nema soubor s nazvem nms_overlap_evaluation.json\""
     ],
     "language": "python",
     "metadata": {},
     "outputs": []
    },
    {
     "cell_type": "code",
     "collapsed": false,
     "input": [
      "print [e.FPC for e in results]"
     ],
     "language": "python",
     "metadata": {},
     "outputs": []
    },
    {
     "cell_type": "markdown",
     "metadata": {},
     "source": [
      "# Grafy"
     ]
    },
    {
     "cell_type": "code",
     "collapsed": false,
     "input": [
      "results_sorted = sorted(results, key=lambda x: x.FPC, reverse=False)\n",
      "\n",
      "x = np.array([e.FPC for e in results_sorted])\n",
      "y = np.array([e.TPR for e in results_sorted])\n",
      "\n",
      "print x\n",
      "print y"
     ],
     "language": "python",
     "metadata": {},
     "outputs": []
    },
    {
     "cell_type": "code",
     "collapsed": false,
     "input": [
      "plt.plot(x, y)\n",
      "plt.xlim(min(x), max(x))\n",
      "plt.ylim(0, 1)\n",
      "plt.fill_between(x, y, 0, where = y == y, facecolor='b', alpha=0.3)\n",
      "#plt.grid()\n",
      "for i in xrange(len(x)):\n",
      "    plt.axvline(x[i], ymin=0, ymax=y[i], linestyle=\":\", color=\"black\", lw=2)\n",
      "    plt.axhline(y[i], xmin=0, xmax=float(x[i]-min(x))/(max(x)-min(x)), linestyle=\":\", color=\"black\", lw=2)\n",
      "plt.show()"
     ],
     "language": "python",
     "metadata": {},
     "outputs": []
    },
    {
     "cell_type": "code",
     "collapsed": false,
     "input": [
      "x = np.random.rand(15)\n",
      "plt.plot(x)\n",
      "plt.fill_between(np.arange(len(x)), x, 0, where = x > 0, facecolor='b', alpha=0.3)\n",
      "plt.grid()\n",
      "plt.show()"
     ],
     "language": "python",
     "metadata": {},
     "outputs": []
    },
    {
     "cell_type": "code",
     "collapsed": false,
     "input": [],
     "language": "python",
     "metadata": {},
     "outputs": []
    }
   ],
   "metadata": {}
  }
 ]
}