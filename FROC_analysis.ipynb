{
 "metadata": {
  "name": "",
  "signature": "sha256:5c41a7c705ea541e6d21c29fd274447abad79e2740f9674c0a28313310b6bf76"
 },
 "nbformat": 3,
 "nbformat_minor": 0,
 "worksheets": [
  {
   "cells": [
    {
     "cell_type": "code",
     "collapsed": false,
     "input": [
      "import data_reader as dr\n",
      "\n",
      "import classifier as clas\n",
      "from matplotlib import pyplot as plt\n",
      "import os.path as op\n",
      "import os\n",
      "import pandas as pd\n",
      "import numpy as np\n",
      "from collections import OrderedDict"
     ],
     "language": "python",
     "metadata": {},
     "outputs": [
      {
       "output_type": "stream",
       "stream": "stdout",
       "text": [
        "Vytvoren dataset\n"
       ]
      }
     ],
     "prompt_number": 1
    },
    {
     "cell_type": "code",
     "collapsed": false,
     "input": [
      "dataset = dr.DATAset()\n",
      "dataset.create_dataset_CT()\n",
      "config = dataset.config"
     ],
     "language": "python",
     "metadata": {},
     "outputs": [
      {
       "output_type": "stream",
       "stream": "stdout",
       "text": [
        "Vytvoren dataset\n"
       ]
      }
     ],
     "prompt_number": 2
    },
    {
     "cell_type": "code",
     "collapsed": false,
     "input": [
      "class Evaluation():\n",
      "    \n",
      "    def __init__(self, foldername):\n",
      "        \n",
      "        self.config = dr.load_json(foldername + \"CT.json\")\n",
      "        self.result = dr.load_json(foldername + \"nms_overlap_evaluation.json\")\n",
      "        self.foldername = foldername\n",
      "        \n",
      "        #self.coloring = bool(self.config[\"background_coloring\"])\n",
      "        #self.n_components = self.config[\"n_for_PCA\"]\n",
      "        \n",
      "        self.recall = self.result[\"recall\"]\n",
      "        self.TPR = self.result[\"TPR\"]\n",
      "        self.precision = self.result[\"precision\"]\n",
      "        self.FPC = self.result[\"FPC\"]\n",
      "                \n",
      "        self.TN = self.result[\"TN\"]\n",
      "        self.TP = self.result[\"TP\"]\n",
      "        self.FP = self.result[\"FP\"]\n",
      "        self.FN = self.result[\"FN\"]"
     ],
     "language": "python",
     "metadata": {},
     "outputs": [],
     "prompt_number": 3
    },
    {
     "cell_type": "code",
     "collapsed": false,
     "input": [
      "folders = [f + \"/\" for f in os.listdir(config[\"result_path\"]) if not op.isfile(f) and f.startswith(\"20\")]\n",
      "#print folders\n",
      "\n",
      "results = []\n",
      "\n",
      "for folder in folders:\n",
      "    try:\n",
      "        results.append(Evaluation(config[\"result_path\"] + folder))\n",
      "        print \"Nalezen soubor!\"\n",
      "    except:\n",
      "        print \"Slozka \"+str(folder)+\" nema soubor s nazvem nms_overlap_evaluation.json\""
     ],
     "language": "python",
     "metadata": {},
     "outputs": [],
     "prompt_number": 4
    },
    {
     "cell_type": "code",
     "collapsed": false,
     "input": [
      "print [e.FPC for e in results]"
     ],
     "language": "python",
     "metadata": {},
     "outputs": [
      {
       "output_type": "stream",
       "stream": "stdout",
       "text": [
        "[]\n"
       ]
      }
     ],
     "prompt_number": 5
    },
    {
     "cell_type": "markdown",
     "metadata": {},
     "source": [
      "# Grafy"
     ]
    },
    {
     "cell_type": "code",
     "collapsed": false,
     "input": [
      "results_sorted = sorted(results, key=lambda x: x.FPC, reverse=False)\n",
      "\n",
      "x = np.array([e.FPC for e in results_sorted])\n",
      "y = np.array([e.TPR for e in results_sorted])\n",
      "\n",
      "print x\n",
      "print y"
     ],
     "language": "python",
     "metadata": {},
     "outputs": []
    },
    {
     "cell_type": "code",
     "collapsed": false,
     "input": [
      "plt.plot(x, y)\n",
      "plt.xlim(min(x), max(x))\n",
      "plt.ylim(0, 1)\n",
      "plt.fill_between(x, y, 0, where = y == y, facecolor='b', alpha=0.3)\n",
      "#plt.grid()\n",
      "for i in xrange(len(x)):\n",
      "    plt.axvline(x[i], ymin=0, ymax=y[i], linestyle=\":\", color=\"black\", lw=2)\n",
      "    plt.axhline(y[i], xmin=0, xmax=float(x[i]-min(x))/(max(x)-min(x)), linestyle=\":\", color=\"black\", lw=2)\n",
      "plt.show()"
     ],
     "language": "python",
     "metadata": {},
     "outputs": []
    },
    {
     "cell_type": "code",
     "collapsed": false,
     "input": [
      "x = np.random.rand(15)\n",
      "plt.plot(x)\n",
      "plt.fill_between(np.arange(len(x)), x, 0, where = x > 0, facecolor='b', alpha=0.3)\n",
      "plt.grid()\n",
      "plt.show()"
     ],
     "language": "python",
     "metadata": {},
     "outputs": []
    },
    {
     "cell_type": "markdown",
     "metadata": {},
     "source": [
      "# FROC analyza"
     ]
    },
    {
     "cell_type": "code",
     "collapsed": false,
     "input": [
      "svm = clas.Classifier()\n",
      "folder = \"classification/results/gold/2017-11-09__16-06-52-462000HNM=best50_median11_NOcoloring_win48_ori=12_ppc=6_cpb=2/\"\n",
      "#folder = \"classification/results/gold/2017-11-09__05-28-02-511000HNM=best50_median15_NOcoloring_win48_ori=9_ppc=6_cpb=2/\"\n",
      "fname = folder + \"test_results.json\"\n",
      "svm.test_results = dr.load_json(fname)"
     ],
     "language": "python",
     "metadata": {},
     "outputs": [],
     "prompt_number": 4
    },
    {
     "cell_type": "code",
     "collapsed": false,
     "input": [
      "def detected(svm, value):\n",
      "    #       ----- Podminka detekce  -----\n",
      "    # rozhodnuti klasifikatoru\n",
      "    R = value[\"result\"][0]  \n",
      "    detection_condition = R > svm.min_prob\n",
      "    # pokud nas zajima zastoupeni jater v celem bb\n",
      "    if svm.liver_coverage_mode:\n",
      "        detection_condition = detection_condition and (value[\"liver_coverage\"]  >= svm.min_liver_coverage)\n",
      "    # pokud nas zajima zastoupeni jater ve stredu\n",
      "    if svm.liver_center_coverage_mode:\n",
      "        if svm.ellipse_mode:\n",
      "            detection_condition = detection_condition and (value[\"liver_center_ellipse_coverage\"]  >= svm.min_liver_center_coverage)\n",
      "            real_mini_bounding_box = None\n",
      "        else:\n",
      "            detection_condition = detection_condition and (value[\"liver_center_coverage\"] >= svm.min_liver_center_coverage)\n",
      "            small_mask = None\n",
      "    else:\n",
      "        real_mini_bounding_box = None\n",
      "        small_mask = None\n",
      "    # pripadna podminka pokryti po stranach\n",
      "    if svm.liver_sides_mode:\n",
      "        sides_coverage, sides_filled = fe.liver_sides_filled(mask_frame, min_coverage=svm.min_liver_side_coverage)\n",
      "        detection_condition = detection_condition and (sides_filled >= svm.min_liver_sides_filled)\n",
      "\n",
      "    return int(detection_condition)"
     ],
     "language": "python",
     "metadata": {},
     "outputs": [],
     "prompt_number": 5
    },
    {
     "cell_type": "code",
     "collapsed": false,
     "input": [
      "print len(svm.test_results.items())"
     ],
     "language": "python",
     "metadata": {},
     "outputs": [
      {
       "output_type": "stream",
       "stream": "stdout",
       "text": [
        "407\n"
       ]
      }
     ],
     "prompt_number": 57
    },
    {
     "cell_type": "code",
     "collapsed": false,
     "input": [
      "\"\"\" Premarkovani podle ppsti \"\"\"\n",
      "\n",
      "thrs = np.arange(0.5, 0.98, 0.025)\n",
      "\n",
      "for thr in thrs:\n",
      "    svm.test_results_nms = {}\n",
      "    for imgname, values in svm.test_results.items():\n",
      "        if \"hard_negative\" in imgname: continue\n",
      "        svm.min_prob = thr\n",
      "        for i, value in enumerate(values):\n",
      "            #svm.test_results[imgname][i][\"mark\"] = int(value[\"result\"][0] >= thr)\n",
      "            svm.test_results[imgname][i][\"mark\"] = detected(svm, value)\n",
      "        for res in svm.test_results[imgname]:\n",
      "            if res[\"mark\"] == 1:\n",
      "                svm.test_results_nms[imgname] = svm.non_maxima_suppression(imgname, to_print=False)\n",
      "                break\n",
      "        if not svm.test_results_nms.has_key(imgname):\n",
      "            svm.test_results_nms[imgname] = []\n",
      "    print \"[RESULT] Prah: \" + str(thr)\n",
      "    svm.evaluate_nms_results_overlap(print_steps=False)\n",
      "    #FROC_results[\"\"]"
     ],
     "language": "python",
     "metadata": {},
     "outputs": []
    },
    {
     "cell_type": "code",
     "collapsed": false,
     "input": [
      "dr.zapis_json(svm.FROC_scores, folder + \"FROC_scores.json\")"
     ],
     "language": "python",
     "metadata": {},
     "outputs": [],
     "prompt_number": 59
    },
    {
     "cell_type": "code",
     "collapsed": false,
     "input": [
      "svm.FROC_scores = dr.load_json(folder + \"FROC_scores.json\")\n",
      "best_value = svm.FROC_scores['0.75000000000000022']\n",
      "best_value = svm.FROC_scores['0.7250000000000002']"
     ],
     "language": "python",
     "metadata": {},
     "outputs": [],
     "prompt_number": 24
    },
    {
     "cell_type": "code",
     "collapsed": false,
     "input": [
      "plt.figure(figsize=(9, 6))\n",
      "plt.title(u\"FROC anal\u00fdza\", fontsize=16)\n",
      "\n",
      "TPRs = list()\n",
      "FPCs = list()\n",
      "\n",
      "scores = OrderedDict(sorted(svm.FROC_scores.items()), key=lambda x: -x[1][\"FPC\"])\n",
      "#print scores.items()\n",
      "\n",
      "for thr, results in scores.items():\n",
      "    #print results\n",
      "    try:\n",
      "        TPRs.append(results[\"TPR\"])\n",
      "        FPCs.append(results[\"FPC\"])\n",
      "    except:\n",
      "        pass\n",
      "\n",
      "indxs = np.argsort(FPCs)\n",
      "FPCs = np.array(FPCs)[indxs]\n",
      "TPRs = np.array(TPRs)[indxs]\n",
      "probs = np.array(scores.keys())[indxs]\n",
      "print probs\n",
      "\n",
      "#step_TPRs = list()\n",
      "#step_FPCs = list()\n",
      "#for i in range(TPRs):    \n",
      "#    step_TPRs.append(TPRs[i])\n",
      "#    step_TPRs.append(TPRs[i])\n",
      "#    step_FPCs.append(FPCs[i])\n",
      "#    step_FPCs.append(FPCs[i+1])\n",
      "\n",
      "plt.plot(FPCs, TPRs, lw=2)\n",
      "plt.scatter(FPCs, TPRs, marker=\"o\")\n",
      "plt.grid()\n",
      "plt.fill_between(FPCs, TPRs , 0, where = FPCs == FPCs, facecolor='b', alpha=0.3)\n",
      "\n",
      "up_offset = 0.01\n",
      "plt.xlim((min(FPCs), max(FPCs)))\n",
      "plt.ylim((min(TPRs), max(TPRs)+up_offset))\n",
      "plt.xlabel(\"FPC\", fontsize=14)\n",
      "plt.ylabel(\"TPR\", fontsize=14)\n",
      "\n",
      "x = FPCs\n",
      "y = TPRs\n",
      "\n",
      "for i in xrange(len(x)):\n",
      "    plt.plot([x[i], x[i]], [min(y), y[i]], linestyle=\"--\", color=\"gray\", lw=1)\n",
      "    plt.plot([min(x), x[i]], [y[i], y[i]], linestyle=\"--\", color=\"gray\", lw=1)\n",
      "    xytext = (-30, 20) if i%2 == 0 else (30, -50)\n",
      "    plt.annotate(round(float(probs[i]),3), xy=(x[i], y[i]), xytext=xytext, textcoords='offset points', ha='right', va='bottom',\n",
      "                 arrowprops=dict(arrowstyle = '->', connectionstyle='arc3,rad=0'), fontsize=12,\n",
      "                 bbox=dict(boxstyle='round, pad=0.2', fc='cyan', alpha=1),)\n",
      "plt.savefig(folder+\"FROC_analysis.png\")   \n",
      "plt.show()"
     ],
     "language": "python",
     "metadata": {},
     "outputs": [
      {
       "output_type": "stream",
       "stream": "stdout",
       "text": [
        "[u'0.97500000000000042' u'0.9500000000000004' u'0.92500000000000038'\n",
        " u'0.90000000000000036' u'0.87500000000000033' u'0.85000000000000031'\n",
        " u'0.82500000000000029' u'0.80000000000000027' u'0.77500000000000024'\n",
        " u'0.75000000000000022' u'0.7250000000000002' u'0.70000000000000018'\n",
        " u'0.67500000000000016' u'0.65000000000000013' u'0.62500000000000011'\n",
        " u'0.60000000000000009' u'0.57500000000000007' u'0.55000000000000004'\n",
        " u'0.52500000000000002' u'0.5']\n"
       ]
      }
     ],
     "prompt_number": 25
    },
    {
     "cell_type": "code",
     "collapsed": false,
     "input": [
      "folders = [\"classification/results/gold/2017-11-09__16-06-52-462000HNM=best50_median11_NOcoloring_win48_ori=12_ppc=6_cpb=2/\",\n",
      "           \"classification/results/gold/2017-11-09__05-28-02-511000HNM=best50_median15_NOcoloring_win48_ori=9_ppc=6_cpb=2/\"]\n",
      "colors = [\"b\", \"r\", \"g\", \"c\", \"m\"]\n",
      "labels = [\"median 11\", u\"median 15\"]"
     ],
     "language": "python",
     "metadata": {},
     "outputs": [],
     "prompt_number": 26
    },
    {
     "cell_type": "code",
     "collapsed": false,
     "input": [
      "plt.figure(figsize=(9, 6))\n",
      "plt.title(u\"FROC anal\u00fdza\", fontsize=16)\n",
      "\n",
      "svmm = clas.Classifier()\n",
      "for f in range(len(folders)):\n",
      "    svmm.FROC_scores = dr.load_json(folders[f]+\"FROC_scores.json\")\n",
      "    \n",
      "    TPRs = list()\n",
      "    FPCs = list()\n",
      "\n",
      "    scores = OrderedDict(sorted(svmm.FROC_scores.items()), key=lambda x: -x[1][\"FPC\"])\n",
      "    #print scores.items()\n",
      "\n",
      "    for thr, results in scores.items():\n",
      "        #print results\n",
      "        try:\n",
      "            TPRs.append(results[\"TPR\"])\n",
      "            FPCs.append(results[\"FPC\"])\n",
      "        except:\n",
      "            pass\n",
      "\n",
      "    indxs = np.argsort(FPCs)\n",
      "    FPCs = np.array(FPCs)[indxs]\n",
      "    TPRs = np.array(TPRs)[indxs]\n",
      "    probs = np.array(scores.keys())[indxs]\n",
      "\n",
      "    plt.plot(FPCs, TPRs, color=colors[f], label=labels[f])\n",
      "    plt.fill_between(FPCs, TPRs , 0, where = FPCs == FPCs, facecolor=colors[f], alpha=0.3)\n",
      "    plt.scatter(FPCs, TPRs, marker=\"o\")\n",
      "\n",
      "    up_offset = 0.01\n",
      "    plt.xlim((min(FPCs), max(FPCs)))\n",
      "    plt.ylim((min(TPRs), max(TPRs)+up_offset))\n",
      "    plt.xlabel(\"FPC\", fontsize=14)\n",
      "    plt.ylabel(\"TPR\", fontsize=14)\n",
      "\n",
      "    x = FPCs\n",
      "    y = TPRs\n",
      "\n",
      "#    for i in xrange(len(x)):\n",
      "#        plt.plot([x[i], x[i]], [min(y), y[i]], linestyle=\"--\", color=colors[f], lw=1)\n",
      "#        plt.plot([min(x), x[i]], [y[i], y[i]], linestyle=\"--\", color=colors[f], lw=1) \n",
      "        #plt.axhline(y[i], xmin=0, xmax=float(x[i]-min(x))/(max(x)-min(x)), linestyle=\"--\", color=colors[f], lw=1)\n",
      "        #plt.annotate(round(float(probs[i]),3), xy=(x[i], y[i]), xytext=(-30, 20), textcoords='offset points', ha='right', va='bottom',\n",
      "        #             arrowprops=dict(arrowstyle = '->', connectionstyle='arc3,rad=0'),\n",
      "        #             bbox=dict(boxstyle='round, pad=0.1', fc='cyan', alpha=0.6),)\n",
      "\n",
      "\n",
      "plt.plot([best_value[\"FPC\"], best_value[\"FPC\"]], [0, best_value[\"TPR\"]], linestyle=\"--\", color=\"g\")\n",
      "plt.plot([0, best_value[\"FPC\"]], [best_value[\"TPR\"], best_value[\"TPR\"]], linestyle=\"--\", color=\"g\",\n",
      "         label=u\"\\nmedian 11 \\npro $P_{min} = 0.725$\", lw=2)\n",
      "plt.grid()\n",
      "plt.legend(bbox_to_anchor=(0.98, 0.35), loc=1, borderaxespad=0., fontsize=14)\n",
      "plt.savefig(\"classification/results/FROC_analysis_compare.png\")\n",
      "plt.show()\n",
      "\n"
     ],
     "language": "python",
     "metadata": {},
     "outputs": [],
     "prompt_number": 29
    },
    {
     "cell_type": "code",
     "collapsed": false,
     "input": [
      "# ==> nejlepsi bude \"classification/results/gold/2017-11-09__16-06-52-462000HNM=best50_median11_NOcoloring_win48_ori=12_ppc=6_cpb=2/\"\n",
      "# a k tomu min_prob = 0.725"
     ],
     "language": "python",
     "metadata": {},
     "outputs": []
    },
    {
     "cell_type": "code",
     "collapsed": false,
     "input": [
      "for item in svm.FROC_scores.items():\n",
      "    print item"
     ],
     "language": "python",
     "metadata": {},
     "outputs": [
      {
       "output_type": "stream",
       "stream": "stdout",
       "text": [
        "(u'0.77500000000000024', {u'FP': 541, u'FPC': 1.5196629213483146, u'recall': 0.7323340471092077, u'precision': 0.3873159682899207, u'TP': 342, u'TN': 0, u'TPR': 0.7323340471092077, u'problematic': [], u'FN': 125})\n",
        "(u'0.75000000000000022', {u'FP': 569, u'FPC': 1.598314606741573, u'recall': 0.7350427350427351, u'precision': 0.37677984665936476, u'TP': 344, u'TN': 0, u'TPR': 0.7350427350427351, u'problematic': [], u'FN': 124})\n",
        "(u'0.87500000000000033', {u'FP': 399, u'FPC': 1.1207865168539326, u'recall': 0.7170626349892009, u'precision': 0.454172366621067, u'TP': 332, u'TN': 0, u'TPR': 0.7170626349892009, u'problematic': [], u'FN': 131})\n",
        "(u'0.92500000000000038', {u'FP': 282, u'FPC': 0.7921348314606742, u'recall': 0.6887417218543046, u'precision': 0.5252525252525253, u'TP': 312, u'TN': 0, u'TPR': 0.6887417218543046, u'problematic': [], u'FN': 141})\n",
        "(u'0.9500000000000004', {u'FP': 227, u'FPC': 0.6376404494382022, u'recall': 0.6599552572706935, u'precision': 0.5651340996168582, u'TP': 295, u'TN': 0, u'TPR': 0.6599552572706935, u'problematic': [], u'FN': 152})\n",
        "(u'0.82500000000000029', {u'FP': 473, u'FPC': 1.3286516853932584, u'recall': 0.7290322580645161, u'precision': 0.41748768472906406, u'TP': 339, u'TN': 0, u'TPR': 0.7290322580645161, u'problematic': [], u'FN': 126})\n",
        "(u'0.80000000000000027', {u'FP': 503, u'FPC': 1.4129213483146068, u'recall': 0.7317596566523605, u'precision': 0.4040284360189573, u'TP': 341, u'TN': 0, u'TPR': 0.7317596566523605, u'problematic': [], u'FN': 125})\n",
        "(u'0.85000000000000031', {u'FP': 437, u'FPC': 1.2275280898876404, u'recall': 0.7262931034482759, u'precision': 0.4354005167958656, u'TP': 337, u'TN': 0, u'TPR': 0.7262931034482759, u'problematic': [], u'FN': 127})\n",
        "(u'0.5', {u'FP': 873, u'FPC': 2.452247191011236, u'recall': 0.7452229299363057, u'precision': 0.2867647058823529, u'TP': 351, u'TN': 0, u'TPR': 0.7452229299363057, u'problematic': [], u'FN': 120})\n",
        "(u'0.62500000000000011', {u'FP': 735, u'FPC': 2.0646067415730336, u'recall': 0.7420042643923241, u'precision': 0.32132963988919666, u'TP': 348, u'TN': 0, u'TPR': 0.7420042643923241, u'problematic': [], u'FN': 121})\n",
        "(u'0.55000000000000004', {u'FP': 826, u'FPC': 2.3202247191011236, u'recall': 0.7430997876857749, u'precision': 0.2976190476190476, u'TP': 350, u'TN': 0, u'TPR': 0.7430997876857749, u'problematic': [], u'FN': 121})\n",
        "(u'0.70000000000000018', {u'FP': 630, u'FPC': 1.7696629213483146, u'recall': 0.7371794871794872, u'precision': 0.35384615384615387, u'TP': 345, u'TN': 0, u'TPR': 0.7371794871794872, u'problematic': [], u'FN': 123})\n",
        "(u'0.90000000000000036', {u'FP': 345, u'FPC': 0.9691011235955056, u'recall': 0.7049891540130152, u'precision': 0.48507462686567165, u'TP': 325, u'TN': 0, u'TPR': 0.7049891540130152, u'problematic': [], u'FN': 136})\n",
        "(u'0.60000000000000009', {u'FP': 761, u'FPC': 2.1376404494382024, u'recall': 0.7420042643923241, u'precision': 0.31379621280432823, u'TP': 348, u'TN': 0, u'TPR': 0.7420042643923241, u'problematic': [], u'FN': 121})\n",
        "(u'0.57500000000000007', {u'FP': 790, u'FPC': 2.2191011235955056, u'recall': 0.7425531914893617, u'precision': 0.3064091308165057, u'TP': 349, u'TN': 0, u'TPR': 0.7425531914893617, u'problematic': [], u'FN': 121})\n",
        "(u'0.65000000000000013', {u'FP': 699, u'FPC': 1.9634831460674158, u'recall': 0.7371794871794872, u'precision': 0.33045977011494254, u'TP': 345, u'TN': 0, u'TPR': 0.7371794871794872, u'problematic': [], u'FN': 123})\n",
        "(u'0.52500000000000002', {u'FP': 849, u'FPC': 2.384831460674157, u'recall': 0.7430997876857749, u'precision': 0.2919099249374479, u'TP': 350, u'TN': 0, u'TPR': 0.7430997876857749, u'problematic': [], u'FN': 121})\n",
        "(u'0.97500000000000042', {u'FP': 150, u'FPC': 0.42134831460674155, u'recall': 0.6145124716553289, u'precision': 0.6437054631828979, u'TP': 271, u'TN': 0, u'TPR': 0.6145124716553289, u'problematic': [], u'FN': 170})\n",
        "(u'0.67500000000000016', {u'FP': 662, u'FPC': 1.8595505617977528, u'recall': 0.7371794871794872, u'precision': 0.3426017874875869, u'TP': 345, u'TN': 0, u'TPR': 0.7371794871794872, u'problematic': [], u'FN': 123})\n",
        "(u'0.7250000000000002', {u'FP': 601, u'FPC': 1.6882022471910112, u'recall': 0.7371794871794872, u'precision': 0.36469344608879495, u'TP': 345, u'TN': 0, u'TPR': 0.7371794871794872, u'problematic': [], u'FN': 123})\n"
       ]
      }
     ],
     "prompt_number": 34
    },
    {
     "cell_type": "markdown",
     "metadata": {},
     "source": [
      "#Jen prehodnoceni s Pmin=0.725 -> ulozeni i novych result_nms"
     ]
    },
    {
     "cell_type": "code",
     "collapsed": false,
     "input": [
      "svm = clas.Classifier()\n",
      "folder = \"classification/results/gold/2017-11-09__16-06-52-462000HNM=best50_median11_NOcoloring_win48_ori=12_ppc=6_cpb=2/\"\n",
      "#folder = \"classification/results/gold/2017-11-09__05-28-02-511000HNM=best50_median15_NOcoloring_win48_ori=9_ppc=6_cpb=2/\"\n",
      "fname = folder + \"test_results.json\"\n",
      "svm.test_results = dr.load_json(fname)\n",
      "\n",
      "thr = 0.725\n",
      "\n",
      "svm.test_results_nms = {}\n",
      "for imgname, values in svm.test_results.items():\n",
      "    if \"hard_negative\" in imgname: continue\n",
      "    svm.min_prob = thr\n",
      "    for i, value in enumerate(values):\n",
      "        #svm.test_results[imgname][i][\"mark\"] = int(value[\"result\"][0] >= thr)\n",
      "        svm.test_results[imgname][i][\"mark\"] = detected(svm, value)\n",
      "    for res in svm.test_results[imgname]:\n",
      "        if res[\"mark\"] == 1:\n",
      "            svm.test_results_nms[imgname] = svm.non_maxima_suppression(imgname, to_print=False)\n",
      "            break\n",
      "    if not svm.test_results_nms.has_key(imgname):\n",
      "        svm.test_results_nms[imgname] = []\n",
      "print \"[RESULT] Prah: \" + str(thr)\n",
      "svm.evaluate_nms_results_overlap(print_steps=False)"
     ],
     "language": "python",
     "metadata": {},
     "outputs": [
      {
       "output_type": "stream",
       "stream": "stdout",
       "text": [
        "[RESULT] Prah: 0.725\n",
        "[RESULT] Celkove vysledky pro 356 obrazku:"
       ]
      },
      {
       "output_type": "stream",
       "stream": "stdout",
       "text": [
        "\n",
        "         TP: 345\n",
        "         TN: 0\n",
        "         FP: 601\n",
        "         FN: 123\n",
        "        TPR: 0.737179487179\n",
        "  precision: 0.364693446089\n",
        "        FPC: 1.68820224719\n"
       ]
      },
      {
       "ename": "TypeError",
       "evalue": "array([[ 73, 191,   0, 117],\n       [  0,  75, 178, 254]]) is not JSON serializable",
       "output_type": "pyerr",
       "traceback": [
        "\u001b[1;31m---------------------------------------------------------------------------\u001b[0m\n\u001b[1;31mTypeError\u001b[0m                                 Traceback (most recent call last)",
        "\u001b[1;32m<ipython-input-7-0fc0c6d5b757>\u001b[0m in \u001b[0;36m<module>\u001b[1;34m()\u001b[0m\n\u001b[0;32m     22\u001b[0m \u001b[1;32mprint\u001b[0m \u001b[1;34m\"[RESULT] Prah: \"\u001b[0m \u001b[1;33m+\u001b[0m \u001b[0mstr\u001b[0m\u001b[1;33m(\u001b[0m\u001b[0mthr\u001b[0m\u001b[1;33m)\u001b[0m\u001b[1;33m\u001b[0m\u001b[0m\n\u001b[0;32m     23\u001b[0m \u001b[0msvm\u001b[0m\u001b[1;33m.\u001b[0m\u001b[0mevaluate_nms_results_overlap\u001b[0m\u001b[1;33m(\u001b[0m\u001b[0mprint_steps\u001b[0m\u001b[1;33m=\u001b[0m\u001b[0mFalse\u001b[0m\u001b[1;33m)\u001b[0m\u001b[1;33m\u001b[0m\u001b[0m\n\u001b[1;32m---> 24\u001b[1;33m \u001b[0mdr\u001b[0m\u001b[1;33m.\u001b[0m\u001b[0mzapis_json\u001b[0m\u001b[1;33m(\u001b[0m\u001b[0msvm\u001b[0m\u001b[1;33m.\u001b[0m\u001b[0mtest_results_nms\u001b[0m\u001b[1;33m,\u001b[0m \u001b[0mfolder\u001b[0m\u001b[1;33m+\u001b[0m\u001b[1;34m\"result_nms_0725.json\"\u001b[0m\u001b[1;33m)\u001b[0m\u001b[1;33m\u001b[0m\u001b[0m\n\u001b[0m",
        "\u001b[1;32mC:\\Users\\Mirab\\Documents\\Py\\keypoints\\Tumory\\data_reader.pyc\u001b[0m in \u001b[0;36mzapis_json\u001b[1;34m(jsondata, name)\u001b[0m\n\u001b[0;32m     39\u001b[0m     \u001b[0mfilepath\u001b[0m \u001b[1;33m=\u001b[0m \u001b[0mos\u001b[0m\u001b[1;33m.\u001b[0m\u001b[0mpath\u001b[0m\u001b[1;33m.\u001b[0m\u001b[0mdirname\u001b[0m\u001b[1;33m(\u001b[0m\u001b[0mos\u001b[0m\u001b[1;33m.\u001b[0m\u001b[0mpath\u001b[0m\u001b[1;33m.\u001b[0m\u001b[0mabspath\u001b[0m\u001b[1;33m(\u001b[0m\u001b[0m__file__\u001b[0m\u001b[1;33m)\u001b[0m\u001b[1;33m)\u001b[0m\u001b[1;33m+\u001b[0m\u001b[1;34m\"/\"\u001b[0m\u001b[1;33m+\u001b[0m\u001b[0mstr\u001b[0m\u001b[1;33m(\u001b[0m\u001b[0mname\u001b[0m\u001b[1;33m)\u001b[0m\u001b[1;33m\u001b[0m\u001b[0m\n\u001b[0;32m     40\u001b[0m     \u001b[1;32mwith\u001b[0m \u001b[0mopen\u001b[0m\u001b[1;33m(\u001b[0m\u001b[0mfilepath\u001b[0m\u001b[1;33m,\u001b[0m \u001b[1;34m'w'\u001b[0m\u001b[1;33m)\u001b[0m \u001b[1;32mas\u001b[0m \u001b[0mf\u001b[0m\u001b[1;33m:\u001b[0m\u001b[1;33m\u001b[0m\u001b[0m\n\u001b[1;32m---> 41\u001b[1;33m         \u001b[0mjson\u001b[0m\u001b[1;33m.\u001b[0m\u001b[0mdump\u001b[0m\u001b[1;33m(\u001b[0m\u001b[0mjsondata\u001b[0m\u001b[1;33m,\u001b[0m \u001b[0mf\u001b[0m\u001b[1;33m)\u001b[0m\u001b[1;33m\u001b[0m\u001b[0m\n\u001b[0m\u001b[0;32m     42\u001b[0m \u001b[1;33m\u001b[0m\u001b[0m\n\u001b[0;32m     43\u001b[0m \u001b[1;33m\u001b[0m\u001b[0m\n",
        "\u001b[1;32mC:\\Python27\\lib\\json\\__init__.pyc\u001b[0m in \u001b[0;36mdump\u001b[1;34m(obj, fp, skipkeys, ensure_ascii, check_circular, allow_nan, cls, indent, separators, encoding, default, sort_keys, **kw)\u001b[0m\n\u001b[0;32m    187\u001b[0m     \u001b[1;31m# could accelerate with writelines in some versions of Python, at\u001b[0m\u001b[1;33m\u001b[0m\u001b[1;33m\u001b[0m\u001b[0m\n\u001b[0;32m    188\u001b[0m     \u001b[1;31m# a debuggability cost\u001b[0m\u001b[1;33m\u001b[0m\u001b[1;33m\u001b[0m\u001b[0m\n\u001b[1;32m--> 189\u001b[1;33m     \u001b[1;32mfor\u001b[0m \u001b[0mchunk\u001b[0m \u001b[1;32min\u001b[0m \u001b[0miterable\u001b[0m\u001b[1;33m:\u001b[0m\u001b[1;33m\u001b[0m\u001b[0m\n\u001b[0m\u001b[0;32m    190\u001b[0m         \u001b[0mfp\u001b[0m\u001b[1;33m.\u001b[0m\u001b[0mwrite\u001b[0m\u001b[1;33m(\u001b[0m\u001b[0mchunk\u001b[0m\u001b[1;33m)\u001b[0m\u001b[1;33m\u001b[0m\u001b[0m\n\u001b[0;32m    191\u001b[0m \u001b[1;33m\u001b[0m\u001b[0m\n",
        "\u001b[1;32mC:\\Python27\\lib\\json\\encoder.pyc\u001b[0m in \u001b[0;36m_iterencode\u001b[1;34m(o, _current_indent_level)\u001b[0m\n\u001b[0;32m    432\u001b[0m                 \u001b[1;32myield\u001b[0m \u001b[0mchunk\u001b[0m\u001b[1;33m\u001b[0m\u001b[0m\n\u001b[0;32m    433\u001b[0m         \u001b[1;32melif\u001b[0m \u001b[0misinstance\u001b[0m\u001b[1;33m(\u001b[0m\u001b[0mo\u001b[0m\u001b[1;33m,\u001b[0m \u001b[0mdict\u001b[0m\u001b[1;33m)\u001b[0m\u001b[1;33m:\u001b[0m\u001b[1;33m\u001b[0m\u001b[0m\n\u001b[1;32m--> 434\u001b[1;33m             \u001b[1;32mfor\u001b[0m \u001b[0mchunk\u001b[0m \u001b[1;32min\u001b[0m \u001b[0m_iterencode_dict\u001b[0m\u001b[1;33m(\u001b[0m\u001b[0mo\u001b[0m\u001b[1;33m,\u001b[0m \u001b[0m_current_indent_level\u001b[0m\u001b[1;33m)\u001b[0m\u001b[1;33m:\u001b[0m\u001b[1;33m\u001b[0m\u001b[0m\n\u001b[0m\u001b[0;32m    435\u001b[0m                 \u001b[1;32myield\u001b[0m \u001b[0mchunk\u001b[0m\u001b[1;33m\u001b[0m\u001b[0m\n\u001b[0;32m    436\u001b[0m         \u001b[1;32melse\u001b[0m\u001b[1;33m:\u001b[0m\u001b[1;33m\u001b[0m\u001b[0m\n",
        "\u001b[1;32mC:\\Python27\\lib\\json\\encoder.pyc\u001b[0m in \u001b[0;36m_iterencode_dict\u001b[1;34m(dct, _current_indent_level)\u001b[0m\n\u001b[0;32m    406\u001b[0m                 \u001b[1;32melse\u001b[0m\u001b[1;33m:\u001b[0m\u001b[1;33m\u001b[0m\u001b[0m\n\u001b[0;32m    407\u001b[0m                     \u001b[0mchunks\u001b[0m \u001b[1;33m=\u001b[0m \u001b[0m_iterencode\u001b[0m\u001b[1;33m(\u001b[0m\u001b[0mvalue\u001b[0m\u001b[1;33m,\u001b[0m \u001b[0m_current_indent_level\u001b[0m\u001b[1;33m)\u001b[0m\u001b[1;33m\u001b[0m\u001b[0m\n\u001b[1;32m--> 408\u001b[1;33m                 \u001b[1;32mfor\u001b[0m \u001b[0mchunk\u001b[0m \u001b[1;32min\u001b[0m \u001b[0mchunks\u001b[0m\u001b[1;33m:\u001b[0m\u001b[1;33m\u001b[0m\u001b[0m\n\u001b[0m\u001b[0;32m    409\u001b[0m                     \u001b[1;32myield\u001b[0m \u001b[0mchunk\u001b[0m\u001b[1;33m\u001b[0m\u001b[0m\n\u001b[0;32m    410\u001b[0m         \u001b[1;32mif\u001b[0m \u001b[0mnewline_indent\u001b[0m \u001b[1;32mis\u001b[0m \u001b[1;32mnot\u001b[0m \u001b[0mNone\u001b[0m\u001b[1;33m:\u001b[0m\u001b[1;33m\u001b[0m\u001b[0m\n",
        "\u001b[1;32mC:\\Python27\\lib\\json\\encoder.pyc\u001b[0m in \u001b[0;36m_iterencode\u001b[1;34m(o, _current_indent_level)\u001b[0m\n\u001b[0;32m    440\u001b[0m                     \u001b[1;32mraise\u001b[0m \u001b[0mValueError\u001b[0m\u001b[1;33m(\u001b[0m\u001b[1;34m\"Circular reference detected\"\u001b[0m\u001b[1;33m)\u001b[0m\u001b[1;33m\u001b[0m\u001b[0m\n\u001b[0;32m    441\u001b[0m                 \u001b[0mmarkers\u001b[0m\u001b[1;33m[\u001b[0m\u001b[0mmarkerid\u001b[0m\u001b[1;33m]\u001b[0m \u001b[1;33m=\u001b[0m \u001b[0mo\u001b[0m\u001b[1;33m\u001b[0m\u001b[0m\n\u001b[1;32m--> 442\u001b[1;33m             \u001b[0mo\u001b[0m \u001b[1;33m=\u001b[0m \u001b[0m_default\u001b[0m\u001b[1;33m(\u001b[0m\u001b[0mo\u001b[0m\u001b[1;33m)\u001b[0m\u001b[1;33m\u001b[0m\u001b[0m\n\u001b[0m\u001b[0;32m    443\u001b[0m             \u001b[1;32mfor\u001b[0m \u001b[0mchunk\u001b[0m \u001b[1;32min\u001b[0m \u001b[0m_iterencode\u001b[0m\u001b[1;33m(\u001b[0m\u001b[0mo\u001b[0m\u001b[1;33m,\u001b[0m \u001b[0m_current_indent_level\u001b[0m\u001b[1;33m)\u001b[0m\u001b[1;33m:\u001b[0m\u001b[1;33m\u001b[0m\u001b[0m\n\u001b[0;32m    444\u001b[0m                 \u001b[1;32myield\u001b[0m \u001b[0mchunk\u001b[0m\u001b[1;33m\u001b[0m\u001b[0m\n",
        "\u001b[1;32mC:\\Python27\\lib\\json\\encoder.pyc\u001b[0m in \u001b[0;36mdefault\u001b[1;34m(self, o)\u001b[0m\n\u001b[0;32m    182\u001b[0m \u001b[1;33m\u001b[0m\u001b[0m\n\u001b[0;32m    183\u001b[0m         \"\"\"\n\u001b[1;32m--> 184\u001b[1;33m         \u001b[1;32mraise\u001b[0m \u001b[0mTypeError\u001b[0m\u001b[1;33m(\u001b[0m\u001b[0mrepr\u001b[0m\u001b[1;33m(\u001b[0m\u001b[0mo\u001b[0m\u001b[1;33m)\u001b[0m \u001b[1;33m+\u001b[0m \u001b[1;34m\" is not JSON serializable\"\u001b[0m\u001b[1;33m)\u001b[0m\u001b[1;33m\u001b[0m\u001b[0m\n\u001b[0m\u001b[0;32m    185\u001b[0m \u001b[1;33m\u001b[0m\u001b[0m\n\u001b[0;32m    186\u001b[0m     \u001b[1;32mdef\u001b[0m \u001b[0mencode\u001b[0m\u001b[1;33m(\u001b[0m\u001b[0mself\u001b[0m\u001b[1;33m,\u001b[0m \u001b[0mo\u001b[0m\u001b[1;33m)\u001b[0m\u001b[1;33m:\u001b[0m\u001b[1;33m\u001b[0m\u001b[0m\n",
        "\u001b[1;31mTypeError\u001b[0m: array([[ 73, 191,   0, 117],\n       [  0,  75, 178, 254]]) is not JSON serializable"
       ]
      }
     ],
     "prompt_number": 7
    },
    {
     "cell_type": "code",
     "collapsed": false,
     "input": [
      "list_results_nms = {}\n",
      "for key, value in svm.test_results_nms.items():\n",
      "    vals = list()\n",
      "    for v in value:\n",
      "        vals.append(list(v))\n",
      "    list_results_nms[key] = vals\n",
      "dr.zapis_json(list_results_nms, folder+\"result_nms_0725.json\")"
     ],
     "language": "python",
     "metadata": {},
     "outputs": [],
     "prompt_number": 12
    },
    {
     "cell_type": "code",
     "collapsed": false,
     "input": [
      "import copy\n",
      "for imgname, boxes in svm.test_results_nms.items():\n",
      "    gray = dr.load_image(imgname)\n",
      "    mask = clas.fm.get_mask(imgname, config)\n",
      "    clas.viewer.show_frames_in_image_nms(copy.copy(gray), \n",
      "                                        boxes,\n",
      "                                        mask=copy.copy(mask),\n",
      "                                        save_path=config[\"results_PNG_path\"],\n",
      "                                        fname=clas.fm.get_imagename(imgname),\n",
      "                                        to_show=False)"
     ],
     "language": "python",
     "metadata": {},
     "outputs": [],
     "prompt_number": 19
    },
    {
     "cell_type": "code",
     "collapsed": false,
     "input": [],
     "language": "python",
     "metadata": {},
     "outputs": []
    }
   ],
   "metadata": {}
  }
 ]
}