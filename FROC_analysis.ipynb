{
 "metadata": {
  "name": "",
  "signature": "sha256:746ca124bb4fa0bc43f821fa187f2d6d11332e491535a240e16c80803f9a6825"
 },
 "nbformat": 3,
 "nbformat_minor": 0,
 "worksheets": [
  {
   "cells": [
    {
     "cell_type": "code",
     "collapsed": false,
     "input": [
      "import data_reader as dr\n",
      "\n",
      "import classifier as clas\n",
      "from matplotlib import pyplot as plt\n",
      "import os.path as op\n",
      "import os\n",
      "import pandas as pd\n",
      "import numpy as np\n",
      "from collections import OrderedDict"
     ],
     "language": "python",
     "metadata": {},
     "outputs": []
    },
    {
     "cell_type": "code",
     "collapsed": false,
     "input": [
      "dataset = dr.DATAset()\n",
      "dataset.create_dataset_CT()\n",
      "config = dataset.config"
     ],
     "language": "python",
     "metadata": {},
     "outputs": []
    },
    {
     "cell_type": "code",
     "collapsed": false,
     "input": [
      "class Evaluation():\n",
      "    \n",
      "    def __init__(self, foldername):\n",
      "        \n",
      "        self.config = dr.load_json(foldername + \"CT.json\")\n",
      "        self.result = dr.load_json(foldername + \"nms_overlap_evaluation.json\")\n",
      "        self.foldername = foldername\n",
      "        \n",
      "        #self.coloring = bool(self.config[\"background_coloring\"])\n",
      "        #self.n_components = self.config[\"n_for_PCA\"]\n",
      "        \n",
      "        self.recall = self.result[\"recall\"]\n",
      "        self.TPR = self.result[\"TPR\"]\n",
      "        self.precision = self.result[\"precision\"]\n",
      "        self.FPC = self.result[\"FPC\"]\n",
      "                \n",
      "        self.TN = self.result[\"TN\"]\n",
      "        self.TP = self.result[\"TP\"]\n",
      "        self.FP = self.result[\"FP\"]\n",
      "        self.FN = self.result[\"FN\"]"
     ],
     "language": "python",
     "metadata": {},
     "outputs": []
    },
    {
     "cell_type": "code",
     "collapsed": false,
     "input": [
      "folders = [f + \"/\" for f in os.listdir(config[\"result_path\"]) if not op.isfile(f) and f.startswith(\"20\")]\n",
      "#print folders\n",
      "\n",
      "results = []\n",
      "\n",
      "for folder in folders:\n",
      "    try:\n",
      "        results.append(Evaluation(config[\"result_path\"] + folder))\n",
      "        print \"Nalezen soubor!\"\n",
      "    except:\n",
      "        print \"Slozka \"+str(folder)+\" nema soubor s nazvem nms_overlap_evaluation.json\""
     ],
     "language": "python",
     "metadata": {},
     "outputs": []
    },
    {
     "cell_type": "code",
     "collapsed": false,
     "input": [
      "print [e.FPC for e in results]"
     ],
     "language": "python",
     "metadata": {},
     "outputs": []
    },
    {
     "cell_type": "markdown",
     "metadata": {},
     "source": [
      "# Grafy"
     ]
    },
    {
     "cell_type": "code",
     "collapsed": false,
     "input": [
      "results_sorted = sorted(results, key=lambda x: x.FPC, reverse=False)\n",
      "\n",
      "x = np.array([e.FPC for e in results_sorted])\n",
      "y = np.array([e.TPR for e in results_sorted])\n",
      "\n",
      "print x\n",
      "print y"
     ],
     "language": "python",
     "metadata": {},
     "outputs": []
    },
    {
     "cell_type": "code",
     "collapsed": false,
     "input": [
      "plt.plot(x, y)\n",
      "plt.xlim(min(x), max(x))\n",
      "plt.ylim(0, 1)\n",
      "plt.fill_between(x, y, 0, where = y == y, facecolor='b', alpha=0.3)\n",
      "#plt.grid()\n",
      "for i in xrange(len(x)):\n",
      "    plt.axvline(x[i], ymin=0, ymax=y[i], linestyle=\":\", color=\"black\", lw=2)\n",
      "    plt.axhline(y[i], xmin=0, xmax=float(x[i]-min(x))/(max(x)-min(x)), linestyle=\":\", color=\"black\", lw=2)\n",
      "plt.show()"
     ],
     "language": "python",
     "metadata": {},
     "outputs": []
    },
    {
     "cell_type": "code",
     "collapsed": false,
     "input": [
      "x = np.random.rand(15)\n",
      "plt.plot(x)\n",
      "plt.fill_between(np.arange(len(x)), x, 0, where = x > 0, facecolor='b', alpha=0.3)\n",
      "plt.grid()\n",
      "plt.show()"
     ],
     "language": "python",
     "metadata": {},
     "outputs": []
    },
    {
     "cell_type": "markdown",
     "metadata": {},
     "source": [
      "# FROC analyza"
     ]
    },
    {
     "cell_type": "code",
     "collapsed": false,
     "input": [
      "svm = clas.Classifier()\n",
      "fname = \"classification/results/hnm_nocoloring/2017-11-02__08-09-15-901000HNM=best50_bilateral9_NO_coloring_win48_col27_ori=9_ppc=6_cpb=2/test_results.json\"\n",
      "svm.test_results = dr.load_json(fname)"
     ],
     "language": "python",
     "metadata": {},
     "outputs": []
    },
    {
     "cell_type": "code",
     "collapsed": false,
     "input": [
      "\"\"\" Premarkovani podle ppsti \"\"\"\n",
      "\n",
      "thrs = np.arange(0.5, 0.98, 0.025)\n",
      "\n",
      "for thr in thrs:\n",
      "    for imgname, values in svm.test_results.items():\n",
      "        svm.min_prob = thr\n",
      "        for i, value in enumerate(values):\n",
      "            svm.test_results[imgname][i][\"mark\"] = int(value[\"result\"][0] > thr)\n",
      "        for res in svm.test_results[imgname]:\n",
      "            if res[\"mark\"] == 1:\n",
      "                svm.test_results_nms[imgname] = svm.non_maxima_suppression(imgname, to_print=False)\n",
      "                break\n",
      "    print \"[RESULT] Prah: \" + str(thr)\n",
      "    svm.evaluate_nms_results_overlap(print_steps=False)\n",
      "    #FROC_results[\"\"]"
     ],
     "language": "python",
     "metadata": {},
     "outputs": []
    },
    {
     "cell_type": "code",
     "collapsed": false,
     "input": [
      "plt.figure(figsize=(18, 10))\n",
      "plt.title(u\"FROC anal\u00fdza\")\n",
      "\n",
      "TPRs = list()\n",
      "FPCs = list()\n",
      "\n",
      "scores = OrderedDict(sorted(svm.FROC_scores.items()), key=lambda x: -x[1][\"FPC\"])\n",
      "#print scores.items()\n",
      "\n",
      "for thr, results in scores.items():\n",
      "    #print results\n",
      "    try:\n",
      "        TPRs.append(results[\"TPR\"])\n",
      "        FPCs.append(results[\"FPC\"])\n",
      "    except:\n",
      "        pass\n",
      "\n",
      "indxs = np.argsort(FPCs)\n",
      "FPCs = np.array(FPCs)[indxs]\n",
      "TPRs = np.array(TPRs)[indxs]\n",
      "probs = np.array(scores.keys())[indxs]\n",
      "print probs\n",
      "\n",
      "plt.plot(FPCs, TPRs)\n",
      "plt.grid()\n",
      "plt.fill_between(FPCs, TPRs , 0, where = FPCs == FPCs, facecolor='b', alpha=0.3)\n",
      "\n",
      "up_offset = 0.01\n",
      "plt.xlim((min(FPCs), max(FPCs)))\n",
      "plt.ylim((min(TPRs), max(TPRs)+up_offset))\n",
      "plt.xlabel(\"FPC\")\n",
      "plt.ylabel(\"TPR\")\n",
      "\n",
      "x = FPCs\n",
      "y = TPRs\n",
      "\n",
      "for i in xrange(len(x)):\n",
      "    plt.axvline(x[i], ymin=0, ymax=float(y[i]-min(y))/(max(y)+up_offset-min(y)), linestyle=\"--\", color=\"blue\", lw=1)\n",
      "    plt.axhline(y[i], xmin=0, xmax=float(x[i]-min(x))/(max(x)-min(x)), linestyle=\"--\", color=\"blue\", lw=1)\n",
      "    plt.annotate(probs[i], xy=(x[i], y[i]), xytext=(-30, 20), textcoords='offset points', ha='right', va='bottom',\n",
      "                 arrowprops=dict(arrowstyle = '->', connectionstyle='arc3,rad=0'),\n",
      "                 bbox=dict(boxstyle='round, pad=0.1', fc='cyan', alpha=0.6),)\n",
      "    \n",
      "plt.show()"
     ],
     "language": "python",
     "metadata": {},
     "outputs": []
    },
    {
     "cell_type": "code",
     "collapsed": false,
     "input": [],
     "language": "python",
     "metadata": {},
     "outputs": []
    },
    {
     "cell_type": "code",
     "collapsed": false,
     "input": [],
     "language": "python",
     "metadata": {},
     "outputs": []
    }
   ],
   "metadata": {}
  }
 ]
}