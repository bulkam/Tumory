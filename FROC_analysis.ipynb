{
 "metadata": {
  "name": "",
  "signature": "sha256:5565c354e00361b17113719d8e8c49f6d3bdce327d4787f2e8c92adbce528f5c"
 },
 "nbformat": 3,
 "nbformat_minor": 0,
 "worksheets": [
  {
   "cells": [
    {
     "cell_type": "code",
     "collapsed": false,
     "input": [
      "import data_reader as dr\n",
      "from matplotlib import pyplot as plt\n",
      "import os.path as op\n",
      "import os"
     ],
     "language": "python",
     "metadata": {},
     "outputs": [],
     "prompt_number": 8
    },
    {
     "cell_type": "code",
     "collapsed": false,
     "input": [
      "dataset = dr.DATAset()\n",
      "dataset.create_dataset_CT()\n",
      "config = dataset.config"
     ],
     "language": "python",
     "metadata": {},
     "outputs": [
      {
       "output_type": "stream",
       "stream": "stdout",
       "text": [
        "Vytvoren dataset\n"
       ]
      }
     ],
     "prompt_number": 9
    },
    {
     "cell_type": "code",
     "collapsed": false,
     "input": [
      "class Evaluation():\n",
      "    \n",
      "    def __init__(self, foldername):\n",
      "        \n",
      "        self.config = dr.load_json(foldername + \"CT.json\")\n",
      "        self.result = dr.load_json(foldername + \"nms_overlap_evaluation.json\")\n",
      "        self.foldername = foldername\n",
      "        \n",
      "        #self.coloring = bool(self.config[\"background_coloring\"])\n",
      "        #self.n_components = self.config[\"n_for_PCA\"]\n",
      "        \n",
      "        self.recall = self.result[\"recall\"]\n",
      "        self.TPR = self.result[\"TPR\"]\n",
      "        self.precision = self.result[\"precision\"]\n",
      "        self.FPC = self.result[\"FPC\"]\n",
      "                \n",
      "        self.TN = self.result[\"TN\"]\n",
      "        self.TP = self.result[\"TP\"]\n",
      "        self.FP = self.result[\"FP\"]\n",
      "        self.FN = self.result[\"FN\"]"
     ],
     "language": "python",
     "metadata": {},
     "outputs": [],
     "prompt_number": 37
    },
    {
     "cell_type": "code",
     "collapsed": false,
     "input": [
      "folders = [f + \"/\" for f in os.listdir(config[\"result_path\"]) if not op.isfile(f) and f.startswith(\"20\")]\n",
      "#print folders\n",
      "\n",
      "results = []\n",
      "\n",
      "for folder in folders:\n",
      "    try:\n",
      "        results.append(Evaluation(config[\"result_path\"] + folder))\n",
      "        print \"Nalezen soubor!\"\n",
      "    except:\n",
      "        print \"Slozka \"+str(folder)+\" nema soubor s nazvem nms_overlap_evaluation.json\""
     ],
     "language": "python",
     "metadata": {},
     "outputs": [
      {
       "output_type": "stream",
       "stream": "stdout",
       "text": [
        "[u'2017-10-21__20-15-01-444000/', u'2017-10-21__20-22-34-008000/', u'2017-10-22__12-10-12-067000/', u'2017-10-26__17-34-38-317000/', u'2017-10-27__09-40-59-532000/', u'2017-10-27__09-42-50-582000/', u'2017-10-27__09-51-33-662000/', u'2017-10-27__12-40-54-492000/', u'2017-10-27__12-54-41-055000/', u'2017-10-28__13-17-34-175000/', u'2017-10-28__13-23-16-645000/']\n",
        "Slozka 2017-10-21__20-15-01-444000/ nema soubor s nazvem nms_overlap_evaluation.json\n",
        "Slozka 2017-10-21__20-22-34-008000/ nema soubor s nazvem nms_overlap_evaluation.json\n",
        "Slozka 2017-10-22__12-10-12-067000/ nema soubor s nazvem nms_overlap_evaluation.json\n",
        "Slozka 2017-10-26__17-34-38-317000/ nema soubor s nazvem nms_overlap_evaluation.json\n",
        "Nalezen soubor!\n",
        "Nalezen soubor!\n",
        "Nalezen soubor!\n",
        "Nalezen soubor!\n",
        "Nalezen soubor!\n",
        "Nalezen soubor!\n",
        "Nalezen soubor!\n"
       ]
      }
     ],
     "prompt_number": 38
    },
    {
     "cell_type": "code",
     "collapsed": false,
     "input": [
      "print [e.FPC for e in results]"
     ],
     "language": "python",
     "metadata": {},
     "outputs": [
      {
       "output_type": "stream",
       "stream": "stdout",
       "text": [
        "[1, 1.0, 0.8333333333333334, 4.125, 0.8888888888888888, 1.1111111111111112, 1.1111111111111112]\n"
       ]
      }
     ],
     "prompt_number": 39
    },
    {
     "cell_type": "code",
     "collapsed": false,
     "input": [],
     "language": "python",
     "metadata": {},
     "outputs": []
    }
   ],
   "metadata": {}
  }
 ]
}