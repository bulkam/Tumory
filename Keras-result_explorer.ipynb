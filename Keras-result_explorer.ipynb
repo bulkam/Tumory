{
 "metadata": {
  "kernelspec": {
   "display_name": "Python 3",
   "language": "python",
   "name": "python3"
  },
  "language_info": {
   "codemirror_mode": {
    "name": "ipython",
    "version": 3
   },
   "file_extension": ".py",
   "mimetype": "text/x-python",
   "name": "python",
   "nbconvert_exporter": "python",
   "pygments_lexer": "ipython3",
   "version": "3.6.3"
  },
  "name": "",
  "signature": "sha256:4f13922b4302b3e2222db07cb96ff13d62ab1244727ff2a5eeae4479d0d11735"
 },
 "nbformat": 3,
 "nbformat_minor": 0,
 "worksheets": [
  {
   "cells": [
    {
     "cell_type": "code",
     "collapsed": false,
     "input": [
      "import keras\n",
      "import h5py\n",
      "import numpy as np\n",
      "from random import shuffle\n",
      "import glob\n",
      "import skimage.io\n",
      "import re\n",
      "\n",
      "from matplotlib import pyplot as plt"
     ],
     "language": "python",
     "metadata": {},
     "outputs": []
    },
    {
     "cell_type": "heading",
     "level": 2,
     "metadata": {},
     "source": [
      "Nacteni dat"
     ]
    },
    {
     "cell_type": "code",
     "collapsed": false,
     "input": [
      "#file = h5py.File(\"classification/Keras/results/test_results-no_aug_20epoch_structured_data.hdf5\", 'r')\n",
      "# S-liver\n",
      "#file = h5py.File(\"classification/Keras/results/test_results-no_aug_20epoch_structured_data-liver_only.hdf5\", 'r')\n",
      "# L-liver\n",
      "file = h5py.File(\"classification/Keras/results/test_results-aug_5epoch_structured_data-liver_only.hdf5\", 'r')\n",
      "\n",
      "test_data = file[\"test_data\"]\n",
      "test_labels = file[\"test_labels\"]\n",
      "test_predictions = file[\"test_predictions\"]\n",
      "\n",
      "for key in file.keys():\n",
      "    print(key)"
     ],
     "language": "python",
     "metadata": {},
     "outputs": []
    },
    {
     "cell_type": "heading",
     "level": 2,
     "metadata": {},
     "source": [
      "Vykresleni dat"
     ]
    },
    {
     "cell_type": "code",
     "collapsed": false,
     "input": [
      "indexes = [{\"L-liver\":39, \"S-liver\": 39, \"L\":1, \"S\":1}, \n",
      "           {\"L-liver\":39, \"S-liver\": 39, \"L\":1, \"S\":1}]\n",
      "\n",
      "index = indexes[0][\"L-liver\"]\n",
      "\n",
      "orig = test_data[index][:, :, 0].astype(\"uint8\")\n",
      "label = test_labels[index].astype(\"uint8\") * 255\n",
      "result = test_predictions[index].astype(\"float\") \n",
      "lesion = np.argmax(result, axis=2)*127\n"
     ],
     "language": "python",
     "metadata": {},
     "outputs": []
    },
    {
     "cell_type": "code",
     "collapsed": false,
     "input": [
      "def show_results(label, orig, result, lesion):\n",
      "    f, [[ax11, ax12], [ax21, ax22]] = plt.subplots(2, 2)\n",
      "    f.set_figheight(9)\n",
      "    f.set_figwidth(9)\n",
      "\n",
      "    ax11.imshow(label)\n",
      "    ax11.set_title('Anotation')\n",
      "    ax12.imshow(orig, cmap=\"gray\")\n",
      "    ax12.set_title('Orig image')\n",
      "    ax21.imshow(result)\n",
      "    ax21.set_title('Result label')\n",
      "    ax22.imshow(lesion, cmap=\"gray\")\n",
      "    ax22.set_title('Predicted lesion')\n",
      "    plt.show()\n",
      "    \n",
      "show_results(label, orig, result, lesion)\n"
     ],
     "language": "python",
     "metadata": {
      "scrolled": false
     },
     "outputs": []
    },
    {
     "cell_type": "code",
     "collapsed": false,
     "input": [
      "print(result.shape, np.unique(result), test_data.shape)"
     ],
     "language": "python",
     "metadata": {},
     "outputs": []
    },
    {
     "cell_type": "code",
     "collapsed": false,
     "input": [
      "file.close()"
     ],
     "language": "python",
     "metadata": {},
     "outputs": []
    },
    {
     "cell_type": "heading",
     "level": 1,
     "metadata": {},
     "source": [
      "Predikce modelem"
     ]
    },
    {
     "cell_type": "code",
     "collapsed": false,
     "input": [
      "from keras.models import load_model"
     ],
     "language": "python",
     "metadata": {},
     "outputs": []
    },
    {
     "cell_type": "code",
     "collapsed": false,
     "input": [
      "model = load_model(\"classification/Keras/models/segnet-5epoch_aug_structured_data-liver_only.hdf5\")"
     ],
     "language": "python",
     "metadata": {},
     "outputs": []
    },
    {
     "cell_type": "code",
     "collapsed": false,
     "input": [
      "test_predictions = model.predict(test_data)"
     ],
     "language": "python",
     "metadata": {},
     "outputs": []
    },
    {
     "cell_type": "heading",
     "level": 1,
     "metadata": {},
     "source": [
      "Jen testovani"
     ]
    },
    {
     "cell_type": "code",
     "collapsed": false,
     "input": [
      "a = np.random.rand(5,5,3)\n",
      "\n",
      "print(np.argmax(a,axis=2)*127)"
     ],
     "language": "python",
     "metadata": {},
     "outputs": []
    },
    {
     "cell_type": "code",
     "collapsed": false,
     "input": [
      "print(\"%.5d\" % 2)"
     ],
     "language": "python",
     "metadata": {},
     "outputs": []
    },
    {
     "cell_type": "markdown",
     "metadata": {},
     "source": [
      "# Jaccard similarity"
     ]
    },
    {
     "cell_type": "markdown",
     "metadata": {},
     "source": [
      "### Morfologie"
     ]
    },
    {
     "cell_type": "code",
     "collapsed": false,
     "input": [
      "import h5py\n",
      "import numpy as np\n",
      "import cv2\n",
      "from matplotlib import pyplot as plt"
     ],
     "language": "python",
     "metadata": {},
     "outputs": []
    },
    {
     "cell_type": "code",
     "collapsed": false,
     "input": [
      "#file = h5py.File(\"classification/Keras/results/test_results-no_aug_20epoch_structured_data.hdf5\", 'r')\n",
      "# S-liver\n",
      "#file = h5py.File(\"classification/Keras/results/test_results-no_aug_20epoch_structured_data-liver_only.hdf5\", 'r')\n",
      "# L-liver\n",
      "file = h5py.File(\"classification/Keras/results/test_results-aug_5epoch_structured_data-liver_only.hdf5\", 'r')\n",
      "\n",
      "test_data = file[\"test_data\"]\n",
      "test_labels = file[\"test_labels\"]\n",
      "test_predictions = file[\"test_predictions\"]\n",
      "\n",
      "for key in file.keys():\n",
      "    print(key)"
     ],
     "language": "python",
     "metadata": {},
     "outputs": []
    },
    {
     "cell_type": "code",
     "collapsed": false,
     "input": [
      "index = 39\n",
      "\n",
      "orig = test_data[index][:, :, 0].astype(\"uint8\")\n",
      "label = test_labels[index].astype(\"uint8\") * 255\n",
      "result = test_predictions[index].astype(\"float\") \n",
      "lesion = np.argmax(result, axis=2)*127"
     ],
     "language": "python",
     "metadata": {},
     "outputs": []
    },
    {
     "cell_type": "code",
     "collapsed": false,
     "input": [
      "# 1) Odstranit male - odpad\n",
      "# 2) Closing\n",
      "# 3) Fill holes"
     ],
     "language": "python",
     "metadata": {},
     "outputs": []
    },
    {
     "cell_type": "code",
     "collapsed": false,
     "input": [
      "intensity_scale = 127\n",
      "L = 1 * intensity_scale\n",
      "binary = lesion == L\n",
      "\n",
      "binary = cv2.morphologyEx((binary).astype(\"uint8\"), cv2.MORPH_CLOSE, cv2.getStructuringElement(cv2.MORPH_RECT,(5,5)))"
     ],
     "language": "python",
     "metadata": {},
     "outputs": []
    },
    {
     "cell_type": "code",
     "collapsed": false,
     "input": [
      "show_results(label, orig, result, closing)\n",
      "#show_results(label, orig, result, (lesion==127))\n",
      "print np.unique(lesion)\n"
     ],
     "language": "python",
     "metadata": {},
     "outputs": []
    },
    {
     "cell_type": "code",
     "collapsed": false,
     "input": [
      "contours,hierarchy = cv2.findContours(binary, 1, 2)"
     ],
     "language": "python",
     "metadata": {},
     "outputs": []
    },
    {
     "cell_type": "code",
     "collapsed": false,
     "input": [
      "x1, y1, x2, y2 = cv2.boundingRect(binary)\n",
      "x, y, w, h = x1, y1, x1+x2, y1+y2\n",
      "print y, h, x, w\n",
      "img = cv2.rectangle(np.zeros(binary.shape),(x,y),(w, h),(255,0,255),2)\n",
      "plt.imshow(img)\n",
      "plt.show()"
     ],
     "language": "python",
     "metadata": {},
     "outputs": []
    },
    {
     "cell_type": "code",
     "collapsed": false,
     "input": [
      "def Jaccard_similarity(img, ref, intensity_scale=127, label_color=255):\n",
      "    \"\"\" Spocita IoU vysledku a refenercniho obrazku - anotace \"\"\"\n",
      "    L = 1 * intensity_scale\n",
      "    binary_img = img == L\n",
      "    binary_ref = ref == label_color\n",
      "    \n",
      "    binary_img = cv2.morphologyEx((binary_img).astype(\"uint8\"), cv2.MORPH_CLOSE, cv2.getStructuringElement(cv2.MORPH_RECT,(11,11)))\n",
      "    \n",
      "    shape = binary_img.shape\n",
      "    blank = np.zeros((shape[0], shape[1]))\n",
      "    \n",
      "    print binary_ref.shape, np.unique(binary_ref.astype(\"uint8\"))\n",
      "    x1, y1, x2, y2 = cv2.boundingRect(binary_ref.astype(\"uint8\"))\n",
      "    xr, yr, wr, hr = x1, y1, x1+x2, y1+y2\n",
      "    blank[yr:hr, xr:wr] += intensity_scale/2\n",
      "    \n",
      "    x1, y1, x2, y2 = cv2.boundingRect(binary_img)\n",
      "    xi, yi, wi, hi = x1, y1, x1+x2, y1+y2\n",
      "    blank[yi:hi, xi:wi] += intensity_scale/2\n",
      "    blank += binary*intensity_scale/2\n",
      "    plt.imshow(blank, cmap=\"gray\")\n",
      "    #plt.show()\n",
      "    \n",
      "    if np.sum((binary_img & binary_ref).astype(\"uint8\")) == 0:\n",
      "        return 0\n",
      "    \n",
      "    print yr, yi\n",
      "    yc = np.max((yr, yi))\n",
      "    hc = np.min((hr, hi))\n",
      "    xc = np.max((xr, xi))\n",
      "    wc = np.min((wr, wi))\n",
      "    \n",
      "    intersection = (hc - yc) * (wc - xc)\n",
      "    unification = ((hr - yr) * (wr - xr)) + ((hi - yi) * (wi - xi)) - intersection\n",
      "    JS = float(intersection) / unification\n",
      "    print \"[RESULT] Jaccard similarity: \", JS\n",
      "    return JS\n",
      "\n",
      "\n",
      "\n",
      "Jaccard_similarity(lesion, label[:, :, 1])"
     ],
     "language": "python",
     "metadata": {},
     "outputs": []
    },
    {
     "cell_type": "code",
     "collapsed": false,
     "input": [
      "print binary.shape[:-1]"
     ],
     "language": "python",
     "metadata": {},
     "outputs": []
    },
    {
     "cell_type": "code",
     "collapsed": false,
     "input": [
      "print np.unique(label[:, :, 1])"
     ],
     "language": "python",
     "metadata": {},
     "outputs": []
    },
    {
     "cell_type": "code",
     "collapsed": false,
     "input": [
      "print label.shape"
     ],
     "language": "python",
     "metadata": {},
     "outputs": []
    },
    {
     "cell_type": "code",
     "collapsed": false,
     "input": [
      "import matplotlib.patches as patches\n",
      "fig2 = plt.figure()\n",
      "ax2 = fig2.add_subplot(111, aspect='equal')\n",
      "ax2.add_patch(\n",
      "    patches.Rectangle(\n",
      "        (0.1, 0.1),\n",
      "        0.5,\n",
      "        0.5,\n",
      "        fill=False      # remove background\n",
      "    )\n",
      ")\n",
      "fig2.savefig('aaaaaaa.png', dpi=90, bbox_inches='tight')"
     ],
     "language": "python",
     "metadata": {},
     "outputs": []
    },
    {
     "cell_type": "markdown",
     "metadata": {},
     "source": [
      "### Connected components"
     ]
    },
    {
     "cell_type": "code",
     "collapsed": false,
     "input": [
      "\"\"\" Olabelovani obrazku \"\"\"\n",
      "ret_img, markers_img = cv2.connectedComponents(binary)\n",
      "ret_lab, markers_lab = cv2.connectedComponents((label[:, :, 1] == 255).astype(\"uint8\"))\n",
      "\n",
      "#plt.imshow(markers_img + markers_lab)\n",
      "#plt.show()\n",
      "\n",
      "# Projizdeni objektu a pocitani JS (IoU)\n",
      "pairs = []\n",
      "for i in range(1, ret_img):\n",
      "    predicted_area = (markers_img == i).astype(\"uint8\")\n",
      "    maxJ = 0\n",
      "    max_label = 0\n",
      "    for j in range(1, ret_lab):\n",
      "        label_area = (markers_lab == j).astype(\"uint8\")\n",
      "        plt.imshow(label_area)\n",
      "        plt.show()\n",
      "        JS = Jaccard_similarity(predicted_area, label_area, intensity_scale=1, label_color=1)\n",
      "        if JS > maxJ:\n",
      "            maxJ = JS\n",
      "            max_label = j\n",
      "    pairs.append([i, max_label, maxJ])\n",
      "\n",
      "# Pocitani Confusion matrix\n",
      "TP, TN, FP, FN = 0, 0, 0, 0\n",
      "J_thr = 0.8\n",
      "\n",
      "for j in range(1, ret_lab):\n",
      "    JSims = [pair[2] for pair in pairs if pair[1] == j]\n",
      "    print JSims\n",
      "    \n",
      "    if len(JSims) == 0:\n",
      "        FN += 1\n",
      "        \n",
      "    elif len(JSims) >= 2:\n",
      "        FP += len(JSims) - 1\n",
      "        if max(JSims) >= J_thr:\n",
      "            TP += 1\n",
      "        else:\n",
      "            FP += 1\n",
      "            FN += 1\n",
      "            \n",
      "    elif len(JSims) == 1:\n",
      "        if JSims[0] >= J_thr:\n",
      "            TP += 1\n",
      "        else:\n",
      "            FP += 1\n",
      "            FN += 1\n",
      "                        \n",
      "print \"TP|TN|FP|FN\"\n",
      "print TP,\"\", TN, \"\", FP, \"\", FN        "
     ],
     "language": "python",
     "metadata": {},
     "outputs": [
      {
       "output_type": "stream",
       "stream": "stdout",
       "text": [
        "[[0 0 0 ..., 0 0 0]\n",
        " [0 0 0 ..., 0 0 0]\n",
        " [0 0 0 ..., 0 0 0]\n",
        " ..., \n",
        " [0 0 0 ..., 0 0 0]\n",
        " [0 0 0 ..., 0 0 0]\n",
        " [0 0 0 ..., 0 0 0]] [0 1 2]\n",
        "3"
       ]
      },
      {
       "output_type": "stream",
       "stream": "stdout",
       "text": [
        "\n",
        "(240, 232)"
       ]
      },
      {
       "output_type": "stream",
       "stream": "stdout",
       "text": [
        " [0 1]\n",
        "109"
       ]
      },
      {
       "output_type": "stream",
       "stream": "stdout",
       "text": [
        " 111\n",
        "[RESULT] Jaccard similarity:  0.00427198291207\n",
        "(240, 232)"
       ]
      },
      {
       "output_type": "stream",
       "stream": "stdout",
       "text": [
        " [0 1]\n",
        "109"
       ]
      },
      {
       "output_type": "stream",
       "stream": "stdout",
       "text": [
        " 121\n",
        "[RESULT] Jaccard similarity:  0.576717693129\n",
        "[0.004271982912068352, 0.5767176931292275]\n",
        "TP|TN|FP|FN\n",
        "0  0  2  1\n"
       ]
      }
     ],
     "prompt_number": 42
    },
    {
     "cell_type": "markdown",
     "metadata": {},
     "source": [
      "# TODO: Recall / Precision curve"
     ]
    },
    {
     "cell_type": "code",
     "collapsed": false,
     "input": [],
     "language": "python",
     "metadata": {},
     "outputs": []
    }
   ],
   "metadata": {}
  }
 ]
}