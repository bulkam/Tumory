{
 "metadata": {
  "kernelspec": {
   "display_name": "Python 3",
   "language": "python",
   "name": "python3"
  },
  "language_info": {
   "codemirror_mode": {
    "name": "ipython",
    "version": 3
   },
   "file_extension": ".py",
   "mimetype": "text/x-python",
   "name": "python",
   "nbconvert_exporter": "python",
   "pygments_lexer": "ipython3",
   "version": "3.6.3"
  },
  "name": "",
  "signature": "sha256:ffb2b0385d6c7b14d65b1b18b01530547e08d136ed0901a40a10e296f570bab4"
 },
 "nbformat": 3,
 "nbformat_minor": 0,
 "worksheets": [
  {
   "cells": [
    {
     "cell_type": "code",
     "collapsed": false,
     "input": [
      "import keras\n",
      "import h5py\n",
      "import numpy as np\n",
      "from random import shuffle\n",
      "import glob\n",
      "import skimage.io\n",
      "import re\n",
      "\n",
      "from matplotlib import pyplot as plt"
     ],
     "language": "python",
     "metadata": {},
     "outputs": []
    },
    {
     "cell_type": "heading",
     "level": 2,
     "metadata": {},
     "source": [
      "Nacteni dat"
     ]
    },
    {
     "cell_type": "code",
     "collapsed": false,
     "input": [
      "#file = h5py.File(\"classification/Keras/results/test_results-no_aug_20epoch_structured_data.hdf5\", 'r')\n",
      "# S-liver\n",
      "#file = h5py.File(\"classification/Keras/results/test_results-no_aug_20epoch_structured_data-liver_only.hdf5\", 'r')\n",
      "# L-liver\n",
      "file = h5py.File(\"classification/Keras/results/test_results-aug_5epoch_structured_data-liver_only.hdf5\", 'r')\n",
      "\n",
      "test_data = file[\"test_data\"]\n",
      "test_labels = file[\"test_labels\"]\n",
      "test_predictions = file[\"test_predictions\"]\n",
      "\n",
      "for key in file.keys():\n",
      "    print(key)"
     ],
     "language": "python",
     "metadata": {},
     "outputs": []
    },
    {
     "cell_type": "heading",
     "level": 2,
     "metadata": {},
     "source": [
      "Vykresleni dat"
     ]
    },
    {
     "cell_type": "code",
     "collapsed": false,
     "input": [
      "indexes = [{\"L-liver\":39, \"S-liver\": 39, \"L\":1, \"S\":1}, \n",
      "           {\"L-liver\":39, \"S-liver\": 39, \"L\":1, \"S\":1}]\n",
      "\n",
      "index = indexes[0][\"L-liver\"]\n",
      "\n",
      "orig = test_data[index][:, :, 0].astype(\"uint8\")\n",
      "label = test_labels[index].astype(\"uint8\") * 255\n",
      "result = test_predictions[index].astype(\"float\") \n",
      "lesion = np.argmax(result, axis=2)*127\n"
     ],
     "language": "python",
     "metadata": {},
     "outputs": []
    },
    {
     "cell_type": "code",
     "collapsed": false,
     "input": [
      "def show_results(label, orig, result, lesion):\n",
      "    f, [[ax11, ax12], [ax21, ax22]] = plt.subplots(2, 2)\n",
      "    f.set_figheight(9)\n",
      "    f.set_figwidth(9)\n",
      "\n",
      "    ax11.imshow(label)\n",
      "    ax11.set_title('Anotation')\n",
      "    ax12.imshow(orig, cmap=\"gray\")\n",
      "    ax12.set_title('Orig image')\n",
      "    ax21.imshow(result)\n",
      "    ax21.set_title('Result label')\n",
      "    ax22.imshow(lesion, cmap=\"gray\")\n",
      "    ax22.set_title('Predicted lesion')\n",
      "    plt.show()\n",
      "    \n",
      "show_results(label, orig, result, lesion)\n"
     ],
     "language": "python",
     "metadata": {
      "scrolled": false
     },
     "outputs": []
    },
    {
     "cell_type": "code",
     "collapsed": false,
     "input": [
      "print(result.shape, np.unique(result), test_data.shape)"
     ],
     "language": "python",
     "metadata": {},
     "outputs": []
    },
    {
     "cell_type": "code",
     "collapsed": false,
     "input": [
      "file.close()"
     ],
     "language": "python",
     "metadata": {},
     "outputs": []
    },
    {
     "cell_type": "heading",
     "level": 1,
     "metadata": {},
     "source": [
      "Predikce modelem"
     ]
    },
    {
     "cell_type": "code",
     "collapsed": false,
     "input": [
      "from keras.models import load_model"
     ],
     "language": "python",
     "metadata": {},
     "outputs": []
    },
    {
     "cell_type": "code",
     "collapsed": false,
     "input": [
      "model = load_model(\"classification/Keras/models/segnet-5epoch_aug_structured_data-liver_only.hdf5\")"
     ],
     "language": "python",
     "metadata": {},
     "outputs": []
    },
    {
     "cell_type": "code",
     "collapsed": false,
     "input": [
      "test_predictions = model.predict(test_data)"
     ],
     "language": "python",
     "metadata": {},
     "outputs": []
    },
    {
     "cell_type": "heading",
     "level": 1,
     "metadata": {},
     "source": [
      "Jen testovani"
     ]
    },
    {
     "cell_type": "code",
     "collapsed": false,
     "input": [
      "a = np.random.rand(5,5,3)\n",
      "\n",
      "print(np.argmax(a,axis=2)*127)"
     ],
     "language": "python",
     "metadata": {},
     "outputs": []
    },
    {
     "cell_type": "code",
     "collapsed": false,
     "input": [
      "print(\"%.5d\" % 2)"
     ],
     "language": "python",
     "metadata": {},
     "outputs": []
    },
    {
     "cell_type": "markdown",
     "metadata": {},
     "source": [
      "# Jaccard similarity"
     ]
    },
    {
     "cell_type": "markdown",
     "metadata": {},
     "source": [
      "### Morfologie"
     ]
    },
    {
     "cell_type": "code",
     "collapsed": false,
     "input": [
      "import h5py\n",
      "import numpy as np\n",
      "import cv2\n",
      "from matplotlib import pyplot as plt\n",
      "import skimage.morphology"
     ],
     "language": "python",
     "metadata": {},
     "outputs": []
    },
    {
     "cell_type": "code",
     "collapsed": false,
     "input": [
      "#file = h5py.File(\"classification/Keras/results/test_results-no_aug_20epoch_structured_data.hdf5\", 'r')\n",
      "# S-liver\n",
      "file = h5py.File(\"classification/Keras/results/test_results-no_aug_20epoch_structured_data-liver_only.hdf5\", 'r')\n",
      "# L-liver\n",
      "#file = h5py.File(\"classification/Keras/results/test_results-aug_5epoch_structured_data-liver_only.hdf5\", 'r')\n",
      "\n",
      "test_data = file[\"test_data\"]\n",
      "test_labels = file[\"test_labels\"]\n",
      "test_predictions = file[\"test_predictions\"]\n",
      "\n",
      "for key in file.keys():\n",
      "    print(key)"
     ],
     "language": "python",
     "metadata": {},
     "outputs": []
    },
    {
     "cell_type": "code",
     "collapsed": false,
     "input": [
      "index = 39\n",
      "\n",
      "orig = test_data[index][:, :, 0].astype(\"uint8\")\n",
      "label = test_labels[index].astype(\"uint8\") * 255\n",
      "result = test_predictions[index].astype(\"float\") \n",
      "lesion = np.argmax(result, axis=2)*127"
     ],
     "language": "python",
     "metadata": {},
     "outputs": []
    },
    {
     "cell_type": "code",
     "collapsed": false,
     "input": [
      "# 1) Odstranit male - odpad\n",
      "# 2) Closing\n",
      "# 3) Fill holes"
     ],
     "language": "python",
     "metadata": {},
     "outputs": []
    },
    {
     "cell_type": "code",
     "collapsed": false,
     "input": [
      "intensity_scale = 127\n",
      "L = 1 * intensity_scale\n",
      "binary = lesion == L\n",
      "\n",
      "binary = cv2.morphologyEx((binary).astype(\"uint8\"), cv2.MORPH_CLOSE, cv2.getStructuringElement(cv2.MORPH_RECT,(5,5)))"
     ],
     "language": "python",
     "metadata": {},
     "outputs": []
    },
    {
     "cell_type": "code",
     "collapsed": false,
     "input": [
      "show_results(label, orig, result, closing)\n",
      "#show_results(label, orig, result, (lesion==127))\n",
      "print np.unique(lesion)\n"
     ],
     "language": "python",
     "metadata": {},
     "outputs": []
    },
    {
     "cell_type": "code",
     "collapsed": false,
     "input": [
      "contours,hierarchy = cv2.findContours(binary, 1, 2)"
     ],
     "language": "python",
     "metadata": {},
     "outputs": []
    },
    {
     "cell_type": "code",
     "collapsed": false,
     "input": [
      "x1, y1, x2, y2 = cv2.boundingRect(binary)\n",
      "x, y, w, h = x1, y1, x1+x2, y1+y2\n",
      "print y, h, x, w\n",
      "img = cv2.rectangle(np.zeros(binary.shape),(x,y),(w, h),(255,0,255),2)\n",
      "plt.imshow(img)\n",
      "plt.show()"
     ],
     "language": "python",
     "metadata": {},
     "outputs": []
    },
    {
     "cell_type": "code",
     "collapsed": false,
     "input": [
      "print binary.shape[:-1]"
     ],
     "language": "python",
     "metadata": {},
     "outputs": []
    },
    {
     "cell_type": "code",
     "collapsed": false,
     "input": [
      "print np.unique(label[:, :, 1])"
     ],
     "language": "python",
     "metadata": {},
     "outputs": []
    },
    {
     "cell_type": "code",
     "collapsed": false,
     "input": [
      "print label.shape"
     ],
     "language": "python",
     "metadata": {},
     "outputs": []
    },
    {
     "cell_type": "code",
     "collapsed": false,
     "input": [
      "import matplotlib.patches as patches\n",
      "fig2 = plt.figure()\n",
      "ax2 = fig2.add_subplot(111, aspect='equal')\n",
      "ax2.add_patch(\n",
      "    patches.Rectangle(\n",
      "        (0.1, 0.1),\n",
      "        0.5,\n",
      "        0.5,\n",
      "        fill=False      # remove background\n",
      "    )\n",
      ")\n",
      "fig2.savefig('aaaaaaa.png', dpi=90, bbox_inches='tight')"
     ],
     "language": "python",
     "metadata": {},
     "outputs": []
    },
    {
     "cell_type": "code",
     "collapsed": false,
     "input": [
      "def Jaccard_similarity(binary_img, binary_ref, print_results=False):\n",
      "    \"\"\" Spocita IoU vysledku a refenercniho obrazku - anotace \"\"\"\n",
      "    \n",
      "    shape = binary_img.shape\n",
      "    blank = np.zeros((shape[0], shape[1]))\n",
      "    \n",
      "    #print binary_ref.shape, np.unique(binary_ref.astype(\"uint8\"))\n",
      "    x1, y1, x2, y2 = cv2.boundingRect(binary_ref.astype(\"uint8\"))\n",
      "    xr, yr, wr, hr = x1, y1, x1+x2, y1+y2\n",
      "    blank[yr:hr, xr:wr] += intensity_scale/2\n",
      "    \n",
      "    x1, y1, x2, y2 = cv2.boundingRect(binary_img)\n",
      "    xi, yi, wi, hi = x1, y1, x1+x2, y1+y2\n",
      "    blank[yi:hi, xi:wi] += intensity_scale/2\n",
      "    blank += binary*intensity_scale/2\n",
      "    #plt.imshow(blank, cmap=\"gray\")\n",
      "    #plt.show()\n",
      "    \n",
      "    if np.sum((binary_img & binary_ref).astype(\"uint8\")) == 0:\n",
      "        return 0\n",
      "    \n",
      "    #print yr, yi\n",
      "    yc = np.max((yr, yi))\n",
      "    hc = np.min((hr, hi))\n",
      "    xc = np.max((xr, xi))\n",
      "    wc = np.min((wr, wi))\n",
      "    \n",
      "    intersection = (hc - yc) * (wc - xc)\n",
      "    unification = ((hr - yr) * (wr - xr)) + ((hi - yi) * (wi - xi)) - intersection\n",
      "    JS = float(intersection) / unification\n",
      "    \n",
      "    if print_results:\n",
      "        print \"[RESULT] Jaccard similarity: \", JS\n",
      "        \n",
      "    return JS\n",
      "\n",
      "\n",
      "\n",
      "#Jaccard_similarity(lesion==127, label[:, :, 1]==255)"
     ],
     "language": "python",
     "metadata": {},
     "outputs": []
    },
    {
     "cell_type": "markdown",
     "metadata": {},
     "source": [
      "### Connected components"
     ]
    },
    {
     "cell_type": "code",
     "collapsed": false,
     "input": [
      "\"\"\" Olabelovani obrazku \"\"\"\n",
      "\n",
      "def apply_morphology_operations(img, ref, intensity_scale=127, label_color=255):\n",
      "    \n",
      "    L = 1 * intensity_scale\n",
      "    binary_img = img == L\n",
      "    binary_ref = ref[:, :, 1] == label_color\n",
      "\n",
      "    binary_img = cv2.morphologyEx(binary_img.astype(\"uint8\"), \n",
      "                                  cv2.MORPH_CLOSE, \n",
      "                                  cv2.getStructuringElement(cv2.MORPH_RECT,(11,11)))\n",
      "    \n",
      "    binary_img = skimage.morphology.remove_small_objects(binary_img==1, min_size=64).astype(\"uint8\")\n",
      "    \n",
      "    return binary_img, binary_ref\n",
      "\n",
      "    \n",
      "\n",
      "def evaluate_boxes_overlap(img, label, J_thr = 0.8, print_steps=True):\n",
      "    \n",
      "    binary_img, binary_ref = apply_morphology_operations(img, label)\n",
      "    \n",
      "    ret_img, markers_img = cv2.connectedComponents(binary_img)\n",
      "    ret_lab, markers_lab = cv2.connectedComponents((binary_ref).astype(\"uint8\"))\n",
      "\n",
      "    plt.imshow(markers_img + markers_lab)\n",
      "    plt.show()\n",
      "    \n",
      "    # Projizdeni objektu a pocitani JS (IoU)\n",
      "    pairs = []\n",
      "    for i in range(1, ret_img):\n",
      "        predicted_area = (markers_img == i).astype(\"uint8\")\n",
      "        maxJ = 0\n",
      "        max_label = 0\n",
      "        for j in range(1, ret_lab):\n",
      "            label_area = (markers_lab == j).astype(\"uint8\")\n",
      "            JS = Jaccard_similarity(predicted_area, label_area)\n",
      "            if JS > maxJ:\n",
      "                maxJ = JS\n",
      "                max_label = j\n",
      "        pairs.append([i, max_label, maxJ])\n",
      "\n",
      "    # Pocitani Confusion matrix\n",
      "    TP, TN, FP, FN = 0, 0, 0, 0\n",
      "\n",
      "    for j in range(1, ret_lab):\n",
      "        JSims = [pair[2] for pair in pairs if pair[1] == j]\n",
      "        #print JSims\n",
      "\n",
      "        if len(JSims) == 0:\n",
      "            FN += 1\n",
      "\n",
      "        elif len(JSims) >= 2:\n",
      "            FP += len(JSims) - 1\n",
      "            if max(JSims) >= J_thr:\n",
      "                TP += 1\n",
      "            else:\n",
      "                FP += 1\n",
      "                FN += 1\n",
      "\n",
      "        elif len(JSims) == 1:\n",
      "            if JSims[0] >= J_thr:\n",
      "                TP += 1\n",
      "            else:\n",
      "                FP += 1\n",
      "                FN += 1\n",
      "                \n",
      "    if print_steps:\n",
      "        print TP,\"\", TN, \"\", FP, \"\", FN\n",
      "    \n",
      "    return TP, TN, FP, FN"
     ],
     "language": "python",
     "metadata": {},
     "outputs": []
    },
    {
     "cell_type": "code",
     "collapsed": false,
     "input": [
      "def evaluate(mode=\"argmax\", Pmin=0.33):\n",
      "    \n",
      "    print \"TP|TN|FP|FN\"\n",
      "\n",
      "    TPs, TNs, FPs, FNs = 0, 0, 0, 0\n",
      "\n",
      "    for index in range(test_predictions.shape[0]):\n",
      "\n",
      "        if index % 500 == 0:\n",
      "            print index, \" / \", test_predictions.shape[0]\n",
      "\n",
      "        orig = test_data[index][:, :, 0].astype(\"uint8\")\n",
      "        label = test_labels[index].astype(\"uint8\") * 255\n",
      "        result = test_predictions[index].astype(\"float\")\n",
      "        \n",
      "        if mode == \"Pmin\":\n",
      "            lesion = (result[:, :, 1] >= Pmin).astype(\"uint8\")\n",
      "            #plt.imshow(lesion, interpolation=\"nearest\")\n",
      "            #plt.show()\n",
      "            \n",
      "        else:\n",
      "            lesion = np.argmax(result, axis=2)*127\n",
      "\n",
      "        TP, TN, FP, FN = evaluate_boxes_overlap(lesion, label, J_thr = 0.8, print_steps=bool(0))\n",
      "        TPs += TP\n",
      "        TNs += TN\n",
      "        FPs += FP\n",
      "        FNs += FN\n",
      "        break\n",
      "        \n",
      "    precision = float(TPs) / (TPs + FPs)\n",
      "    accuracy = float(TPs + TNs) / (TPs + TNs + FPs + FNs)\n",
      "    recall = float(TPs) / (TPs + FNs)\n",
      "    FPC = float(FPs) / test_predictions.shape[0]\n",
      "\n",
      "\n",
      "    print \"TP: \", TPs\n",
      "    print \"FP: \", FPs\n",
      "    print \"FN: \", FNs\n",
      "    print \"_______________________\"\n",
      "    print \"Recall:    \", recall\n",
      "    print \"Precision: \", precision\n",
      "    print \"FPC:       \", FPC\n",
      "\n",
      "#evaluate()"
     ],
     "language": "python",
     "metadata": {},
     "outputs": []
    },
    {
     "cell_type": "code",
     "collapsed": false,
     "input": [],
     "language": "python",
     "metadata": {},
     "outputs": []
    },
    {
     "cell_type": "markdown",
     "metadata": {},
     "source": [
      "# TODO: Recall / Precision curve"
     ]
    },
    {
     "cell_type": "code",
     "collapsed": false,
     "input": [
      "Pmins = [0.13, 0.5, 0.7]\n",
      "\n",
      "for Pmin in Pmins:\n",
      "    evaluate(mode=\"Pmin\", Pmin=Pmin)\n",
      "\n"
     ],
     "language": "python",
     "metadata": {},
     "outputs": []
    },
    {
     "cell_type": "code",
     "collapsed": false,
     "input": [],
     "language": "python",
     "metadata": {},
     "outputs": []
    }
   ],
   "metadata": {}
  }
 ]
}