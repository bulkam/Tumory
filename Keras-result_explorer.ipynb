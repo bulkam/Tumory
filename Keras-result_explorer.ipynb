{
 "metadata": {
  "kernelspec": {
   "display_name": "Python 3",
   "language": "python",
   "name": "python3"
  },
  "language_info": {
   "codemirror_mode": {
    "name": "ipython",
    "version": 3
   },
   "file_extension": ".py",
   "mimetype": "text/x-python",
   "name": "python",
   "nbconvert_exporter": "python",
   "pygments_lexer": "ipython3",
   "version": "3.6.3"
  },
  "name": "",
  "signature": "sha256:991d5193beb5651683126662ae83f5f96924d3826d63db969ed3d4a2a0ebefbc"
 },
 "nbformat": 3,
 "nbformat_minor": 0,
 "worksheets": [
  {
   "cells": [
    {
     "cell_type": "code",
     "collapsed": false,
     "input": [
      "import keras\n",
      "import h5py\n",
      "import numpy as np\n",
      "from random import shuffle\n",
      "import glob\n",
      "import skimage.io\n",
      "import re\n",
      "\n",
      "from matplotlib import pyplot as plt"
     ],
     "language": "python",
     "metadata": {},
     "outputs": []
    },
    {
     "cell_type": "heading",
     "level": 2,
     "metadata": {},
     "source": [
      "Nacteni dat"
     ]
    },
    {
     "cell_type": "code",
     "collapsed": false,
     "input": [
      "#file = h5py.File(\"classification/Keras/results/test_results-no_aug_20epoch_structured_data.hdf5\", 'r')\n",
      "# S-liver\n",
      "file = h5py.File(\"classification/Keras/results/test_results-no_aug_20epoch_structured_data-liver_only.hdf5\", 'r')\n",
      "# L-liver\n",
      "#file = h5py.File(\"classification/Keras/results/test_results-aug_5epoch_structured_data-liver_only.hdf5\", 'r')\n",
      "\n",
      "test_data = file[\"test_data\"]\n",
      "test_labels = file[\"test_labels\"]\n",
      "test_predictions = file[\"test_predictions\"]\n",
      "\n",
      "for key in file.keys():\n",
      "    print(key)"
     ],
     "language": "python",
     "metadata": {},
     "outputs": []
    },
    {
     "cell_type": "heading",
     "level": 2,
     "metadata": {},
     "source": [
      "Vykresleni dat"
     ]
    },
    {
     "cell_type": "code",
     "collapsed": false,
     "input": [
      "indexes = [{\"L-liver\":39, \"S-liver\": 39, \"L\":1, \"S\":1}, \n",
      "           {\"L-liver\":39, \"S-liver\": 39, \"L\":1, \"S\":1}]\n",
      "\n",
      "index = indexes[0][\"L-liver\"]\n",
      "\n",
      "orig = test_data[index][:, :, 0].astype(\"uint8\")\n",
      "label = test_labels[index].astype(\"uint8\") * 255\n",
      "result = test_predictions[index].astype(\"float\") \n",
      "lesion = np.argmax(result, axis=2)*127"
     ],
     "language": "python",
     "metadata": {},
     "outputs": []
    },
    {
     "cell_type": "code",
     "collapsed": false,
     "input": [
      "def show_results(label, orig, result, lesion):\n",
      "    f, [[ax11, ax12], [ax21, ax22]] = plt.subplots(2, 2)\n",
      "    f.set_figheight(9)\n",
      "    f.set_figwidth(9)\n",
      "\n",
      "    ax11.imshow(label)\n",
      "    ax11.set_title('Anotation')\n",
      "    ax12.imshow(orig, cmap=\"gray\")\n",
      "    ax12.set_title('Orig image')\n",
      "    ax21.imshow(result)\n",
      "    ax21.set_title('Result label')\n",
      "    ax22.imshow(lesion, cmap=\"gray\")\n",
      "    ax22.set_title('Predicted lesion')\n",
      "    plt.show()\n",
      "    \n",
      "show_results(label, orig, result, lesion)\n"
     ],
     "language": "python",
     "metadata": {
      "scrolled": false
     },
     "outputs": []
    },
    {
     "cell_type": "code",
     "collapsed": false,
     "input": [
      "print(result.shape, np.unique(result), test_data.shape)"
     ],
     "language": "python",
     "metadata": {},
     "outputs": []
    },
    {
     "cell_type": "code",
     "collapsed": false,
     "input": [
      "file.close()"
     ],
     "language": "python",
     "metadata": {},
     "outputs": []
    },
    {
     "cell_type": "heading",
     "level": 1,
     "metadata": {},
     "source": [
      "Predikce modelem"
     ]
    },
    {
     "cell_type": "code",
     "collapsed": false,
     "input": [
      "from keras.models import load_model"
     ],
     "language": "python",
     "metadata": {},
     "outputs": []
    },
    {
     "cell_type": "code",
     "collapsed": false,
     "input": [
      "model = load_model(\"classification/Keras/models/segnet-5epoch_aug_structured_data-liver_only.hdf5\")"
     ],
     "language": "python",
     "metadata": {},
     "outputs": []
    },
    {
     "cell_type": "code",
     "collapsed": false,
     "input": [
      "test_predictions = model.predict(test_data)"
     ],
     "language": "python",
     "metadata": {},
     "outputs": []
    },
    {
     "cell_type": "heading",
     "level": 1,
     "metadata": {},
     "source": [
      "Jen testovani"
     ]
    },
    {
     "cell_type": "code",
     "collapsed": false,
     "input": [
      "a = np.random.rand(5,5,3)\n",
      "\n",
      "print(np.argmax(a,axis=2)*127)"
     ],
     "language": "python",
     "metadata": {},
     "outputs": []
    },
    {
     "cell_type": "code",
     "collapsed": false,
     "input": [
      "print(\"%.5d\" % 2)"
     ],
     "language": "python",
     "metadata": {},
     "outputs": []
    },
    {
     "cell_type": "heading",
     "level": 1,
     "metadata": {},
     "source": [
      "Jaccard similarity"
     ]
    },
    {
     "cell_type": "heading",
     "level": 3,
     "metadata": {},
     "source": [
      "Morfologie"
     ]
    },
    {
     "cell_type": "code",
     "collapsed": false,
     "input": [
      "import h5py\n",
      "import numpy as np\n",
      "import cv2\n",
      "from matplotlib import pyplot as plt\n",
      "import skimage.morphology"
     ],
     "language": "python",
     "metadata": {},
     "outputs": []
    },
    {
     "cell_type": "code",
     "collapsed": false,
     "input": [
      "#file = h5py.File(\"classification/Keras/results/test_results-no_aug_20epoch_structured_data.hdf5\", 'r')\n",
      "# S-liver\n",
      "file = h5py.File(\"classification/Keras/results/test_results-no_aug_20epoch_structured_data-liver_only.hdf5\", 'r')\n",
      "# L-liver\n",
      "#file = h5py.File(\"classification/Keras/results/test_results-aug_5epoch_structured_data-liver_only.hdf5\", 'r')\n",
      "\n",
      "test_data = file[\"test_data\"]\n",
      "test_labels = file[\"test_labels\"]\n",
      "test_predictions = file[\"test_predictions\"]\n",
      "\n",
      "for key in file.keys():\n",
      "    print(key)"
     ],
     "language": "python",
     "metadata": {},
     "outputs": []
    },
    {
     "cell_type": "code",
     "collapsed": false,
     "input": [
      "index = 39\n",
      "\n",
      "orig = test_data[index][:, :, 0].astype(\"uint8\")\n",
      "label = test_labels[index].astype(\"uint8\") * 255\n",
      "result = test_predictions[index].astype(\"float\") \n",
      "lesion = np.argmax(result, axis=2)*127"
     ],
     "language": "python",
     "metadata": {},
     "outputs": []
    },
    {
     "cell_type": "code",
     "collapsed": false,
     "input": [
      "# 1) Odstranit male - odpad\n",
      "# 2) Closing\n",
      "# 3) Fill holes"
     ],
     "language": "python",
     "metadata": {},
     "outputs": []
    },
    {
     "cell_type": "code",
     "collapsed": false,
     "input": [
      "intensity_scale = 127\n",
      "L = 1 * intensity_scale\n",
      "binary = lesion == L\n",
      "\n",
      "binary = cv2.morphologyEx((binary).astype(\"uint8\"), cv2.MORPH_CLOSE, cv2.getStructuringElement(cv2.MORPH_RECT,(5,5)))"
     ],
     "language": "python",
     "metadata": {},
     "outputs": []
    },
    {
     "cell_type": "code",
     "collapsed": false,
     "input": [
      "show_results(label, orig, result, closing)\n",
      "#show_results(label, orig, result, (lesion==127))\n",
      "print np.unique(lesion)\n"
     ],
     "language": "python",
     "metadata": {},
     "outputs": []
    },
    {
     "cell_type": "code",
     "collapsed": false,
     "input": [
      "contours,hierarchy = cv2.findContours(binary, 1, 2)"
     ],
     "language": "python",
     "metadata": {},
     "outputs": []
    },
    {
     "cell_type": "code",
     "collapsed": false,
     "input": [
      "x1, y1, x2, y2 = cv2.boundingRect(binary)\n",
      "x, y, w, h = x1, y1, x1+x2, y1+y2\n",
      "print y, h, x, w\n",
      "img = cv2.rectangle(np.zeros(binary.shape),(x,y),(w, h),(255,0,255),2)\n",
      "plt.imshow(img)\n",
      "plt.show()"
     ],
     "language": "python",
     "metadata": {},
     "outputs": []
    },
    {
     "cell_type": "code",
     "collapsed": false,
     "input": [
      "print binary.shape[:-1]"
     ],
     "language": "python",
     "metadata": {},
     "outputs": []
    },
    {
     "cell_type": "code",
     "collapsed": false,
     "input": [
      "print np.unique(label[:, :, 1])"
     ],
     "language": "python",
     "metadata": {},
     "outputs": []
    },
    {
     "cell_type": "code",
     "collapsed": false,
     "input": [
      "print label.shape"
     ],
     "language": "python",
     "metadata": {},
     "outputs": []
    },
    {
     "cell_type": "code",
     "collapsed": false,
     "input": [
      "import matplotlib.patches as patches\n",
      "fig2 = plt.figure()\n",
      "ax2 = fig2.add_subplot(111, aspect='equal')\n",
      "ax2.add_patch(\n",
      "    patches.Rectangle(\n",
      "        (0.1, 0.1),\n",
      "        0.5,\n",
      "        0.5,\n",
      "        fill=False      # remove background\n",
      "    )\n",
      ")\n",
      "fig2.savefig('aaaaaaa.png', dpi=90, bbox_inches='tight')"
     ],
     "language": "python",
     "metadata": {},
     "outputs": []
    },
    {
     "cell_type": "code",
     "collapsed": false,
     "input": [
      "def Jaccard_similarity(binary_img, binary_ref, print_results=False):\n",
      "    \"\"\" Spocita IoU vysledku a refenercniho obrazku - anotace \"\"\"\n",
      "    \n",
      "    shape = binary_img.shape\n",
      "    blank = np.zeros((shape[0], shape[1]))\n",
      "    \n",
      "    #print binary_ref.shape, np.unique(binary_ref.astype(\"uint8\"))\n",
      "    x1, y1, x2, y2 = cv2.boundingRect(binary_ref.astype(\"uint8\"))\n",
      "    xr, yr, wr, hr = x1, y1, x1+x2, y1+y2\n",
      "    blank[yr:hr, xr:wr] += intensity_scale/2\n",
      "    \n",
      "    x1, y1, x2, y2 = cv2.boundingRect(binary_img)\n",
      "    xi, yi, wi, hi = x1, y1, x1+x2, y1+y2\n",
      "    blank[yi:hi, xi:wi] += intensity_scale/2\n",
      "    blank += binary*intensity_scale/2\n",
      "    #plt.imshow(blank, cmap=\"gray\")\n",
      "    #plt.show()\n",
      "    \n",
      "    if np.sum((binary_img & binary_ref).astype(\"uint8\")) == 0:\n",
      "        return 0\n",
      "    \n",
      "    #print yr, yi\n",
      "    yc = np.max((yr, yi))\n",
      "    hc = np.min((hr, hi))\n",
      "    xc = np.max((xr, xi))\n",
      "    wc = np.min((wr, wi))\n",
      "    \n",
      "    intersection = (hc - yc) * (wc - xc)\n",
      "    unification = ((hr - yr) * (wr - xr)) + ((hi - yi) * (wi - xi)) - intersection\n",
      "    JS = float(intersection) / unification\n",
      "    \n",
      "    if print_results:\n",
      "        print \"[RESULT] Jaccard similarity: \", JS\n",
      "        \n",
      "    return JS\n",
      "\n",
      "\n",
      "\n",
      "#Jaccard_similarity(lesion==127, label[:, :, 1]==255)"
     ],
     "language": "python",
     "metadata": {},
     "outputs": []
    },
    {
     "cell_type": "heading",
     "level": 3,
     "metadata": {},
     "source": [
      "Connected components"
     ]
    },
    {
     "cell_type": "code",
     "collapsed": false,
     "input": [
      "\"\"\" Olabelovani obrazku \"\"\"\n",
      "\n",
      "def apply_morphology_operations(img, ref, intensity_scale=127, label_color=255):\n",
      "    \n",
      "    L = 1 * intensity_scale\n",
      "    binary_img = img == L\n",
      "    binary_ref = ref[:, :, 1] == label_color\n",
      "\n",
      "    binary_img = cv2.morphologyEx(binary_img.astype(\"uint8\"), \n",
      "                                  cv2.MORPH_CLOSE, \n",
      "                                  cv2.getStructuringElement(cv2.MORPH_RECT,(11,11)))\n",
      "    \n",
      "    binary_img = skimage.morphology.remove_small_objects(binary_img==1, min_size=64).astype(\"uint8\")\n",
      "    \n",
      "    return binary_img, binary_ref\n",
      "\n",
      "    \n",
      "\n",
      "def evaluate_boxes_overlap(img, label, J_thr = 0.8, print_steps=True):\n",
      "    \n",
      "    binary_img, binary_ref = apply_morphology_operations(img, label)\n",
      "    \n",
      "    ret_img, markers_img = cv2.connectedComponents(binary_img)\n",
      "    ret_lab, markers_lab = cv2.connectedComponents((binary_ref).astype(\"uint8\"))\n",
      "    \n",
      "    plt.\n",
      "\n",
      "    #plt.imshow(markers_img + markers_lab)\n",
      "    #plt.show()\n",
      "    \n",
      "    # Projizdeni objektu a pocitani JS (IoU)\n",
      "    pairs = []\n",
      "    for i in range(1, ret_img):\n",
      "        predicted_area = (markers_img == i).astype(\"uint8\")\n",
      "        maxJ = 0\n",
      "        max_label = 0\n",
      "        for j in range(1, ret_lab):\n",
      "            label_area = (markers_lab == j).astype(\"uint8\")\n",
      "            JS = Jaccard_similarity(predicted_area, label_area)\n",
      "            if JS > maxJ:\n",
      "                maxJ = JS\n",
      "                max_label = j\n",
      "        pairs.append([i, max_label, maxJ])\n",
      "\n",
      "    # Pocitani Confusion matrix\n",
      "    TP, TN, FP, FN = 0, 0, 0, 0\n",
      "\n",
      "    for j in range(1, ret_lab):\n",
      "        JSims = [pair[2] for pair in pairs if pair[1] == j]\n",
      "        #print JSims\n",
      "\n",
      "        if len(JSims) == 0:\n",
      "            FN += 1\n",
      "\n",
      "        elif len(JSims) >= 2:\n",
      "            FP += len(JSims) - 1\n",
      "            if max(JSims) >= J_thr:\n",
      "                TP += 1\n",
      "            else:\n",
      "                FP += 1\n",
      "                FN += 1\n",
      "\n",
      "        elif len(JSims) == 1:\n",
      "            if JSims[0] >= J_thr:\n",
      "                TP += 1\n",
      "            else:\n",
      "                FP += 1\n",
      "                FN += 1\n",
      "                \n",
      "    if print_steps:\n",
      "        print TP,\"\", TN, \"\", FP, \"\", FN\n",
      "    \n",
      "    return TP, TN, FP, FN"
     ],
     "language": "python",
     "metadata": {},
     "outputs": []
    },
    {
     "cell_type": "code",
     "collapsed": false,
     "input": [
      "def evaluate(mode=\"argmax\", Pmin=0.33):\n",
      "    \n",
      "    print \"TP|TN|FP|FN\"\n",
      "\n",
      "    TPs, TNs, FPs, FNs = 0, 0, 0, 0\n",
      "\n",
      "    for index in range(test_predictions.shape[0]):\n",
      "\n",
      "        if index % 500 == 0:\n",
      "            print index, \" / \", test_predictions.shape[0]\n",
      "\n",
      "        orig = test_data[index][:, :, 0].astype(\"uint8\")\n",
      "        label = test_labels[index].astype(\"uint8\") * 255\n",
      "        result = test_predictions[index].astype(\"float\")\n",
      "        \n",
      "        if mode == \"Pmin\":\n",
      "            lesion = (result[:, :, 1] >= Pmin).astype(\"uint8\")\n",
      "            #plt.imshow(lesion, interpolation=\"nearest\")\n",
      "            #plt.show()\n",
      "            \n",
      "        else:\n",
      "            lesion = np.argmax(result, axis=2)*127\n",
      "\n",
      "        TP, TN, FP, FN = evaluate_boxes_overlap(lesion, label, J_thr = 0.8, print_steps=bool(0))\n",
      "        TPs += TP\n",
      "        TNs += TN\n",
      "        FPs += FP\n",
      "        FNs += FN\n",
      "        \n",
      "    precision = float(TPs) / (TPs + FPs)\n",
      "    accuracy = float(TPs + TNs) / (TPs + TNs + FPs + FNs)\n",
      "    recall = float(TPs) / (TPs + FNs)\n",
      "    FPC = float(FPs) / test_predictions.shape[0]\n",
      "\n",
      "\n",
      "    print \"TP: \", TPs\n",
      "    print \"FP: \", FPs\n",
      "    print \"FN: \", FNs\n",
      "    print \"_______________________\"\n",
      "    print \"Recall:    \", recall\n",
      "    print \"Precision: \", precision\n",
      "    print \"FPC:       \", FPC\n",
      "\n",
      "#evaluate()"
     ],
     "language": "python",
     "metadata": {},
     "outputs": []
    },
    {
     "cell_type": "code",
     "collapsed": false,
     "input": [
      "evaluate(mode=\"argmax\")"
     ],
     "language": "python",
     "metadata": {},
     "outputs": []
    },
    {
     "cell_type": "markdown",
     "metadata": {},
     "source": [
      "## Prozkoumani spravnosti pocitani TP, FP a FN"
     ]
    },
    {
     "cell_type": "code",
     "collapsed": false,
     "input": [
      "import CNN_evaluator\n",
      "import h5py\n",
      "import numpy as np\n",
      "import cv2\n",
      "from matplotlib import pyplot as plt\n",
      "import skimage.morphology"
     ],
     "language": "python",
     "metadata": {},
     "outputs": []
    },
    {
     "cell_type": "code",
     "collapsed": false,
     "input": [
      "def evaluate_boxes_overlap_correct(img, label, J_thr = 0.8, print_steps=True, show_plot=False):\n",
      "    \n",
      "    binary_img, binary_ref = CNN_evaluator.apply_morphology_operations(img, label)\n",
      "    \n",
      "    ret_img, markers_img = cv2.connectedComponents(binary_img)\n",
      "    ret_lab, markers_lab = cv2.connectedComponents((binary_ref).astype(\"uint8\"))\n",
      "    \n",
      "\n",
      "    \n",
      "    TP, TN, FP, FN = 0, 0, 0, 0\n",
      "    \n",
      "    # Projizdeni objektu a pocitani JS (IoU)        \n",
      "    for j in range(1, ret_lab):\n",
      "        maxJ = 0\n",
      "        for i in range(1, ret_img):\n",
      "            predicted_area = (markers_img == i).astype(\"uint8\")\n",
      "            label_area = (markers_lab == j).astype(\"uint8\")\n",
      "            JS = CNN_evaluator.Jaccard_similarity(predicted_area, label_area)\n",
      "            if JS > maxJ:\n",
      "                maxJ = JS\n",
      "        if maxJ >= J_thr:\n",
      "            TP += 1\n",
      "            \n",
      "            \n",
      "    # Pocitani Confusion matrix\n",
      "    FP += ret_img - 1 - TP   \n",
      "    FN += ret_lab - 1 - TP\n",
      "          \n",
      "    if print_steps:\n",
      "        print(TP,\"\", TN, \"\", FP, \"\", FN)\n",
      "        if show_plot:\n",
      "            blank = np.zeros(binary_img.shape)\n",
      "            blank += binary_img * 50\n",
      "            blank += binary_ref * 210\n",
      "            blank[0,0] = 255\n",
      "            plt.imshow(blank, cmap=\"gray\", interpolation = \"nearest\")\n",
      "            plt.show()\n",
      "    \n",
      "    \n",
      "    return TP, TN, FP, FN\n",
      "\n",
      "\n",
      "def evaluate_JS_correct(test_labels, test_predictions, mode=\"argmax\", Pmin=0.33, print_steps=False):\n",
      "    \n",
      "    print(\"TP|TN|FP|FN\")\n",
      "    indexes = [21, 32, 36, 38, 37, 46, 48, 72, 84, 12, 19, 96]\n",
      "\n",
      "    TPs, TNs, FPs, FNs = 0, 0, 0, 0\n",
      "\n",
      "    for index in range(test_predictions.shape[0]):\n",
      "\n",
      "        if index % 500 == 0:\n",
      "            print(index, \" / \", test_predictions.shape[0])\n",
      "\n",
      "        label = test_labels[index].astype(\"uint8\") * 255\n",
      "        result = test_predictions[index].astype(\"float\")\n",
      "        \n",
      "        if mode == \"Pmin\":\n",
      "            lesion = (result[:, :, 1] >= Pmin).astype(\"uint8\")\n",
      "            \n",
      "        else:\n",
      "            lesion = np.argmax(result, axis=2)*127\n",
      "        \n",
      "        print_steps = False#index in indexes\n",
      "        if print_steps:\n",
      "            print index,\n",
      "        \n",
      "        show_plot = False#index in indexes #True#index == 4\n",
      "        \n",
      "        TP, TN, FP, FN = evaluate_boxes_overlap_correct(lesion, label, \n",
      "                                                J_thr = 0.8,\n",
      "                                                print_steps=print_steps,\n",
      "                                                show_plot=show_plot)\n",
      "        TPs += TP\n",
      "        TNs += TN\n",
      "        FPs += FP\n",
      "        FNs += FN\n",
      "        #if show_plot:\n",
      "        #    break\n",
      "        #if index > 5:\n",
      "        #    break\n",
      "        \n",
      "    precision = float(TPs) / (TPs + FPs)\n",
      "    accuracy = float(TPs + TNs) / (TPs + TNs + FPs + FNs)\n",
      "    recall = float(TPs) / (TPs + FNs)\n",
      "    FPC = float(FPs) / test_predictions.shape[0]\n",
      "\n",
      "    print(\"TP: \", TPs)\n",
      "    print(\"FP: \", FPs)\n",
      "    print(\"FN: \", FNs)\n",
      "    print(\"_______________________\")\n",
      "    print(\"Recall:    \", recall)\n",
      "    print(\"Precision: \", precision)\n",
      "    print(\"FPC:       \", FPC)\n",
      "    \n",
      "    vocab = {\"precision\": precision,\n",
      "             \"FPC\": FPC,\n",
      "             \"recall\": recall,\n",
      "             \"TPR\": recall}\n",
      "    return vocab\n",
      "    "
     ],
     "language": "python",
     "metadata": {},
     "outputs": []
    },
    {
     "cell_type": "code",
     "collapsed": false,
     "input": [
      "JS = CNN_evaluator.evaluate_JS(test_labels, test_predictions, print_steps=bool(0))\n",
      "print(\"\\n--- Korektni ---\\n\")\n",
      "JS_correct = evaluate_JS_correct(test_labels, test_predictions, print_steps=bool(0))"
     ],
     "language": "python",
     "metadata": {},
     "outputs": []
    },
    {
     "cell_type": "heading",
     "level": 1,
     "metadata": {},
     "source": [
      "TODO: Recall / Precision curve"
     ]
    },
    {
     "cell_type": "code",
     "collapsed": false,
     "input": [
      "Pmins = [0.13, 0.5, 0.7]\n",
      "\n",
      "for Pmin in Pmins:\n",
      "    evaluate(mode=\"Pmin\", Pmin=Pmin)\n",
      "\n"
     ],
     "language": "python",
     "metadata": {},
     "outputs": []
    },
    {
     "cell_type": "heading",
     "level": 1,
     "metadata": {},
     "source": [
      "HoGovsky evaluate"
     ]
    },
    {
     "cell_type": "code",
     "collapsed": false,
     "input": [
      "import h5py\n",
      "import numpy as np\n",
      "from random import shuffle\n",
      "import glob\n",
      "import skimage.io\n",
      "import re\n",
      "\n",
      "import cv2\n",
      "from matplotlib import pyplot as plt\n",
      "import feature_extractor as fe\n",
      "import data_reader as dr\n",
      "import CNN_evaluator"
     ],
     "language": "python",
     "metadata": {},
     "outputs": []
    },
    {
     "cell_type": "code",
     "collapsed": false,
     "input": [
      "#file = h5py.File(\"classification/Keras/results/test_results-no_aug_20epoch_structured_data.hdf5\", 'r')\n",
      "# S-liver\n",
      "file = h5py.File(\"classification/Keras/results/test_results-no_aug_20epoch_structured_data-liver_only.hdf5\", 'r')\n",
      "# L-liver\n",
      "#file = h5py.File(\"classification/Keras/results/test_results-aug_5epoch_structured_data-liver_only.hdf5\", 'r')\n",
      "\n",
      "test_data = file[\"test_data\"]\n",
      "test_labels = file[\"test_labels\"]\n",
      "test_predictions = file[\"test_predictions\"]\n",
      "\n",
      "for key in file.keys():\n",
      "    print(key)"
     ],
     "language": "python",
     "metadata": {},
     "outputs": []
    },
    {
     "cell_type": "code",
     "collapsed": false,
     "input": [
      "def covered_by_artefact(mask_frame):\n",
      "    \"\"\" Vrati indikator, zda je box vyplnen artefaktem ci nikoliv \"\"\"\n",
      "\n",
      "    # vypocet pokryti boxu a jeho stredu artefaktem\n",
      "    bb_artefact_coverage = fe.artefact_coverage(mask_frame)\n",
      "    bb_artefact_center_coverage, _ = fe.artefact_center_ellipse_coverage(mask_frame)\n",
      "    print \"COV:\", bb_artefact_coverage\n",
      "    # nastaveni prahu\n",
      "    # TODO: cist z configu\n",
      "    min_ac = 0.4    # minimalni pokryti boxu artefaktem\n",
      "    min_acc = 0.6   # minimalni pokryti stredu boxu artefaktem\n",
      "    # vrati logicky soucin techto dvou podminek\n",
      "    return bb_artefact_coverage >= min_ac and bb_artefact_center_coverage >= min_acc\n",
      "\n",
      "\n",
      "def evaluate_nms_results_overlap(test_data, test_labels, test_predictions, print_steps=True, orig_only=False, mode=\"argmax\",\n",
      "                                 sliding_window_size=(48, 48)):\n",
      "    \"\"\" Ohodnoti prekryti vyslednych bounding boxu s artefakty \"\"\"\n",
      "\n",
      "    # inicializace statistik\n",
      "    TP, TN, FP, FN = 0, 0, 0, 0\n",
      "\n",
      "    problematic = list()\n",
      "    bounding_boxes = get_boxes(test_predictions, test_labels, padding=10)\n",
      "    #print bounding_boxes\n",
      "\n",
      "    for index in range(test_labels.shape[0]): \n",
      "        #index = 39\n",
      "        orig = test_data[index][:, :, 0].astype(\"uint8\")\n",
      "        mask = test_labels[index].astype(\"uint8\") * 255\n",
      "        result = test_predictions[index].astype(\"float\")\n",
      "        \n",
      "        boxes = bounding_boxes[index]\n",
      "        \n",
      "        mask = np.argmax(mask, axis=2)*127\n",
      "        if mode == \"Pmin\":\n",
      "            lesion = (result[:, :, 1] >= Pmin).astype(\"uint8\")\n",
      "        else:\n",
      "            lesion = np.argmax(result, axis=2)*127\n",
      "\n",
      "        TP0, TN0, FP0, FN0 = 0, 0, 0, 0\n",
      "        \n",
      "        # oriznuti obrazku a masky -> takhle se to dela u augmentovanych\n",
      "        #img, mask = fe.cut_image(orig, mask)\n",
      "        mask /= 127\n",
      "        # olabelovani artefaktu\n",
      "        imlabel = fe.label(mask)\n",
      "        # obarveni mist bez artefaktu na 0\n",
      "        imlabel[(mask==0) | (mask==2)] = 0\n",
      "        # vytvoreni prazdneho obrazku\n",
      "        blank = np.zeros(mask.shape)\n",
      "        # ziskani indexu artefaktu\n",
      "        artefact_ids = np.unique(imlabel)[1:]\n",
      "        # seznam boxu, ktere pokryvaji nejaky artefakt\n",
      "        covered_box_ids = list()\n",
      "        \n",
      "        #print boxes, np.unique(mask), np.unique(imlabel)\n",
      "        #plt.imshow(imlabel)\n",
      "        #plt.show()\n",
      "\n",
      "        # prochazeni vsech artefaktu\n",
      "        for i in artefact_ids:\n",
      "\n",
      "            covered_by_bb = False\n",
      "\n",
      "            for j, (y, h, x, w) in enumerate(boxes):\n",
      "                # obarveni oblasti boxu\n",
      "                blank[y:h, x:w] = 1\n",
      "                # vypocet pixelu artefaktu celeho a v boxu\n",
      "                na = np.sum((imlabel==i).astype(int))\n",
      "                nab = np.sum((imlabel==i) & (blank==1))\n",
      "                # vypocet zastoupeni bb v artefaktu\n",
      "                artefact_bb_coverage = float(nab)/na\n",
      "\n",
      "                # pokud je artefakt alespon z poloviny pokryt boxem\n",
      "                if artefact_bb_coverage >= 0.5:\n",
      "                    \n",
      "                    #print artefact_bb_coverage\n",
      "\n",
      "                    covered_box_ids.append(j)\n",
      "                    # vytazeni frmau masky\n",
      "                    mask_frame = mask[y:h, x:w]\n",
      "                    # pokud jsou pokryty artefaktem -> TP, jinak FP\n",
      "                    if covered_by_artefact(mask_frame):\n",
      "                        TP += 1\n",
      "                        TP0 += 1\n",
      "                        covered_by_bb=True\n",
      "                        break\n",
      "                    #elif artefact_bb_coverage == 1.0: and (np.sum((blank==1).astype(int)) == sliding_window_size[0]**2):\n",
      "                    #    TP += 1\n",
      "                    #    TP0 += 1\n",
      "                    #    covered_by_bb=True \n",
      "                    #    break\n",
      "                    else:\n",
      "                        FP += 1\n",
      "                        FP0 += 1\n",
      "                # znovu prebarveni pomocneho framu zpatky na 0      \n",
      "                blank[y:h, x:w] = 0\n",
      "\n",
      "            # pokud neni pokryt zadnym boxem alespon z poloviny\n",
      "            if not covered_by_bb:# and na >= 300: # navic by mel byt dostatecne velky\n",
      "                FN += 1\n",
      "                FN0 += 1\n",
      "\n",
      "        # prochazeni zatim neprohlendutych boxu\n",
      "        for j in range(len(boxes)):\n",
      "            if not j in covered_box_ids:\n",
      "                # vytazeni boxu\n",
      "                y, h, x, w = boxes[j]\n",
      "                mask_frame = mask[y:h, x:w]\n",
      "                # pokud jsou pokryty artefaktem -> TP, jinak FP\n",
      "                if covered_by_artefact(mask_frame):\n",
      "                    TP += 1\n",
      "                    TP0 += 1\n",
      "                else:\n",
      "                    FP += 1\n",
      "                    FP0 += 1\n",
      "\n",
      "#            if FN0 > TP0:\n",
      "#                print imgname\n",
      "#                problematic.append(imgname)\n",
      "\n",
      "        if print_steps: print TP0, TN0, FP0, FN0\n",
      "        #break\n",
      "\n",
      "    # finalni vyhodnoceni\n",
      "    recall = float(TP) / (TP + FN)\n",
      "    precision = float(TP) / (TP + FP)\n",
      "    FPC = float(FP) / test_data.shape[0]\n",
      "#    if orig_only:\n",
      "#        FPC = float(FP) / len([k for k in test_results_nms.keys() if not \"AFFINE\" in k])\n",
      "\n",
      "    print \"[RESULT] Celkove vysledky pro \"+str(test_data.shape[0])+\" obrazku:\"\n",
      "    print \"         TP:\", TP\n",
      "    print \"         TN:\", TN\n",
      "    print \"         FP:\", FP\n",
      "    print \"         FN:\", FN\n",
      "    print \"        TPR:\", recall\n",
      "    print \"  precision:\", precision\n",
      "    print \"        FPC:\", FPC\n",
      "\n",
      "    results_to_save = {\"TP\": TP, \"TN\": TN, \"FP\": FP, \"FN\": FN,\n",
      "                       \"TPR\": recall, \"recall\": recall,\n",
      "                       \"precision\": precision, \"FPC\": FPC,\n",
      "                       \"problematic\": problematic}\n",
      "\n",
      "    #dr.zapis_json(results_to_save, \n",
      "    #              config[\"evaluation_path\"]+\"nms_overlap_evaluation.json\")\n",
      "\n",
      "    return TN, FP, FN, TP       \n"
     ],
     "language": "python",
     "metadata": {},
     "outputs": []
    },
    {
     "cell_type": "code",
     "collapsed": false,
     "input": [
      "def get_boxes_from_prediction(img, ret, padding=10):\n",
      "    \n",
      "    boxes = list()\n",
      "    \n",
      "    for i in range(1,ret):\n",
      "        \n",
      "        idxs = np.where(img == i)\n",
      "        \n",
      "        y = max(min(idxs[0])-padding, 0)\n",
      "        h = min(max(idxs[0])+padding, img.shape[0])\n",
      "        x = max(min(idxs[1])-padding, 0)\n",
      "        w = min(max(idxs[1])+padding, img.shape[1])\n",
      "        \n",
      "        boxes.append([y,h,x,w])\n",
      "        \n",
      "    return boxes\n",
      "        \n",
      "    \n",
      "def get_boxes(test_predictions, test_labels, padding=10, mode=\"argmax\"):\n",
      "    \n",
      "    bounding_boxes = list()\n",
      "    \n",
      "    for i in range(test_predictions.shape[0]):\n",
      "        print i,\n",
      "\n",
      "        label = test_labels[i].astype(\"uint8\") * 255\n",
      "        result = test_predictions[i].astype(\"float\")\n",
      "        if mode == \"Pmin\":\n",
      "            lesion = (result[:, :, 1] >= Pmin).astype(\"uint8\")\n",
      "        else:\n",
      "            lesion = np.argmax(result, axis=2)*127\n",
      "\n",
      "        binary_img, binary_ref = CNN_evaluator.apply_morphology_operations(lesion, label)\n",
      "\n",
      "        ret_img, markers_img = cv2.connectedComponents(binary_img)\n",
      "        ret_lab, markers_lab = cv2.connectedComponents((binary_ref).astype(\"uint8\"))\n",
      "        \n",
      "        boxes = get_boxes_from_prediction(markers_img, ret_img, padding=10)\n",
      "        print boxes\n",
      "        bounding_boxes.append(boxes)\n",
      "        \n",
      "    return bounding_boxes\n",
      "        \n",
      "    "
     ],
     "language": "python",
     "metadata": {},
     "outputs": []
    },
    {
     "cell_type": "code",
     "collapsed": false,
     "input": [
      "evaluate_nms_results_overlap(test_data, test_labels, test_predictions, print_steps=True)"
     ],
     "language": "python",
     "metadata": {},
     "outputs": []
    },
    {
     "cell_type": "code",
     "collapsed": false,
     "input": [
      "print test_predictions.shape"
     ],
     "language": "python",
     "metadata": {},
     "outputs": []
    },
    {
     "cell_type": "markdown",
     "metadata": {},
     "source": [
      "#### A ted z modulu"
     ]
    },
    {
     "cell_type": "code",
     "collapsed": false,
     "input": [
      "import CNN_boxes_evaluator"
     ],
     "language": "python",
     "metadata": {},
     "outputs": []
    },
    {
     "cell_type": "code",
     "collapsed": false,
     "input": [
      "(TP, TN, FP, FN, results_as_hogs) = CNN_boxes_evaluator.evaluate_nms_results_overlap(test_data, test_labels, test_predictions)"
     ],
     "language": "python",
     "metadata": {},
     "outputs": []
    },
    {
     "cell_type": "markdown",
     "metadata": {},
     "source": [
      "# Ostatni"
     ]
    },
    {
     "cell_type": "code",
     "collapsed": false,
     "input": [
      "import numpy as np"
     ],
     "language": "python",
     "metadata": {},
     "outputs": []
    },
    {
     "cell_type": "code",
     "collapsed": false,
     "input": [
      "a = np.random.uniform(size=(200,5,5,3))\n",
      "print a[0]"
     ],
     "language": "python",
     "metadata": {},
     "outputs": []
    },
    {
     "cell_type": "code",
     "collapsed": false,
     "input": [
      "b = np.argmax(a, axis=3)\n",
      "\n",
      "c = np.zeros(a.shape)\n",
      "n_classes = a.shape[-1]\n",
      "\n",
      "for i in range(n_classes):\n",
      "    one_hot_vector = np.zeros(n_classes)\n",
      "    one_hot_vector[i] = 1\n",
      "    c[b==i] = one_hot_vector.copy()\n",
      "\n",
      "#print (b==1)\n",
      "print a[0][1]\n",
      "print c[0][1]"
     ],
     "language": "python",
     "metadata": {},
     "outputs": []
    },
    {
     "cell_type": "code",
     "collapsed": false,
     "input": [
      "np.max(a, axis=2)"
     ],
     "language": "python",
     "metadata": {},
     "outputs": []
    },
    {
     "cell_type": "code",
     "collapsed": false,
     "input": [],
     "language": "python",
     "metadata": {},
     "outputs": []
    }
   ],
   "metadata": {}
  }
 ]
}