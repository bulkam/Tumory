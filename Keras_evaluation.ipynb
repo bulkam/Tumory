{
 "metadata": {
  "kernelspec": {
   "display_name": "Python 3",
   "language": "python",
   "name": "python3"
  },
  "language_info": {
   "codemirror_mode": {
    "name": "ipython",
    "version": 3
   },
   "file_extension": ".py",
   "mimetype": "text/x-python",
   "name": "python",
   "nbconvert_exporter": "python",
   "pygments_lexer": "ipython3",
   "version": "3.6.3"
  },
  "name": "",
  "signature": "sha256:1819068752db5f57929a1b04f8e10c87c80f4f194fc4f82d09a15c1ae5df5665"
 },
 "nbformat": 3,
 "nbformat_minor": 0,
 "worksheets": [
  {
   "cells": [
    {
     "cell_type": "code",
     "collapsed": false,
     "input": [
      "import h5py\n",
      "import numpy as np\n",
      "import time\n",
      "import CNN_evaluator"
     ],
     "language": "python",
     "metadata": {},
     "outputs": []
    },
    {
     "cell_type": "heading",
     "level": 2,
     "metadata": {},
     "source": [
      "Nacteni dat"
     ]
    },
    {
     "cell_type": "code",
     "collapsed": false,
     "input": [
      "#file = h5py.File(\"classification/Keras/results/test_results-no_aug_20epoch_structured_data.hdf5\", 'r')\n",
      "# S-liver\n",
      "#file = h5py.File(\"classification/Keras/results/test_results-no_aug_20epoch_structured_data-liver_only.hdf5\", 'r')\n",
      "# L-liver\n",
      "file = h5py.File(\"classification/Keras/results/test_results-aug_5epoch_structured_data-liver_only.hdf5\", 'r')\n",
      "\n",
      "test_data = file[\"test_data\"]\n",
      "test_labels = file[\"test_labels\"][:100]\n",
      "test_predictions = file[\"test_predictions\"][:100]\n",
      "\n",
      "for key in file.keys():\n",
      "    print(key)"
     ],
     "language": "python",
     "metadata": {},
     "outputs": []
    },
    {
     "cell_type": "code",
     "collapsed": false,
     "input": [
      "PM = CNN_evaluator.accuracy_matrix(test_labels, test_predictions)\n",
      "PM_ohv = CNN_evaluator.accuracy_matrix(test_labels, test_predictions, mode=\"onehot\")"
     ],
     "language": "python",
     "metadata": {},
     "outputs": []
    },
    {
     "cell_type": "code",
     "collapsed": false,
     "input": [
      "print PM\n",
      "print PM_ohv"
     ],
     "language": "python",
     "metadata": {},
     "outputs": []
    },
    {
     "cell_type": "code",
     "collapsed": false,
     "input": [
      "import matplotlib.pyplot as plt\n",
      "\n",
      "ohv = CNN_evaluator.get_one_hot_vectors(test_predictions[0:10])\n",
      "\n",
      "i = 2\n",
      "plt.imshow(ohv[i])\n",
      "plt.show()\n",
      "plt.imshow(test_predictions[i])\n",
      "plt.show()"
     ],
     "language": "python",
     "metadata": {},
     "outputs": []
    },
    {
     "cell_type": "code",
     "collapsed": false,
     "input": [
      "# Spravny vypocet -> OK\n",
      "\n",
      "def accuracy_per_pixel(test_labels, test_predictions):\n",
      "    print(test_labels.shape, test_predictions.shape)\n",
      "    N = np.count_nonzero(test_labels[:, :, :, 1] == 1)\n",
      "    P1 = np.sum(test_predictions[:, :, :, 1][(test_labels[:, :, :, 1] == 1)])\n",
      "    print(\"[INFO] Pixel volume lezi v obrazech: \", N)\n",
      "    print(\"[INFO] Celkem ppsti v techto regionech: \", P1)\n",
      "    print(\"[INFO] Accuracy per pixel:\", P1/N)\n",
      "    s = test_labels.shape\n",
      "    print(\"[INFO] Zastoupeni lezi v obraze: \", float(N) / (s[0]*s[1]*s[2]*s[3]))\n",
      "    return P1/N\n",
      "\n",
      "t = time.time()\n",
      "P = accuracy_per_pixel(test_labels, test_predictions)\n",
      "print(time.time() - t) # trva to 84 sekund pro 3402 obrazku"
     ],
     "language": "python",
     "metadata": {},
     "outputs": []
    },
    {
     "cell_type": "code",
     "collapsed": false,
     "input": [
      "s = test_labels.shape\n",
      "P1 = 0\n",
      "for k in range(s[0]):\n",
      "    print(k,)\n",
      "    for i in range(s[1]):\n",
      "        for j in range(s[2]):\n",
      "            if test_labels[k, i, j, 1] == 1:\n",
      "                P1 += test_predictions[k, i, j, 1]\n",
      "print(P1)"
     ],
     "language": "python",
     "metadata": {},
     "outputs": []
    },
    {
     "cell_type": "code",
     "collapsed": false,
     "input": [
      "sigma = 1\n",
      "mu = 0\n",
      "Na = sigma * np.random.randn(2,2) + mu\n",
      "print(Na)\n"
     ],
     "language": "python",
     "metadata": {},
     "outputs": []
    },
    {
     "cell_type": "code",
     "collapsed": false,
     "input": [
      "Na = np.random.normal(loc=0.0, scale=1.0, size=(2,2)) # scale je sigma, ne signa na nruhou"
     ],
     "language": "python",
     "metadata": {},
     "outputs": []
    },
    {
     "cell_type": "code",
     "collapsed": false,
     "input": [
      "a = np.random.normal(loc=0.0, scale=5.0, size=(2,11000))\n",
      "import matplotlib.pyplot as plt\n",
      "plt.scatter(a[0], a[1])\n",
      "plt.show()\n"
     ],
     "language": "python",
     "metadata": {},
     "outputs": []
    },
    {
     "cell_type": "code",
     "collapsed": false,
     "input": [
      "h = np.histogram(np.random.normal(loc=0.0, scale=5.0, size=50000), bins=200)\n",
      "plt.plot(h[1][:200], h[0])\n",
      "plt.show()"
     ],
     "language": "python",
     "metadata": {},
     "outputs": []
    },
    {
     "cell_type": "code",
     "collapsed": false,
     "input": [
      "h = np.histogram(np.random.uniform(size=50000), bins=200)\n",
      "plt.plot(h[1][:200], h[0])\n",
      "plt.show()"
     ],
     "language": "python",
     "metadata": {},
     "outputs": []
    },
    {
     "cell_type": "code",
     "collapsed": false,
     "input": [
      "a = np.ones((2,2))\n",
      "print(np.minimum(a, 0))"
     ],
     "language": "python",
     "metadata": {},
     "outputs": []
    },
    {
     "cell_type": "code",
     "collapsed": false,
     "input": [
      "a = np.random.uniform(size=(20000,2))\n",
      "print(np.min(a), np.max(a))"
     ],
     "language": "python",
     "metadata": {},
     "outputs": []
    },
    {
     "cell_type": "code",
     "collapsed": false,
     "input": [],
     "language": "python",
     "metadata": {},
     "outputs": []
    }
   ],
   "metadata": {}
  }
 ]
}