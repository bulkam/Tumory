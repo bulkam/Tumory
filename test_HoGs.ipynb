{
 "metadata": {
  "name": "",
  "signature": "sha256:b55cb2a15d26a0a4fe24339d9e784332992f511786c5e2bedd7b5efcf8228a7c"
 },
 "nbformat": 3,
 "nbformat_minor": 0,
 "worksheets": [
  {
   "cells": [
    {
     "cell_type": "markdown",
     "metadata": {},
     "source": [
      "# Importy"
     ]
    },
    {
     "cell_type": "code",
     "collapsed": false,
     "input": [
      "import classifier as clas\n",
      "import feature_extractor as fe\n",
      "import data_reader as dr\n",
      "\n",
      "import os\n",
      "import cv2\n",
      "\n",
      "import skimage\n",
      "from skimage.feature import hog as hogg\n",
      "from skimage import exposure, data\n",
      "from skimage.filters import roberts, sobel, scharr, prewitt\n",
      "from matplotlib import pyplot as plt\n",
      "from matplotlib.gridspec import GridSpec\n",
      "import scipy\n",
      "import numpy as np\n",
      "\n",
      "from sklearn.feature_extraction.image import extract_patches_2d\n",
      "from sklearn.decomposition import PCA as PCA\n",
      "from sklearn.decomposition import TruncatedSVD as DEC"
     ],
     "language": "python",
     "metadata": {},
     "outputs": [],
     "prompt_number": 84
    },
    {
     "cell_type": "markdown",
     "metadata": {},
     "source": [
      "# Pomocn\u00e9 metody"
     ]
    },
    {
     "cell_type": "code",
     "collapsed": false,
     "input": [
      "def show_plot_in_new_figure(data):\n",
      "    \"\"\" Vykresli graf v novem okne \"\"\"\n",
      "    \n",
      "    plt.figure(figsize = (30,10))\n",
      "    plt.ylim(-0.3, 0.3)\n",
      "    plt.plot(list(data), 'b', lw=1)\n",
      "    plt.grid()\n",
      "    plt.show()\n",
      "\n",
      "\n",
      "def show_image_in_new_figure(img):\n",
      "    \"\"\" Vykresli obrazek v novem okne \"\"\"\n",
      "    \n",
      "    plt.figure()\n",
      "    skimage.io.imshow(img, cmap = 'gray')\n",
      "    plt.show()\n",
      "  \n",
      "    \n",
      "def test_hogs():\n",
      "    hog = fe.HOG()\n",
      "    xpath = hog.config_path\n",
      "    config = hog.dataset.config\n",
      "    win = hog.sliding_window_size\n",
      "    \n",
      "    data = hog.dataset\n",
      "    print hog.sliding_window_size\n",
      "    print len(data.orig_images)\n",
      "    #print hog.dataset.load_annotated_images()\n",
      "    TM = hog.extract_features()\n",
      "    \n",
      "    return TM\n",
      "\n",
      "\n",
      "def reduce_single_vector_dimension(vect):\n",
      "    \"\"\" Nacte model PCA a aplikuje jej na jediny vektor \"\"\"\n",
      "\n",
      "    # aplikace ulozeneho PCA\n",
      "    reduced = pca.transform(vect)      # redukuje dimenzi vektoru priznaku\n",
      "\n",
      "    return reduced\n",
      "\n",
      "\n",
      "def extract_single_feature_vect(gray):\n",
      "    \"\"\" Vrati vektor priznaku pro jedek obrazek \"\"\"\n",
      "\n",
      "    hist, hog_img = skimHOG(gray)\n",
      "    reduced = reduce_single_vector_dimension(hist)\n",
      "\n",
      "    return reduced, hog_img\n",
      "\n",
      "    \n",
      "def show_hogs(imgname, hog, to_draw=False):\n",
      "    \n",
      "    img = dataset.load_image(imgname)\n",
      "\n",
      "    roi = preprocess_image(img)\n",
      "    \n",
      "    # extrakce vektoru priznaku\n",
      "    feature_vect, hog_img = skimHOG(roi)\n",
      "    #feature_vect, hog_img = extract_single_feature_vect(roi)[0]\n",
      "    \n",
      "    #show_image_in_new_figure(roi)\n",
      "    #show_plot_in_new_figure(feature_vect)\n",
      "    if to_draw: draw_hogs(roi, hog_img, feature_vect)\n",
      "    \n",
      "    return feature_vect, hog_img\n",
      "\n",
      "\n",
      "def reduce_dimension(positives, negatives, to_return=True, fv_len=10,\n",
      "                     new_pca=True):\n",
      "    \"\"\" Aplikuje PCA a redukuje tim pocet priznaku \"\"\"\n",
      "\n",
      "    features = dict()       \n",
      "    \n",
      "    # namapovani na numpy matice pro PCA\n",
      "    X = np.vstack((np.vstack(positives), np.vstack(negatives)))\n",
      "    Y = np.vstack((np.vstack([1]*len(positives)), np.vstack([-1]*len(negatives)))) \n",
      "    \n",
      "    # PCA\n",
      "    if new_pca or pca is None:\n",
      "        pca = PCA(n_components=fv_len)   # vytvori PCA\n",
      "        #pca = DEC(n_components=fv_len)   # vytvori PCA\n",
      "        pca.fit(X, Y)\n",
      "    \n",
      "    reduced = pca.transform(X)      # redukuje dimenzi vektoru priznaku\n",
      "    \n",
      "    # znovu namapuje na zavedenou strukturu\n",
      "    features = list(reduced)\n",
      "    \n",
      "    # ulozeni PCA\n",
      "    #dataset.save_obj(pca, self.PCA_path+\"/PCA_\"+self.descriptor_type+\".pkl\")\n",
      "\n",
      "    if to_return: return pca, features\n",
      "\n",
      "    \n",
      "def draw_hogs(img, hog_img, vect):\n",
      "    \"\"\" Vykresli HoGy do obrazku \"\"\"\n",
      "    \"\"\"\n",
      "    fig, (ax1, ax2) = plt.subplots(1,2, figsize=(16, 10), sharex=True, sharey=True)\n",
      "    \n",
      "    ax1.axis('off')\n",
      "    ax1.imshow(img, cmap=plt.cm.gray)\n",
      "    ax1.set_title('Vstupni obrazek')\n",
      "    ax1.set_adjustable('box-forced')\n",
      "    \n",
      "    hog_img_rescaled = exposure.rescale_intensity(hog_img, in_range=(0, 0.02))\n",
      "    \n",
      "    ax2.axis('off')\n",
      "    ax2.imshow(hog_img_rescaled, cmap=plt.cm.gray)\n",
      "    ax2.set_title('Histogram Orientovanych Gradientu')\n",
      "    ax2.set_adjustable('box-forced')\n",
      "    \n",
      "    plt.show()\"\"\"\n",
      "    \n",
      "    fig = plt.figure(figsize=(16, 10))\n",
      "\n",
      "    gs = GridSpec(2, 2)\n",
      "    ax1 = plt.subplot(gs[0, :1])\n",
      "    ax2 = plt.subplot(gs[0, -1])\n",
      "    ax3 = plt.subplot(gs[1, :])\n",
      "    \n",
      "    ax1.axis('off')\n",
      "    ax1.imshow(img, cmap=plt.cm.gray)\n",
      "    ax1.set_title('Vstupni obrazek')\n",
      "    #ax1.set_adjustable('box-forced')\n",
      "    \n",
      "    hog_img_rescaled = exposure.rescale_intensity(hog_img, in_range=(0, 0.02))\n",
      "    \n",
      "    ax2.axis('off')\n",
      "    ax2.imshow(hog_img_rescaled, cmap=plt.cm.gray)\n",
      "    ax2.set_title('Histogram Orientovanych Gradientu')\n",
      "    #ax2.set_adjustable('box-forced')\n",
      "    \n",
      "    ax3.plot(vect)\n",
      "    ax3.grid()\n",
      "        \n",
      "    plt.show()    \n",
      "    \n",
      "\n",
      "def visualize_data(pos, neg, n_features=12,\n",
      "                   var_scale=1, draw_all=False, each_data=1):\n",
      "    \n",
      "    P = np.vstack(pos)[:, 0:n_features]\n",
      "    N = np.vstack(neg)[:, 0:n_features]\n",
      "    \n",
      "    mP = np.mean(P, axis = 0)\n",
      "    mN = np.mean(N, axis = 0)\n",
      "    \n",
      "    varP = np.var(P, axis = 0)\n",
      "    varN = np.var(N, axis = 0)\n",
      "    \n",
      "    hP = mP + varP * var_scale\n",
      "    lP = mP - varP * var_scale\n",
      "    hN = mN + varN * var_scale\n",
      "    lN = mN - varN * var_scale\n",
      "    \n",
      "    plt.figure()\n",
      "    plt.ylim(-1, 1)\n",
      "    plt.plot(mP, color='y')\n",
      "    plt.plot(mN, color='b')\n",
      "    plt.fill_between(np.arange(len(mP)), lP, hP, where=hP >= lP, facecolor='red', interpolate=True)\n",
      "    plt.fill_between(np.arange(len(mP)), lN, hN, where=hN >= lN, facecolor='green', interpolate=True)\n",
      "    plt.grid()\n",
      "    plt.show()\n",
      "    \n",
      "    if draw_all:\n",
      "        plt.figure()\n",
      "        plt.ylim(-1, 1)\n",
      "        \n",
      "        for i, p in enumerate(P):\n",
      "            if i % each_data == 0:\n",
      "                plt.plot(p, 'r')\n",
      "                plt.plot(N[i], 'g')  \n",
      "        \n",
      "        plt.grid()\n",
      "            \n",
      "        plt.show()\n",
      "\n",
      "\n",
      "def visualize_feature_pairs(pos, neg, features = (0, 1), n_features=-1,\n",
      "                            var_scale=1, draw_all=False, each_data=1):\n",
      "    P = np.vstack(pos)[:, :]\n",
      "    N = np.vstack(neg)[:, :]\n",
      "    \n",
      "    print P[:, features[0]].shape\n",
      "    \n",
      "    #P = np.hstack((P[:, features[0]], P[:, features[1]]))\n",
      "    #N = np.hstack((N[:, features[0]], N[:, features[1]]))\n",
      "    \n",
      "    print P.shape\n",
      "    xmin = min(np.min(P[:, features[0]]), np.min(N[:, features[0]]))\n",
      "    xmax = max(np.max(P[:, features[0]]), np.max(N[:, features[0]]))\n",
      "    ymin = min(np.min(P[:, features[1]]), np.min(N[:, features[1]]))\n",
      "    ymax = max(np.max(P[:, features[1]]), np.max(N[:, features[1]]))\n",
      "                                                                \n",
      "    plt.figure()\n",
      "    plt.xlim((xmin, xmax))\n",
      "    plt.ylim((ymin, ymax))\n",
      "    plt.scatter(P[:, features[0]], P[:, features[1]], color='r')\n",
      "    plt.scatter(N[:, features[0]], N[:, features[1]], color='g')\n",
      "    plt.grid()\n",
      "    plt.savefig(\"extractor_test_results/HoG/Data/Pair/both.png\")\n",
      "    plt.show()\n",
      "    \n",
      "    \n",
      "    plt.figure()\n",
      "    plt.xlim((xmin, xmax))\n",
      "    plt.ylim((ymin, ymax))\n",
      "    plt.scatter(P[:, features[0]], P[:, features[1]], color='r')\n",
      "    plt.grid()\n",
      "    plt.savefig(\"extractor_test_results/HoG/Data/Pair/Pos.png\")\n",
      "    plt.show()\n",
      "    \n",
      "    plt.figure()\n",
      "    plt.xlim((xmin, xmax))\n",
      "    plt.ylim((ymin, ymax))\n",
      "    plt.scatter(N[:, features[0]], N[:, features[1]], color='g')\n",
      "    plt.grid()\n",
      "    plt.savefig(\"extractor_test_results/HoG/Data/Pair/Neg.png\")\n",
      "    plt.show()\n",
      "    \n"
     ],
     "language": "python",
     "metadata": {},
     "outputs": [],
     "prompt_number": 93
    },
    {
     "cell_type": "code",
     "collapsed": false,
     "input": [
      "# TODO: zkouset \n",
      "def preprocess_image(img):\n",
      "    \"\"\" Provede zakladni predzpracovani obrazku \"\"\"\n",
      "    \n",
      "    roi = cv2.resize(img, tuple(hog.sliding_window_size), interpolation=cv2.INTER_AREA)\n",
      "    \n",
      "    roi = cv2.bilateralFilter(roi.astype(\"uint8\"), 9, 35, 35)\n",
      "    \n",
      "    # histogram\n",
      "    #clahe = cv2.createCLAHE(clipLimit=2.0, tileGridSize=(4,4))\n",
      "    #roi = clahe.apply(roi.astype(\"uint8\"))\n",
      "    #roi = cv2.equalizeHist(roi.astype(\"uint8\"))\n",
      "    \n",
      "    return roi\n",
      "\n",
      "\n",
      "def skimHOG(roi):\n",
      "    \n",
      "    img = roi\n",
      "    \n",
      "    hist, hog_img = hogg(img, orientations=orientations, pixels_per_cell=pixels_per_cell,\n",
      "                       cells_per_block=cells_per_block, visualise=True)\n",
      "    \n",
      "    hist[hist<0] = 0\n",
      "    \n",
      "    return hist, hog_img  "
     ],
     "language": "python",
     "metadata": {},
     "outputs": [],
     "prompt_number": 52
    },
    {
     "cell_type": "markdown",
     "metadata": {},
     "source": [
      "# Spousteni"
     ]
    },
    {
     "cell_type": "code",
     "collapsed": false,
     "input": [
      "# HoG\n",
      "#hog = fe.HOG(orientations=12, pixels_per_cell=(8, 8), cells_per_block=(2, 2))\n",
      "hog = fe.HOG()\n",
      "\n",
      "config = hog.dataset.config\n",
      "dataset = hog.dataset\n",
      "pca = None"
     ],
     "language": "python",
     "metadata": {},
     "outputs": [
      {
       "output_type": "stream",
       "stream": "stdout",
       "text": [
        "Vytvoren dataset\n"
       ]
      }
     ],
     "prompt_number": 47
    },
    {
     "cell_type": "markdown",
     "metadata": {},
     "source": [
      "# Zkoumani HoGu"
     ]
    },
    {
     "cell_type": "code",
     "collapsed": false,
     "input": [
      "orientations=4\n",
      "pixels_per_cell=(8, 8)\n",
      "cells_per_block=(2, 2)\n",
      "\n",
      "positives = [config[\"frames_positives_path\"]+imgname for imgname in os.listdir(config[\"frames_positives_path\"]) if (imgname.endswith('.pklz') and not ('=' in imgname) and (\"0_0.\" in imgname))]\n",
      "negatives = [config[\"frames_negatives_path\"]+imgname for imgname in os.listdir(config[\"frames_negatives_path\"]) if (imgname.endswith('.pklz') and not ('=' in imgname))]\n",
      "\n",
      "indexes = list([18, 129, 146, 222, 21, 64, 111])[0:2]\n",
      "#indexes = list([18, 150, 200, 111, 28, 71, 99])[0:]\n",
      "#indexes = range(12)\n",
      "\n",
      "to_draw = 1\n",
      "\n",
      "each_index = 1\n",
      "\n",
      "print len(positives), len(negatives)\n",
      "positive_feature_vects = list()\n",
      "negative_feature_vects = list()\n",
      "\n",
      "for p in indexes:\n",
      "    if p % each_index == 0:\n",
      "        positive = positives[p]\n",
      "        positive_feature_vects.append(show_hogs(positive, hog, to_draw=bool(to_draw)))\n",
      "\n",
      "for n in indexes:\n",
      "    if n % each_index == 1:\n",
      "        negative = negatives[n]\n",
      "        negative_feature_vects.append(show_hogs(negative, hog, to_draw=bool(to_draw)))\n"
     ],
     "language": "python",
     "metadata": {},
     "outputs": [
      {
       "output_type": "stream",
       "stream": "stdout",
       "text": [
        "291 1131\n"
       ]
      }
     ],
     "prompt_number": 97
    },
    {
     "cell_type": "code",
     "collapsed": false,
     "input": [
      "v = positive_feature_vects\n",
      "vect = v[0]\n",
      "#print vect[0][0:20]\n",
      "hogimg = vect[1]\n",
      "#print hogimg.ravel()[0:20]\n"
     ],
     "language": "python",
     "metadata": {},
     "outputs": [
      {
       "ename": "NameError",
       "evalue": "name 'positive_feature_vects' is not defined",
       "output_type": "pyerr",
       "traceback": [
        "\u001b[1;31m---------------------------------------------------------------------------\u001b[0m\n\u001b[1;31mNameError\u001b[0m                                 Traceback (most recent call last)",
        "\u001b[1;32m<ipython-input-1-0b319bc84c18>\u001b[0m in \u001b[0;36m<module>\u001b[1;34m()\u001b[0m\n\u001b[1;32m----> 1\u001b[1;33m \u001b[0mv\u001b[0m \u001b[1;33m=\u001b[0m \u001b[0mpositive_feature_vects\u001b[0m\u001b[1;33m\u001b[0m\u001b[0m\n\u001b[0m\u001b[0;32m      2\u001b[0m \u001b[0mvect\u001b[0m \u001b[1;33m=\u001b[0m \u001b[0mv\u001b[0m\u001b[1;33m[\u001b[0m\u001b[1;36m0\u001b[0m\u001b[1;33m]\u001b[0m\u001b[1;33m\u001b[0m\u001b[0m\n\u001b[0;32m      3\u001b[0m \u001b[1;31m#print vect[0][0:20]\u001b[0m\u001b[1;33m\u001b[0m\u001b[1;33m\u001b[0m\u001b[0m\n\u001b[0;32m      4\u001b[0m \u001b[0mhogimg\u001b[0m \u001b[1;33m=\u001b[0m \u001b[0mvect\u001b[0m\u001b[1;33m[\u001b[0m\u001b[1;36m1\u001b[0m\u001b[1;33m]\u001b[0m\u001b[1;33m\u001b[0m\u001b[0m\n\u001b[0;32m      5\u001b[0m \u001b[1;31m#print hogimg.ravel()[0:20]\u001b[0m\u001b[1;33m\u001b[0m\u001b[1;33m\u001b[0m\u001b[0m\n",
        "\u001b[1;31mNameError\u001b[0m: name 'positive_feature_vects' is not defined"
       ]
      }
     ],
     "prompt_number": 1
    },
    {
     "cell_type": "markdown",
     "metadata": {},
     "source": [
      "# Zkoumani Dat"
     ]
    },
    {
     "cell_type": "code",
     "collapsed": false,
     "input": [
      "positives = [config[\"frames_positives_path\"]+imgname for imgname in os.listdir(config[\"frames_positives_path\"]) if imgname.endswith('.pklz')]\n",
      "negatives = [config[\"frames_negatives_path\"]+imgname for imgname in os.listdir(config[\"frames_negatives_path\"]) if imgname.endswith('.pklz')]\n",
      "\n",
      "positives = [config[\"frames_positives_path\"]+imgname for imgname in os.listdir(config[\"frames_positives_path\"]) if (imgname.endswith('.pklz') and not ('=' in imgname))]\n",
      "negatives = [config[\"frames_negatives_path\"]+imgname for imgname in os.listdir(config[\"frames_negatives_path\"]) if (imgname.endswith('.pklz') and not ('=' in imgname))]\n",
      "\n",
      "indexes = range(min(len(positives), len(negatives))//1)\n",
      "\n",
      "to_draw = 0\n",
      "    \n",
      "each_index = 1\n",
      "\n",
      "print len(positives), len(negatives)\n",
      "positive_feature_vects = list()\n",
      "negative_feature_vects = list()\n",
      "\n",
      "for p in indexes:\n",
      "    if p % each_index == 0:\n",
      "        positive = positives[p]\n",
      "        positive_feature_vects.append(show_hogs(positive, hog, to_draw=False))\n",
      "\n",
      "for n in indexes:\n",
      "    if n % each_index == 0:\n",
      "        negative = negatives[n]\n",
      "        negative_feature_vects.append(show_hogs(negative, hog, to_draw=False))"
     ],
     "language": "python",
     "metadata": {},
     "outputs": []
    },
    {
     "cell_type": "code",
     "collapsed": false,
     "input": [
      "pca, feature_vects = reduce_dimension(positive_feature_vects, \n",
      "                                      negative_feature_vects,\n",
      "                                      fv_len=2, \n",
      "                                      new_pca=True)\n",
      "\n",
      "pos = feature_vects[:len(positive_feature_vects)]\n",
      "neg = feature_vects[len(positive_feature_vects):]"
     ],
     "language": "python",
     "metadata": {},
     "outputs": [],
     "prompt_number": 230
    },
    {
     "cell_type": "code",
     "collapsed": false,
     "input": [
      "visualize_data(pos, neg,\n",
      "               draw_all=True, each_data=50, n_features=-1, var_scale=1)"
     ],
     "language": "python",
     "metadata": {},
     "outputs": [],
     "prompt_number": 223
    },
    {
     "cell_type": "code",
     "collapsed": false,
     "input": [
      "visualize_feature_pairs(pos, neg,\n",
      "                        features=(0, 1), n_features=-1,\n",
      "                        var_scale=1, draw_all=False, each_data=1)"
     ],
     "language": "python",
     "metadata": {},
     "outputs": [
      {
       "ename": "NameError",
       "evalue": "name 'visualize_feature_pairs' is not defined",
       "output_type": "pyerr",
       "traceback": [
        "\u001b[1;31m---------------------------------------------------------------------------\u001b[0m\n\u001b[1;31mNameError\u001b[0m                                 Traceback (most recent call last)",
        "\u001b[1;32m<ipython-input-6-2f296781a173>\u001b[0m in \u001b[0;36m<module>\u001b[1;34m()\u001b[0m\n\u001b[1;32m----> 1\u001b[1;33m visualize_feature_pairs(pos, neg,\n\u001b[0m\u001b[0;32m      2\u001b[0m                         \u001b[0mfeatures\u001b[0m\u001b[1;33m=\u001b[0m\u001b[1;33m(\u001b[0m\u001b[1;36m0\u001b[0m\u001b[1;33m,\u001b[0m \u001b[1;36m1\u001b[0m\u001b[1;33m)\u001b[0m\u001b[1;33m,\u001b[0m \u001b[0mn_features\u001b[0m\u001b[1;33m=\u001b[0m\u001b[1;33m-\u001b[0m\u001b[1;36m1\u001b[0m\u001b[1;33m,\u001b[0m\u001b[1;33m\u001b[0m\u001b[0m\n\u001b[0;32m      3\u001b[0m                         var_scale=1, draw_all=False, each_data=1)\n",
        "\u001b[1;31mNameError\u001b[0m: name 'visualize_feature_pairs' is not defined"
       ]
      }
     ],
     "prompt_number": 6
    },
    {
     "cell_type": "code",
     "collapsed": false,
     "input": [
      "print len(positive_feature_vects)"
     ],
     "language": "python",
     "metadata": {},
     "outputs": [
      {
       "ename": "NameError",
       "evalue": "name 'positive_feature_vects' is not defined",
       "output_type": "pyerr",
       "traceback": [
        "\u001b[1;31m---------------------------------------------------------------------------\u001b[0m\n\u001b[1;31mNameError\u001b[0m                                 Traceback (most recent call last)",
        "\u001b[1;32m<ipython-input-7-8c916c3c9b74>\u001b[0m in \u001b[0;36m<module>\u001b[1;34m()\u001b[0m\n\u001b[1;32m----> 1\u001b[1;33m \u001b[1;32mprint\u001b[0m \u001b[0mlen\u001b[0m\u001b[1;33m(\u001b[0m\u001b[0mpositive_feature_vects\u001b[0m\u001b[1;33m)\u001b[0m\u001b[1;33m\u001b[0m\u001b[0m\n\u001b[0m",
        "\u001b[1;31mNameError\u001b[0m: name 'positive_feature_vects' is not defined"
       ]
      }
     ],
     "prompt_number": 7
    },
    {
     "cell_type": "code",
     "collapsed": false,
     "input": [
      "import sklearn\n",
      "print sklearn.__version__"
     ],
     "language": "python",
     "metadata": {},
     "outputs": [
      {
       "output_type": "stream",
       "stream": "stdout",
       "text": [
        "0.16.1\n"
       ]
      }
     ],
     "prompt_number": 8
    },
    {
     "cell_type": "code",
     "collapsed": false,
     "input": [
      "fig = plt.figure()\n",
      "\n",
      "gs = GridSpec(2, 2)\n",
      "ax1 = plt.subplot(gs[0, -1])\n",
      "# identical to ax1 = plt.subplot(gs.new_subplotspec((0, 0), colspan=3))\n",
      "ax2 = plt.subplot(gs[0, :1])\n",
      "ax3 = plt.subplot(gs[1, :])\n",
      "ax3.grid()\n",
      "\n",
      "plt.show()"
     ],
     "language": "python",
     "metadata": {},
     "outputs": [
      {
       "ename": "NameError",
       "evalue": "name 'plt' is not defined",
       "output_type": "pyerr",
       "traceback": [
        "\u001b[1;31m---------------------------------------------------------------------------\u001b[0m\n\u001b[1;31mNameError\u001b[0m                                 Traceback (most recent call last)",
        "\u001b[1;32m<ipython-input-9-de7a815af3ca>\u001b[0m in \u001b[0;36m<module>\u001b[1;34m()\u001b[0m\n\u001b[1;32m----> 1\u001b[1;33m \u001b[0mfig\u001b[0m \u001b[1;33m=\u001b[0m \u001b[0mplt\u001b[0m\u001b[1;33m.\u001b[0m\u001b[0mfigure\u001b[0m\u001b[1;33m(\u001b[0m\u001b[1;33m)\u001b[0m\u001b[1;33m\u001b[0m\u001b[0m\n\u001b[0m\u001b[0;32m      2\u001b[0m \u001b[1;33m\u001b[0m\u001b[0m\n\u001b[0;32m      3\u001b[0m \u001b[0mgs\u001b[0m \u001b[1;33m=\u001b[0m \u001b[0mGridSpec\u001b[0m\u001b[1;33m(\u001b[0m\u001b[1;36m2\u001b[0m\u001b[1;33m,\u001b[0m \u001b[1;36m2\u001b[0m\u001b[1;33m)\u001b[0m\u001b[1;33m\u001b[0m\u001b[0m\n\u001b[0;32m      4\u001b[0m \u001b[0max1\u001b[0m \u001b[1;33m=\u001b[0m \u001b[0mplt\u001b[0m\u001b[1;33m.\u001b[0m\u001b[0msubplot\u001b[0m\u001b[1;33m(\u001b[0m\u001b[0mgs\u001b[0m\u001b[1;33m[\u001b[0m\u001b[1;36m0\u001b[0m\u001b[1;33m,\u001b[0m \u001b[1;33m-\u001b[0m\u001b[1;36m1\u001b[0m\u001b[1;33m]\u001b[0m\u001b[1;33m)\u001b[0m\u001b[1;33m\u001b[0m\u001b[0m\n\u001b[0;32m      5\u001b[0m \u001b[1;31m# identical to ax1 = plt.subplot(gs.new_subplotspec((0, 0), colspan=3))\u001b[0m\u001b[1;33m\u001b[0m\u001b[1;33m\u001b[0m\u001b[0m\n",
        "\u001b[1;31mNameError\u001b[0m: name 'plt' is not defined"
       ]
      }
     ],
     "prompt_number": 9
    },
    {
     "cell_type": "code",
     "collapsed": false,
     "input": [
      "print str(range(20))"
     ],
     "language": "python",
     "metadata": {},
     "outputs": [
      {
       "output_type": "stream",
       "stream": "stdout",
       "text": [
        "[0, 1, 2, 3, 4, 5, 6, 7, 8, 9, 10, 11, 12, 13, 14, 15, 16, 17, 18, 19]\n"
       ]
      }
     ],
     "prompt_number": 1
    },
    {
     "cell_type": "code",
     "collapsed": false,
     "input": [
      "camera = data.camera()"
     ],
     "language": "python",
     "metadata": {},
     "outputs": [],
     "prompt_number": 78
    },
    {
     "cell_type": "code",
     "collapsed": false,
     "input": [
      "orientations=16\n",
      "pixels_per_cell=(8, 8)\n",
      "cells_per_block=(1, 1)\n",
      "\n",
      "hist, hog_img = hogg(camera, orientations=orientations, pixels_per_cell=pixels_per_cell,\n",
      "                     cells_per_block=cells_per_block, visualise=True)\n",
      "\n",
      "\n",
      "#hist[hist<0] = 0\n",
      "\n",
      "print fd[0:20]"
     ],
     "language": "python",
     "metadata": {},
     "outputs": [
      {
       "ename": "NameError",
       "evalue": "name 'hogg' is not defined",
       "output_type": "pyerr",
       "traceback": [
        "\u001b[1;31m---------------------------------------------------------------------------\u001b[0m\n\u001b[1;31mNameError\u001b[0m                                 Traceback (most recent call last)",
        "\u001b[1;32m<ipython-input-2-7553b40ec403>\u001b[0m in \u001b[0;36m<module>\u001b[1;34m()\u001b[0m\n\u001b[0;32m      3\u001b[0m \u001b[0mcells_per_block\u001b[0m\u001b[1;33m=\u001b[0m\u001b[1;33m(\u001b[0m\u001b[1;36m1\u001b[0m\u001b[1;33m,\u001b[0m \u001b[1;36m1\u001b[0m\u001b[1;33m)\u001b[0m\u001b[1;33m\u001b[0m\u001b[0m\n\u001b[0;32m      4\u001b[0m \u001b[1;33m\u001b[0m\u001b[0m\n\u001b[1;32m----> 5\u001b[1;33m hist, hog_img = hogg(camera, orientations=orientations, pixels_per_cell=pixels_per_cell,\n\u001b[0m\u001b[0;32m      6\u001b[0m                      cells_per_block=cells_per_block, visualise=True)\n\u001b[0;32m      7\u001b[0m \u001b[1;33m\u001b[0m\u001b[0m\n",
        "\u001b[1;31mNameError\u001b[0m: name 'hogg' is not defined"
       ]
      }
     ],
     "prompt_number": 2
    },
    {
     "cell_type": "code",
     "collapsed": false,
     "input": [
      "print fd[0:20], fd.shape\n",
      "print hist[0:20], hist.shape\n",
      "print np.array_equal(fd, hist)"
     ],
     "language": "python",
     "metadata": {},
     "outputs": [
      {
       "ename": "NameError",
       "evalue": "name 'fd' is not defined",
       "output_type": "pyerr",
       "traceback": [
        "\u001b[1;31m---------------------------------------------------------------------------\u001b[0m\n\u001b[1;31mNameError\u001b[0m                                 Traceback (most recent call last)",
        "\u001b[1;32m<ipython-input-3-66883f73fa94>\u001b[0m in \u001b[0;36m<module>\u001b[1;34m()\u001b[0m\n\u001b[1;32m----> 1\u001b[1;33m \u001b[1;32mprint\u001b[0m \u001b[0mfd\u001b[0m\u001b[1;33m[\u001b[0m\u001b[1;36m0\u001b[0m\u001b[1;33m:\u001b[0m\u001b[1;36m20\u001b[0m\u001b[1;33m]\u001b[0m\u001b[1;33m,\u001b[0m \u001b[0mfd\u001b[0m\u001b[1;33m.\u001b[0m\u001b[0mshape\u001b[0m\u001b[1;33m\u001b[0m\u001b[0m\n\u001b[0m\u001b[0;32m      2\u001b[0m \u001b[1;32mprint\u001b[0m \u001b[0mhist\u001b[0m\u001b[1;33m[\u001b[0m\u001b[1;36m0\u001b[0m\u001b[1;33m:\u001b[0m\u001b[1;36m20\u001b[0m\u001b[1;33m]\u001b[0m\u001b[1;33m,\u001b[0m \u001b[0mhist\u001b[0m\u001b[1;33m.\u001b[0m\u001b[0mshape\u001b[0m\u001b[1;33m\u001b[0m\u001b[0m\n\u001b[0;32m      3\u001b[0m \u001b[1;32mprint\u001b[0m \u001b[0mnp\u001b[0m\u001b[1;33m.\u001b[0m\u001b[0marray_equal\u001b[0m\u001b[1;33m(\u001b[0m\u001b[0mfd\u001b[0m\u001b[1;33m,\u001b[0m \u001b[0mhist\u001b[0m\u001b[1;33m)\u001b[0m\u001b[1;33m\u001b[0m\u001b[0m\n",
        "\u001b[1;31mNameError\u001b[0m: name 'fd' is not defined"
       ]
      }
     ],
     "prompt_number": 3
    },
    {
     "cell_type": "code",
     "collapsed": false,
     "input": [
      "print np.histogram(hog_img)"
     ],
     "language": "python",
     "metadata": {},
     "outputs": [
      {
       "ename": "NameError",
       "evalue": "name 'np' is not defined",
       "output_type": "pyerr",
       "traceback": [
        "\u001b[1;31m---------------------------------------------------------------------------\u001b[0m\n\u001b[1;31mNameError\u001b[0m                                 Traceback (most recent call last)",
        "\u001b[1;32m<ipython-input-4-d4df9981be0c>\u001b[0m in \u001b[0;36m<module>\u001b[1;34m()\u001b[0m\n\u001b[1;32m----> 1\u001b[1;33m \u001b[1;32mprint\u001b[0m \u001b[0mnp\u001b[0m\u001b[1;33m.\u001b[0m\u001b[0mhistogram\u001b[0m\u001b[1;33m(\u001b[0m\u001b[0mhog_img\u001b[0m\u001b[1;33m)\u001b[0m\u001b[1;33m\u001b[0m\u001b[0m\n\u001b[0m",
        "\u001b[1;31mNameError\u001b[0m: name 'np' is not defined"
       ]
      }
     ],
     "prompt_number": 4
    },
    {
     "cell_type": "code",
     "collapsed": false,
     "input": [
      "import imtools\n",
      "print imtools.__version__"
     ],
     "language": "python",
     "metadata": {},
     "outputs": [
      {
       "output_type": "stream",
       "stream": "stdout",
       "text": [
        "0.1.11\n"
       ]
      }
     ],
     "prompt_number": 5
    },
    {
     "cell_type": "code",
     "collapsed": false,
     "input": [],
     "language": "python",
     "metadata": {},
     "outputs": []
    }
   ],
   "metadata": {}
  }
 ]
}