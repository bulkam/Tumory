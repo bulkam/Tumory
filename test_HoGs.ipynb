{
 "metadata": {
  "name": "",
  "signature": "sha256:e21213b469c521c24d06726be9ec0ee5d79ab3cd8b05ece9bf78f687d908470b"
 },
 "nbformat": 3,
 "nbformat_minor": 0,
 "worksheets": [
  {
   "cells": [
    {
     "cell_type": "markdown",
     "metadata": {},
     "source": [
      "# Importy"
     ]
    },
    {
     "cell_type": "code",
     "collapsed": false,
     "input": [
      "import classifier as clas\n",
      "import feature_extractor as fe\n",
      "import data_reader as dr\n",
      "\n",
      "import os\n",
      "import cv2\n",
      "\n",
      "import skimage\n",
      "from skimage.feature import hog as hogg\n",
      "from skimage import exposure\n",
      "from skimage.filters import roberts, sobel, scharr, prewitt\n",
      "from matplotlib import pyplot as plt\n",
      "import scipy\n",
      "import numpy as np\n",
      "\n",
      "from sklearn.feature_extraction.image import extract_patches_2d\n",
      "from sklearn.decomposition import PCA\n",
      "from sklearn.decomposition import TruncatedSVD as DEC"
     ],
     "language": "python",
     "metadata": {},
     "outputs": [
      {
       "output_type": "stream",
       "stream": "stdout",
       "text": [
        "Vytvoren dataset\n"
       ]
      }
     ],
     "prompt_number": 1
    },
    {
     "cell_type": "markdown",
     "metadata": {},
     "source": [
      "# Pomocn\u00e9 metody"
     ]
    },
    {
     "cell_type": "code",
     "collapsed": false,
     "input": [
      "def show_plot_in_new_figure(data):\n",
      "    \"\"\" Vykresli graf v novem okne \"\"\"\n",
      "    \n",
      "    plt.figure(figsize = (30,10))\n",
      "    plt.ylim(-0.3, 0.3)\n",
      "    plt.plot(list(data), 'b', lw=1)\n",
      "    plt.grid()\n",
      "    plt.show()\n",
      "\n",
      "\n",
      "def show_image_in_new_figure(img):\n",
      "    \"\"\" Vykresli obrazek v novem okne \"\"\"\n",
      "    \n",
      "    plt.figure()\n",
      "    skimage.io.imshow(img, cmap = 'gray')\n",
      "    plt.show()\n",
      "  \n",
      "    \n",
      "def test_hogs():\n",
      "    hog = fe.HOG()\n",
      "    xpath = hog.config_path\n",
      "    config = hog.dataset.config\n",
      "    win = hog.sliding_window_size\n",
      "    \n",
      "    data = hog.dataset\n",
      "    print hog.sliding_window_size\n",
      "    print len(data.orig_images)\n",
      "    #print hog.dataset.load_annotated_images()\n",
      "    TM = hog.extract_features()\n",
      "    \n",
      "    return TM\n",
      "\n",
      "\n",
      "def draw_hogs(img):\n",
      "    \"\"\" Vykresli HoGy do obrazku \"\"\"\n",
      "\n",
      "    fd, hog_img = hogg(img, orientations=4, pixels_per_cell=(4, 4),\n",
      "                        cells_per_block=(2, 2), visualise=True)\n",
      "    \n",
      "    fig, (ax1, ax2) = plt.subplots(1, 2, figsize=(16, 10), sharex=True, sharey=True)\n",
      "    \n",
      "    ax1.axis('off')\n",
      "    ax1.imshow(img, cmap=plt.cm.gray)\n",
      "    ax1.set_title('Vstupni obrazek')\n",
      "    ax1.set_adjustable('box-forced')\n",
      "    \n",
      "    hog_img_rescaled = exposure.rescale_intensity(hog_img, in_range=(0, 0.02))\n",
      "    \n",
      "    ax2.axis('off')\n",
      "    ax2.imshow(hog_img_rescaled, cmap=plt.cm.gray)\n",
      "    ax2.set_title('Histogram Orientovanych Gradientu')\n",
      "    ax1.set_adjustable('box-forced')\n",
      "    plt.show()\n",
      "    \n",
      "    \n",
      "# TODO: zkouset \n",
      "def preprocess_image(img):\n",
      "    \"\"\" Provede zakladni predzpracovani obrazku \"\"\"\n",
      "    \n",
      "    roi = cv2.resize(img, tuple(hog.sliding_window_size), interpolation=cv2.INTER_AREA)\n",
      "    #show_image_in_new_figure(roi)\n",
      "    #roi = scipy.ndimage.gaussian_filter(roi, sigma=1)\n",
      "    roi = cv2.bilateralFilter(roi.astype(\"uint8\"), 5, 35, 35)\n",
      "    #roi = sobel(roi)\n",
      "    return roi\n",
      "    \n",
      "\n",
      "def show_hogs(imgname, hog):\n",
      "    \n",
      "    img = dataset.load_image(imgname)\n",
      "\n",
      "    roi = preprocess_image(img)\n",
      "    \n",
      "    # extrakce vektoru priznaku\n",
      "    feature_vect = hog.skimHOG(roi)\n",
      "    feature_vect = hog.extract_single_feature_vect(roi)[0]\n",
      "    \n",
      "    #show_image_in_new_figure(roi)\n",
      "    #show_plot_in_new_figure(feature_vect)\n",
      "    #draw_hogs(roi)\n",
      "    \n",
      "    return feature_vect\n",
      "\n",
      "\n",
      "def reduce_dimension(self, to_return=False):\n",
      "    \"\"\" Aplikuje PCA a redukuje tim pocet priznaku \"\"\"\n",
      "\n",
      "    features = self.features        \n",
      "    data = list()\n",
      "    labels = list()\n",
      "    \n",
      "    # namapovani na numpy matice pro PCA\n",
      "    for value in features.values():\n",
      "        data.append(value[\"feature_vect\"])\n",
      "        labels.append(value[\"label\"])\n",
      "    \n",
      "    X = np.vstack(data)\n",
      "    Y = np.array(labels)        \n",
      "    \n",
      "    # PCA\n",
      "    pca = PCA(n_components=self.feature_vector_length)   # vytvori PCA\n",
      "    pca.fit(X, Y)\n",
      "    reduced = pca.transform(X)      # redukuje dimenzi vektoru priznaku\n",
      "    \n",
      "    # znovu namapuje na zavedenou strukturu\n",
      "    for i, feature_vect in enumerate(reduced):\n",
      "        img_id = features.keys()[i]\n",
      "        features[img_id][\"feature_vect\"] = list(feature_vect)\n",
      "        features[img_id][\"label\"] = labels[i]\n",
      "    \n",
      "    # ulozeni PCA\n",
      "    self.dataset.save_obj(pca, self.PCA_path+\"/PCA_\"+self.descriptor_type+\".pkl\")\n",
      "    self.PCA_object = pca\n",
      "\n",
      "    if to_return: return features\n",
      "\n",
      "\n",
      "def visualize_data(pos, neg, n_features=12,\n",
      "                   var_scale=1, draw_all=False):\n",
      "    \n",
      "    P = np.vstack(pos)[:, 0:n_features]\n",
      "    N = np.vstack(neg)[:, 0:n_features]\n",
      "    \n",
      "    mP = np.mean(P, axis = 0)\n",
      "    mN = np.mean(N, axis = 0)\n",
      "    \n",
      "    varP = np.var(P, axis = 0)\n",
      "    varN = np.var(N, axis = 0)\n",
      "    \n",
      "    hP = mP + varP * var_scale\n",
      "    lP = mP - varP * var_scale\n",
      "    hN = mN + varN * var_scale\n",
      "    lN = mN - varN * var_scale\n",
      "    \n",
      "    plt.figure()\n",
      "    plt.ylim(-1, 1)\n",
      "    plt.plot(mP, color='y')\n",
      "    plt.plot(mN, color='b')\n",
      "    plt.fill_between(np.arange(len(mP)), lP, hP, where=hP >= lP, facecolor='red', interpolate=True)\n",
      "    plt.fill_between(np.arange(len(mP)), lN, hN, where=hN >= lN, facecolor='green', interpolate=True)\n",
      "    plt.grid()\n",
      "    plt.show()\n",
      "    \n",
      "    if draw_all:\n",
      "        plt.figure()\n",
      "        plt.ylim(-1, 1)\n",
      "        \n",
      "        for n in N:\n",
      "            plt.plot(n, 'g')\n",
      "        \n",
      "        for p in P:\n",
      "            plt.plot(p, 'r')\n",
      "        plt.grid()\n",
      "            \n",
      "        plt.show()"
     ],
     "language": "python",
     "metadata": {},
     "outputs": [],
     "prompt_number": 2
    },
    {
     "cell_type": "markdown",
     "metadata": {},
     "source": [
      "# Spousteni"
     ]
    },
    {
     "cell_type": "code",
     "collapsed": false,
     "input": [
      "# HoG\n",
      "hog = fe.HOG(orientations=12, pixels_per_cell=(8, 8), cells_per_block=(2, 2))\n",
      "\n",
      "config = hog.dataset.config\n",
      "dataset = hog.dataset"
     ],
     "language": "python",
     "metadata": {},
     "outputs": [
      {
       "output_type": "stream",
       "stream": "stdout",
       "text": [
        "Vytvoren dataset\n"
       ]
      }
     ],
     "prompt_number": 3
    },
    {
     "cell_type": "code",
     "collapsed": false,
     "input": [
      "positives = [config[\"frames_positives_path\"]+imgname for imgname in os.listdir(config[\"frames_positives_path\"]) if imgname.endswith('.pklz')]\n",
      "negatives = [config[\"frames_negatives_path\"]+imgname for imgname in os.listdir(config[\"frames_negatives_path\"]) if imgname.endswith('.pklz')]\n",
      "\n",
      "indexes = [18, 129, 146, 222, 21, 64, 111]\n",
      "indexes = range(min(len(positives), len(negatives))//10)\n",
      "\n",
      "positive_feature_vects = list()\n",
      "negative_feature_vects = list()"
     ],
     "language": "python",
     "metadata": {},
     "outputs": [],
     "prompt_number": 4
    },
    {
     "cell_type": "code",
     "collapsed": false,
     "input": [
      "for p in indexes:\n",
      "    positive = positives[p]\n",
      "    positive_feature_vects.append(show_hogs(positive, hog))\n",
      "\n",
      "for n in indexes:\n",
      "    negative = negatives[n]\n",
      "    negative_feature_vects.append(show_hogs(negative, hog))\n"
     ],
     "language": "python",
     "metadata": {},
     "outputs": [],
     "prompt_number": 5
    },
    {
     "cell_type": "code",
     "collapsed": false,
     "input": [
      "visualize_data(positive_feature_vects, negative_feature_vects,\n",
      "               draw_all=True, n_features=-1, var_scale=1)"
     ],
     "language": "python",
     "metadata": {},
     "outputs": [
      {
       "output_type": "stream",
       "stream": "stderr",
       "text": [
        "C:\\Python27\\lib\\site-packages\\matplotlib\\collections.py:590: FutureWarning: elementwise comparison failed; returning scalar instead, but in the future will perform elementwise comparison\n",
        "  if self._edgecolors == str('face'):\n"
       ]
      }
     ],
     "prompt_number": 6
    },
    {
     "cell_type": "code",
     "collapsed": false,
     "input": [],
     "language": "python",
     "metadata": {},
     "outputs": []
    }
   ],
   "metadata": {}
  }
 ]
}