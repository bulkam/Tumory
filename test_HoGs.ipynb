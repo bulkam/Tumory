{
 "metadata": {
  "name": "",
  "signature": "sha256:4bd123b972879da6e80c7d6a746c1f78e81c3e5e0bdae15ef41dcadfc39fd91b"
 },
 "nbformat": 3,
 "nbformat_minor": 0,
 "worksheets": [
  {
   "cells": [
    {
     "cell_type": "markdown",
     "metadata": {},
     "source": [
      "# Importy"
     ]
    },
    {
     "cell_type": "code",
     "collapsed": false,
     "input": [
      "import classifier as clas\n",
      "import feature_extractor as fe\n",
      "import data_reader as dr\n",
      "\n",
      "import os\n",
      "import cv2\n",
      "\n",
      "import skimage\n",
      "from skimage.feature import hog as hogg\n",
      "from skimage import exposure, data\n",
      "#from skimage.filters import roberts, sobel, scharr, prewitt\n",
      "from matplotlib import pyplot as plt\n",
      "from matplotlib.gridspec import GridSpec\n",
      "import scipy\n",
      "import numpy as np\n",
      "\n",
      "from sklearn.feature_extraction.image import extract_patches_2d\n",
      "from sklearn.decomposition import PCA as PCA\n",
      "from sklearn.decomposition import TruncatedSVD as DEC"
     ],
     "language": "python",
     "metadata": {},
     "outputs": [
      {
       "output_type": "stream",
       "stream": "stdout",
       "text": [
        "Vytvoren dataset\n"
       ]
      }
     ],
     "prompt_number": 1
    },
    {
     "cell_type": "markdown",
     "metadata": {},
     "source": [
      "# Pomocn\u00e9 metody"
     ]
    },
    {
     "cell_type": "code",
     "collapsed": false,
     "input": [
      "def show_plot_in_new_figure(data):\n",
      "    \"\"\" Vykresli graf v novem okne \"\"\"\n",
      "    \n",
      "    plt.figure(figsize = (30,10))\n",
      "    plt.ylim(-0.3, 0.3)\n",
      "    plt.plot(list(data), 'b', lw=1)\n",
      "    plt.grid()\n",
      "    plt.show()\n",
      "\n",
      "\n",
      "def show_image_in_new_figure(img):\n",
      "    \"\"\" Vykresli obrazek v novem okne \"\"\"\n",
      "    \n",
      "    plt.figure()\n",
      "    skimage.io.imshow(img, cmap = 'gray')\n",
      "    plt.show()\n",
      "  \n",
      "    \n",
      "def test_hogs():\n",
      "    hog = fe.HOG()\n",
      "    xpath = hog.config_path\n",
      "    config = hog.dataset.config\n",
      "    win = hog.sliding_window_size\n",
      "    \n",
      "    data = hog.dataset\n",
      "    print hog.sliding_window_size\n",
      "    print len(data.orig_images)\n",
      "    #print hog.dataset.load_annotated_images()\n",
      "    TM = hog.extract_features()\n",
      "    \n",
      "    return TM\n",
      "\n",
      "\n",
      "def reduce_single_vector_dimension(vect):\n",
      "    \"\"\" Nacte model PCA a aplikuje jej na jediny vektor \"\"\"\n",
      "\n",
      "    # aplikace ulozeneho PCA\n",
      "    reduced = pca.transform(vect)      # redukuje dimenzi vektoru priznaku\n",
      "\n",
      "    return reduced\n",
      "\n",
      "\n",
      "def extract_single_feature_vect(gray):\n",
      "    \"\"\" Vrati vektor priznaku pro jedek obrazek \"\"\"\n",
      "\n",
      "    hist, hog_img = skimHOG(gray)\n",
      "    reduced = reduce_single_vector_dimension(hist)\n",
      "\n",
      "    return reduced, hog_img\n",
      "\n",
      "    \n",
      "def show_hogs(imgname, hog, to_draw=False):\n",
      "    \n",
      "    img = dataset.load_image(imgname)\n",
      "\n",
      "    roi = preprocess_image(img)\n",
      "    \n",
      "    # extrakce vektoru priznaku\n",
      "    feature_vect, hog_img = skimHOG(roi)\n",
      "    #feature_vect, hog_img = extract_single_feature_vect(roi)[0]\n",
      "    \n",
      "    #show_image_in_new_figure(roi)\n",
      "    #show_plot_in_new_figure(feature_vect)\n",
      "    if to_draw: draw_hogs(roi, hog_img, feature_vect)\n",
      "    \n",
      "    return feature_vect, hog_img\n",
      "\n",
      "\n",
      "def reduce_dimension(positives, negatives, to_return=True, fv_len=10,\n",
      "                     new_pca=True):\n",
      "    \"\"\" Aplikuje PCA a redukuje tim pocet priznaku \"\"\"\n",
      "\n",
      "    features = dict()       \n",
      "    \n",
      "    # namapovani na numpy matice pro PCA\n",
      "    X = np.vstack((np.vstack(positives), np.vstack(negatives)))\n",
      "    Y = np.vstack((np.vstack([1]*len(positives)), np.vstack([-1]*len(negatives)))) \n",
      "    \n",
      "    print X.shape, Y.shape, len(positives[0])\n",
      "    \n",
      "    # PCA\n",
      "    if new_pca or pca is None:\n",
      "        pca = PCA(n_components=fv_len)   # vytvori PCA\n",
      "        #pca = DEC(n_components=fv_len)   # vytvori PCA\n",
      "        pca.fit(X, Y)\n",
      "    \n",
      "    reduced = pca.transform(X)      # redukuje dimenzi vektoru priznaku\n",
      "    \n",
      "    # znovu namapuje na zavedenou strukturu\n",
      "    features = list(reduced)\n",
      "    \n",
      "    # ulozeni PCA\n",
      "    #dataset.save_obj(pca, self.PCA_path+\"/PCA_\"+self.descriptor_type+\".pkl\")\n",
      "\n",
      "    if to_return: return pca, features\n",
      "\n",
      "    \n",
      "def draw_hogs(img, hog_img, vect, rescale=True):\n",
      "    \"\"\" Vykresli HoGy do obrazku \"\"\"\n",
      "    \"\"\"\n",
      "    fig, (ax1, ax2) = plt.subplots(1,2, figsize=(16, 10), sharex=True, sharey=True)\n",
      "    \n",
      "    ax1.axis('off')\n",
      "    ax1.imshow(img, cmap=plt.cm.gray)\n",
      "    ax1.set_title('Vstupni obrazek')\n",
      "    ax1.set_adjustable('box-forced')\n",
      "    \n",
      "    hog_img_rescaled = exposure.rescale_intensity(hog_img, in_range=(0, 0.02))\n",
      "    \n",
      "    ax2.axis('off')\n",
      "    ax2.imshow(hog_img_rescaled, cmap=plt.cm.gray)\n",
      "    ax2.set_title('Histogram Orientovanych Gradientu')\n",
      "    ax2.set_adjustable('box-forced')\n",
      "    \n",
      "    plt.show()\"\"\"\n",
      "    \n",
      "    fig = plt.figure(figsize=(16, 10))\n",
      "\n",
      "    gs = GridSpec(2, 2)\n",
      "    ax1 = plt.subplot(gs[0, :1])\n",
      "    ax2 = plt.subplot(gs[0, -1])\n",
      "    ax3 = plt.subplot(gs[1, :])\n",
      "    \n",
      "    ax1.axis('off')\n",
      "    ax1.imshow(img, cmap=plt.cm.gray)\n",
      "    ax1.set_title('Vstupni obrazek')\n",
      "    #ax1.set_adjustable('box-forced')\n",
      "    \n",
      "    hog_img_rescaled = exposure.rescale_intensity(hog_img, in_range=(0, 0.02)) if rescale else hog_img\n",
      "    \n",
      "    ax2.axis('off')\n",
      "    ax2.imshow(hog_img_rescaled, cmap=plt.cm.gray)\n",
      "    ax2.set_title('Histogram Orientovanych Gradientu')\n",
      "    #ax2.set_adjustable('box-forced')\n",
      "    \n",
      "    ax3.plot(vect)\n",
      "    ax3.grid()\n",
      "        \n",
      "    plt.show()    \n",
      "    \n",
      "\n",
      "def visualize_data(pos, neg, n_features=12,\n",
      "                   var_scale=1, draw_all=False, each_data=1):\n",
      "    \n",
      "    P = np.vstack(pos)[:, 0:n_features]\n",
      "    N = np.vstack(neg)[:, 0:n_features]\n",
      "    \n",
      "    mP = np.mean(P, axis = 0)\n",
      "    mN = np.mean(N, axis = 0)\n",
      "    \n",
      "    varP = np.var(P, axis = 0)\n",
      "    varN = np.var(N, axis = 0)\n",
      "    \n",
      "    hP = mP + varP * var_scale\n",
      "    lP = mP - varP * var_scale\n",
      "    hN = mN + varN * var_scale\n",
      "    lN = mN - varN * var_scale\n",
      "    \n",
      "    plt.figure()\n",
      "    plt.ylim(-1, 1)\n",
      "    plt.plot(mP, color='y')\n",
      "    plt.plot(mN, color='b')\n",
      "    plt.fill_between(np.arange(len(mP)), lP, hP, where=hP >= lP, facecolor='red', interpolate=True)\n",
      "    plt.fill_between(np.arange(len(mP)), lN, hN, where=hN >= lN, facecolor='green', interpolate=True)\n",
      "    plt.grid()\n",
      "    plt.show()\n",
      "    \n",
      "    if draw_all:\n",
      "        plt.figure()\n",
      "        plt.ylim(-1, 1)\n",
      "        \n",
      "        for i, p in enumerate(P):\n",
      "            if i % each_data == 0:\n",
      "                plt.plot(p, 'r')\n",
      "                plt.plot(N[i], 'g')  \n",
      "        \n",
      "        plt.grid()\n",
      "            \n",
      "        plt.show()\n",
      "\n",
      "\n",
      "def visualize_feature_pairs(pos, neg, features = (0, 1), n_features=-1,\n",
      "                            var_scale=1, draw_all=False, each_data=1):\n",
      "    P = np.vstack(pos)[:, :]\n",
      "    N = np.vstack(neg)[:, :]\n",
      "    \n",
      "    print P[:, features[0]].shape\n",
      "    \n",
      "    #P = np.hstack((P[:, features[0]], P[:, features[1]]))\n",
      "    #N = np.hstack((N[:, features[0]], N[:, features[1]]))\n",
      "    \n",
      "    print P.shape\n",
      "    xmin = min(np.min(P[:, features[0]]), np.min(N[:, features[0]]))\n",
      "    xmax = max(np.max(P[:, features[0]]), np.max(N[:, features[0]]))\n",
      "    ymin = min(np.min(P[:, features[1]]), np.min(N[:, features[1]]))\n",
      "    ymax = max(np.max(P[:, features[1]]), np.max(N[:, features[1]]))\n",
      "                                                                \n",
      "    plt.figure()\n",
      "    plt.xlim((xmin, xmax))\n",
      "    plt.ylim((ymin, ymax))\n",
      "    plt.scatter(P[:, features[0]], P[:, features[1]], color='r')\n",
      "    plt.scatter(N[:, features[0]], N[:, features[1]], color='g')\n",
      "    plt.grid()\n",
      "    plt.savefig(\"extractor_test_results/HoG/Data/Pair/both.png\")\n",
      "    plt.show()\n",
      "    \n",
      "    \n",
      "    plt.figure()\n",
      "    plt.xlim((xmin, xmax))\n",
      "    plt.ylim((ymin, ymax))\n",
      "    plt.scatter(P[:, features[0]], P[:, features[1]], color='r')\n",
      "    plt.grid()\n",
      "    plt.savefig(\"extractor_test_results/HoG/Data/Pair/Pos.png\")\n",
      "    plt.show()\n",
      "    \n",
      "    plt.figure()\n",
      "    plt.xlim((xmin, xmax))\n",
      "    plt.ylim((ymin, ymax))\n",
      "    plt.scatter(N[:, features[0]], N[:, features[1]], color='g')\n",
      "    plt.grid()\n",
      "    plt.savefig(\"extractor_test_results/HoG/Data/Pair/Neg.png\")\n",
      "    plt.show()\n",
      "    \n"
     ],
     "language": "python",
     "metadata": {},
     "outputs": [],
     "prompt_number": 2
    },
    {
     "cell_type": "code",
     "collapsed": false,
     "input": [
      "# TODO: zkouset \n",
      "def preprocess_image(img):\n",
      "    \"\"\" Provede zakladni predzpracovani obrazku \"\"\"\n",
      "    \n",
      "    roi = cv2.resize(img, tuple(hog.sliding_window_size), interpolation=cv2.INTER_AREA)\n",
      "    \n",
      "    roi = cv2.bilateralFilter(roi.astype(\"uint8\"), 9, 35, 35)\n",
      "    \n",
      "    # histogram\n",
      "    #clahe = cv2.createCLAHE(clipLimit=2.0, tileGridSize=(4,4))\n",
      "    #roi = clahe.apply(roi.astype(\"uint8\"))\n",
      "    #roi = cv2.equalizeHist(roi.astype(\"uint8\"))\n",
      "    \n",
      "    return roi\n",
      "\n",
      "\n",
      "def skimHOG(roi):\n",
      "    \n",
      "    img = roi\n",
      "    \n",
      "    hist, hog_img = hogg(img, orientations=orientations, pixels_per_cell=pixels_per_cell,\n",
      "                       cells_per_block=cells_per_block, visualise=True)\n",
      "    \n",
      "    hist[hist<0] = 0\n",
      "    \n",
      "    return hist, hog_img  "
     ],
     "language": "python",
     "metadata": {},
     "outputs": [],
     "prompt_number": 3
    },
    {
     "cell_type": "markdown",
     "metadata": {},
     "source": [
      "# Spousteni"
     ]
    },
    {
     "cell_type": "code",
     "collapsed": false,
     "input": [
      "# HoG\n",
      "#hog = fe.HOG(orientations=12, pixels_per_cell=(8, 8), cells_per_block=(2, 2))\n",
      "hog = fe.HOG()\n",
      "\n",
      "config = hog.dataset.config\n",
      "dataset = hog.dataset\n",
      "pca = None"
     ],
     "language": "python",
     "metadata": {},
     "outputs": [
      {
       "output_type": "stream",
       "stream": "stdout",
       "text": [
        "Vytvoren dataset\n"
       ]
      }
     ],
     "prompt_number": 4
    },
    {
     "cell_type": "markdown",
     "metadata": {},
     "source": [
      "# Zkoumani HoGu"
     ]
    },
    {
     "cell_type": "code",
     "collapsed": false,
     "input": [
      "orientations=4\n",
      "pixels_per_cell=(8, 8)\n",
      "cells_per_block=(2, 2)\n",
      "\n",
      "positives = [config[\"frames_positives_path\"]+imgname for imgname in os.listdir(config[\"frames_positives_path\"]) if (imgname.endswith('.pklz') and not ('AFFINE' in imgname) and (\"0_0.\" in imgname))]\n",
      "negatives = [config[\"frames_negatives_path\"]+imgname for imgname in os.listdir(config[\"frames_negatives_path\"]) if (imgname.endswith('.pklz') and not ('AFFINE' in imgname))]\n",
      "\n",
      "indexes = list([18, 129, 146, 222, 21, 64, 111])[0:2]\n",
      "#indexes = list([18, 150, 200, 111, 28, 71, 99])[0:]\n",
      "#indexes = range(12)\n",
      "\n",
      "to_draw = 1\n",
      "\n",
      "each_index = 1\n",
      "\n",
      "print len(positives), len(negatives)\n",
      "positive_feature_vects = list()\n",
      "negative_feature_vects = list()\n",
      "\n",
      "for p in indexes:\n",
      "    if p % each_index == 0:\n",
      "        positive = positives[p]\n",
      "        positive_feature_vects.append(show_hogs(positive, hog, to_draw=bool(to_draw)))\n",
      "\n",
      "for n in indexes:\n",
      "    if n % each_index == 1:\n",
      "        negative = negatives[n]\n",
      "        negative_feature_vects.append(show_hogs(negative, hog, to_draw=bool(to_draw)))\n",
      "        "
     ],
     "language": "python",
     "metadata": {},
     "outputs": [
      {
       "output_type": "stream",
       "stream": "stdout",
       "text": [
        "41 1125\n"
       ]
      },
      {
       "ename": "IndexError",
       "evalue": "list index out of range",
       "output_type": "pyerr",
       "traceback": [
        "\u001b[1;31m---------------------------------------------------------------------------\u001b[0m\n\u001b[1;31mIndexError\u001b[0m                                Traceback (most recent call last)",
        "\u001b[1;32m<ipython-input-5-5c515a502b04>\u001b[0m in \u001b[0;36m<module>\u001b[1;34m()\u001b[0m\n\u001b[0;32m     20\u001b[0m \u001b[1;32mfor\u001b[0m \u001b[0mp\u001b[0m \u001b[1;32min\u001b[0m \u001b[0mindexes\u001b[0m\u001b[1;33m:\u001b[0m\u001b[1;33m\u001b[0m\u001b[0m\n\u001b[0;32m     21\u001b[0m     \u001b[1;32mif\u001b[0m \u001b[0mp\u001b[0m \u001b[1;33m%\u001b[0m \u001b[0meach_index\u001b[0m \u001b[1;33m==\u001b[0m \u001b[1;36m0\u001b[0m\u001b[1;33m:\u001b[0m\u001b[1;33m\u001b[0m\u001b[0m\n\u001b[1;32m---> 22\u001b[1;33m         \u001b[0mpositive\u001b[0m \u001b[1;33m=\u001b[0m \u001b[0mpositives\u001b[0m\u001b[1;33m[\u001b[0m\u001b[0mp\u001b[0m\u001b[1;33m]\u001b[0m\u001b[1;33m\u001b[0m\u001b[0m\n\u001b[0m\u001b[0;32m     23\u001b[0m         \u001b[0mpositive_feature_vects\u001b[0m\u001b[1;33m.\u001b[0m\u001b[0mappend\u001b[0m\u001b[1;33m(\u001b[0m\u001b[0mshow_hogs\u001b[0m\u001b[1;33m(\u001b[0m\u001b[0mpositive\u001b[0m\u001b[1;33m,\u001b[0m \u001b[0mhog\u001b[0m\u001b[1;33m,\u001b[0m \u001b[0mto_draw\u001b[0m\u001b[1;33m=\u001b[0m\u001b[0mbool\u001b[0m\u001b[1;33m(\u001b[0m\u001b[0mto_draw\u001b[0m\u001b[1;33m)\u001b[0m\u001b[1;33m)\u001b[0m\u001b[1;33m)\u001b[0m\u001b[1;33m\u001b[0m\u001b[0m\n\u001b[0;32m     24\u001b[0m \u001b[1;33m\u001b[0m\u001b[0m\n",
        "\u001b[1;31mIndexError\u001b[0m: list index out of range"
       ]
      }
     ],
     "prompt_number": 5
    },
    {
     "cell_type": "code",
     "collapsed": false,
     "input": [
      "v = positive_feature_vects\n",
      "vect = v[0]\n",
      "#print vect[0][0:20]\n",
      "hogimg = vect[1]\n",
      "#print hogimg.ravel()[0:20]\n"
     ],
     "language": "python",
     "metadata": {},
     "outputs": [
      {
       "output_type": "stream",
       "stream": "stdout",
       "text": [
        "(array([  4.26239553e-03,   3.22688859e-03,   0.00000000e+00,\n",
        "         0.00000000e+00,   1.71573716e-01,   3.56372994e-02,\n",
        "         0.00000000e+00,   0.00000000e+00,   7.79292306e-02,\n",
        "         4.03361074e-03,   0.00000000e+00,   0.00000000e+00,\n",
        "         5.06678861e-01,   1.96657992e-01,   0.00000000e+00,\n",
        "         0.00000000e+00,   9.83980549e-02,   2.04381011e-02,\n",
        "         0.00000000e+00,   0.00000000e+00,   6.55167673e-02,\n",
        "         1.81080330e-01,   0.00000000e+00,   0.00000000e+00,\n",
        "         2.90581889e-01,   1.12783964e-01,   0.00000000e+00,\n",
        "         0.00000000e+00,   5.32558936e-03,   2.23585263e-01,\n",
        "         2.29003848e-03,   0.00000000e+00,   8.09621924e-02,\n",
        "         2.23769596e-01,   0.00000000e+00,   0.00000000e+00,\n",
        "         3.26558936e-03,   1.01171220e-01,   9.97250775e-02,\n",
        "         0.00000000e+00,   6.58108463e-03,   2.76294968e-01,\n",
        "         2.82990971e-03,   0.00000000e+00,   1.04129253e-17,\n",
        "         2.75607614e-02,   1.77839598e-01,   0.00000000e+00,\n",
        "         4.35629675e-03,   1.34962424e-01,   1.33033270e-01,\n",
        "         0.00000000e+00,   2.99371641e-17,   1.19748656e-17,\n",
        "         2.07549061e-01,   5.78202374e-03,   1.38908441e-17,\n",
        "         3.67660604e-02,   2.37238054e-01,   0.00000000e+00,\n",
        "         1.38908441e-17,   0.00000000e+00,   2.19183015e-01,\n",
        "         2.11297885e-02,   3.18398132e-17,   1.27359253e-17,\n",
        "         2.20739791e-01,   6.14949885e-03,   5.16217575e-03,\n",
        "         1.27359253e-17,   6.27917717e-02,   1.46582977e-01,\n",
        "         1.47736733e-17,   0.00000000e+00,   2.33113138e-01,\n",
        "         2.24726871e-02,   5.73575083e-03,   0.00000000e+00,\n",
        "         3.67267252e-03,   2.93579530e-01,   4.42718866e-02,\n",
        "         2.29150931e-03,   0.00000000e+00,   0.00000000e+00,\n",
        "         2.87846151e-01,   1.11722139e-01,   0.00000000e+00,\n",
        "         0.00000000e+00,   1.64066318e-01,   9.16603724e-04,\n",
        "         0.00000000e+00,   1.72619950e-02,   3.71623396e-01,\n",
        "         0.00000000e+00,   0.00000000e+00,   0.00000000e+00,\n",
        "         2.59893264e-01,   1.00872745e-01,   0.00000000e+00,\n",
        "         0.00000000e+00,   4.76314890e-03,   1.99972215e-01,\n",
        "         2.04818538e-03,   0.00000000e+00,   3.35534858e-01,\n",
        "         0.00000000e+00,   0.00000000e+00,   0.00000000e+00,\n",
        "         2.68679969e-02,   7.00475856e-02,   0.00000000e+00,\n",
        "         0.00000000e+00,   8.42092284e-03,   3.53537256e-01,\n",
        "         3.62105224e-03,   0.00000000e+00,   1.33240105e-17,\n",
        "         3.52657743e-02,   2.27557252e-01,   0.00000000e+00,\n",
        "         4.75007886e-02,   1.23839360e-01,   0.00000000e+00,\n",
        "         0.00000000e+00,   5.33523521e-03,   4.16616761e-02,\n",
        "         1.14287481e-01,   3.89731957e-02,   1.43250543e-17,\n",
        "         3.79153208e-02,   2.44653815e-01,   0.00000000e+00,\n",
        "         1.43250543e-17,   0.00000000e+00,   2.26034399e-01,\n",
        "         2.17902789e-02,   5.73607580e-03,   4.47917520e-02,\n",
        "         1.22873993e-01,   4.19012839e-02,   3.33694703e-03,\n",
        "         0.00000000e+00,   3.76100207e-02,   2.13356107e-01,\n",
        "         1.20209366e-17,   0.00000000e+00,   1.89677827e-01,\n",
        "         1.82854148e-02,   4.66702460e-03,   0.00000000e+00,\n",
        "         2.98835383e-03,   2.38877686e-01,   2.80021476e-03,\n",
        "         0.00000000e+00,   3.15606254e-02,   1.79038779e-01,\n",
        "         5.42578486e-02,   0.00000000e+00,   1.32644817e-17,\n",
        "         2.77846222e-01,   1.45602477e-01,   8.13450159e-04,\n",
        "         0.00000000e+00,   1.53193493e-02,   3.29801312e-01,\n",
        "         0.00000000e+00,   0.00000000e+00,   0.00000000e+00,\n",
        "         5.90708904e-02,   1.27719196e-19,   2.87598062e-04,\n",
        "         1.97973447e-01,   1.08971037e-01,   0.00000000e+00,\n",
        "         6.96896589e-03,   1.35191471e-01,   4.44895179e-01,\n",
        "         0.00000000e+00,   0.00000000e+00,   0.00000000e+00,\n",
        "         3.56250388e-02,   9.28780793e-02,   0.00000000e+00,\n",
        "         0.00000000e+00,   1.46999685e-01,   0.00000000e+00,\n",
        "         9.40099150e-03,   1.82370511e-01,   6.26698837e-02,\n",
        "         0.00000000e+00,   0.00000000e+00,   2.51606276e-02,\n",
        "         7.87383024e-02,   2.05278718e-01,   0.00000000e+00,\n",
        "         0.00000000e+00,   8.84379765e-03,   6.90592672e-02,\n",
        "         1.89445323e-01,   6.46027857e-02,   1.38512699e-01,\n",
        "         0.00000000e+00,   0.00000000e+00,   5.56099074e-02,\n",
        "         1.26793903e-01,   1.86345134e-02,   5.48642788e-03,\n",
        "         3.89943404e-02,   6.90434723e-03,   5.39145262e-02,\n",
        "         1.47899844e-01,   5.04353539e-02,   4.01658587e-03,\n",
        "         0.00000000e+00,   4.52700856e-02,   2.56810527e-01,\n",
        "         9.89879199e-02,   1.45479528e-02,   4.28325078e-03,\n",
        "         3.04428569e-02,   1.44303424e-01,   0.00000000e+00,\n",
        "         0.00000000e+00,   1.42183316e-01,   2.53392503e-03,\n",
        "         0.00000000e+00,   2.85593304e-02,   1.62012875e-01,\n",
        "         4.90981344e-02,   0.00000000e+00,   1.20030801e-17,\n",
        "         2.51424107e-01,   9.10360368e-02,   0.00000000e+00,\n",
        "         0.00000000e+00,   8.96985340e-02,   7.27683105e-02,\n",
        "         0.00000000e+00,   0.00000000e+00,   2.52868744e-01,\n",
        "         5.58480625e-02,   1.20751009e-19,   2.71907100e-04,\n",
        "         1.87172284e-01,   1.03025725e-01,   0.00000000e+00,\n",
        "         6.58874853e-03,   1.27815607e-01,   5.71004911e-03,\n",
        "         1.20751009e-19,   5.43814201e-04,   5.47892791e-02,\n",
        "         0.00000000e+00,   0.00000000e+00,   1.41011656e-01,\n",
        "         3.17222866e-01,   1.16933517e-01,   0.00000000e+00,\n",
        "         7.47818608e-03,   1.45069871e-01,   4.98518749e-02,\n",
        "         0.00000000e+00,   0.00000000e+00,   2.00144693e-02,\n",
        "         0.00000000e+00,   0.00000000e+00,   1.60047298e-01,\n",
        "         3.60045859e-01,   0.00000000e+00,   0.00000000e+00,\n",
        "         9.54827985e-02,   4.50761245e-02,   1.27336107e-01,\n",
        "         0.00000000e+00,   0.00000000e+00,   5.11227433e-02,\n",
        "         1.16562902e-01,   1.71308943e-02,   5.04372795e-03,\n",
        "         3.58478866e-02,   0.00000000e+00,   0.00000000e+00,\n",
        "         2.43890684e-01,   1.15137460e-01,   1.24793219e-02,\n",
        "         1.60347361e-01,   1.11756485e-01,   3.34441536e-03,\n",
        "         9.28757990e-02,   1.36496730e-02,   4.01877662e-03,\n",
        "         2.85631283e-02,   1.35393246e-01,   0.00000000e+00,\n",
        "         0.00000000e+00,   1.33404047e-01,   9.94336082e-03,\n",
        "         1.27762685e-01,   8.90461087e-02,   2.66478652e-03,\n",
        "         1.95293876e-01,   1.67384505e-01,   3.59820664e-17,\n",
        "         0.00000000e+00,   7.18344659e-02,   0.00000000e+00,\n",
        "         0.00000000e+00,   7.07790728e-02,   5.74198186e-02,\n",
        "         0.00000000e+00,   0.00000000e+00,   1.99532974e-01,\n",
        "         1.03615443e-01,   8.88078014e-02,   1.90907050e-17,\n",
        "         0.00000000e+00,   3.61540342e-01,   4.64700798e-02,\n",
        "         2.20505042e-17,   0.00000000e+00,   7.90859060e-03,\n",
        "         1.67243798e-19,   7.53199105e-04,   7.58848075e-02,\n",
        "         0.00000000e+00,   0.00000000e+00,   1.95305405e-01,\n",
        "         4.39363258e-01,   3.38939597e-03,   1.67243798e-19,\n",
        "         3.76599552e-04,   4.47289334e-03,   1.88299776e-03,\n",
        "         0.00000000e+00,   8.11439023e-02,   1.89518948e-01,\n",
        "         0.00000000e+00,   0.00000000e+00,   1.19168923e-01,\n",
        "         2.68084982e-01,   0.00000000e+00,   0.00000000e+00,\n",
        "         7.10951222e-02,   3.35630358e-02,   1.14894319e-03,\n",
        "         0.00000000e+00,   4.95113353e-02,   1.15638217e-01,\n",
        "         6.12279926e-19,   2.00728314e-02,   2.95185837e-01,\n",
        "         2.65307731e-02,   0.00000000e+00,   0.00000000e+00,\n",
        "         8.20403678e-02,   3.87301366e-02,   4.19781575e-03,\n",
        "         5.39379210e-02,   3.75928385e-02,   1.12500019e-03,\n",
        "         7.06541725e-19,   2.31630866e-02,   3.40630325e-01,\n",
        "         3.06152421e-02,   0.00000000e+00,   2.59522821e-01,\n",
        "         1.28444443e-01,   0.00000000e+00,   4.20152679e-03,\n",
        "         5.39856044e-02,   3.76260721e-02,   1.12599474e-03,\n",
        "         8.25206352e-02,   7.07276440e-02,   1.52040763e-17,\n",
        "         0.00000000e+00,   0.00000000e+00,   2.59752251e-01,\n",
        "         1.28557993e-01,   0.00000000e+00,   0.00000000e+00,\n",
        "         3.49802734e-01,   1.16995433e-02,   0.00000000e+00,\n",
        "         8.03999237e-02,   6.89100025e-02,   1.48133442e-17,\n",
        "         0.00000000e+00,   2.80535555e-01,   3.60582434e-02,\n",
        "         1.71099867e-17,   0.00000000e+00,   0.00000000e+00,\n",
        "         3.40813095e-01,   1.13988748e-02,   0.00000000e+00,\n",
        "         2.52696714e-02,   1.56614632e-01,   0.00000000e+00,\n",
        "         0.00000000e+00]), array([[ 0.        ,  0.        ,  0.        , ...,  0.        ,\n",
        "         0.        ,  0.        ],\n",
        "       [ 0.        ,  0.08838835,  0.        , ...,  0.        ,\n",
        "         0.        ,  0.        ],\n",
        "       [ 0.        ,  0.        ,  0.08838835, ...,  0.        ,\n",
        "         0.        ,  0.        ],\n",
        "       ..., \n",
        "       [ 0.        ,  0.        ,  0.        , ...,  0.        ,\n",
        "         0.        ,  0.        ],\n",
        "       [ 0.        ,  0.        ,  0.        , ...,  0.        ,\n",
        "         0.        ,  0.        ],\n",
        "       [ 0.        ,  0.        ,  0.        , ...,  0.        ,\n",
        "         0.        ,  0.        ]]))\n"
       ]
      }
     ],
     "prompt_number": 131
    },
    {
     "cell_type": "markdown",
     "metadata": {},
     "source": [
      "# Zkoumani Dat"
     ]
    },
    {
     "cell_type": "code",
     "collapsed": false,
     "input": [
      "positives = [config[\"frames_positives_path\"]+imgname for imgname in os.listdir(config[\"frames_positives_path\"]) if imgname.endswith('.pklz')]\n",
      "negatives = [config[\"frames_negatives_path\"]+imgname for imgname in os.listdir(config[\"frames_negatives_path\"]) if imgname.endswith('.pklz')]\n",
      "\n",
      "positives = [config[\"frames_positives_path\"]+imgname for imgname in os.listdir(config[\"frames_positives_path\"]) if (imgname.endswith('.pklz') and not ('AFFINE' in imgname))]\n",
      "negatives = [config[\"frames_negatives_path\"]+imgname for imgname in os.listdir(config[\"frames_negatives_path\"]) if (imgname.endswith('.pklz') and not ('AFFINE' in imgname))]\n",
      "\n",
      "indexes = range(min(len(positives), len(negatives))//1)\n",
      "\n",
      "to_draw = 0\n",
      "    \n",
      "each_index = 1\n",
      "\n",
      "print len(positives), len(negatives)\n",
      "positive_feature_vects = list()\n",
      "negative_feature_vects = list()\n",
      "\n",
      "for p in indexes:\n",
      "    if p % each_index == 0:\n",
      "        positive = positives[p]\n",
      "        positive_feature_vects.append(show_hogs(positive, hog, to_draw=False)[0])\n",
      "\n",
      "for n in indexes:\n",
      "    if n % each_index == 0:\n",
      "        negative = negatives[n]\n",
      "        negative_feature_vects.append(show_hogs(negative, hog, to_draw=False)[0])\n",
      "        "
     ],
     "language": "python",
     "metadata": {},
     "outputs": [
      {
       "output_type": "stream",
       "stream": "stdout",
       "text": [
        "1131 1125\n"
       ]
      }
     ],
     "prompt_number": 136
    },
    {
     "cell_type": "code",
     "collapsed": false,
     "input": [
      "pca, feature_vects = reduce_dimension(positive_feature_vects, \n",
      "                                      negative_feature_vects,\n",
      "                                      fv_len=2, \n",
      "                                      new_pca=True)\n",
      "\n",
      "pos = feature_vects[:len(positive_feature_vects)]\n",
      "neg = feature_vects[len(positive_feature_vects):]"
     ],
     "language": "python",
     "metadata": {},
     "outputs": [
      {
       "output_type": "stream",
       "stream": "stdout",
       "text": [
        "(2250, 400) (2250, 1) 400\n"
       ]
      }
     ],
     "prompt_number": 142
    },
    {
     "cell_type": "code",
     "collapsed": false,
     "input": [
      "visualize_data(pos, neg,\n",
      "               draw_all=True, each_data=50, n_features=-1, var_scale=1)"
     ],
     "language": "python",
     "metadata": {},
     "outputs": [],
     "prompt_number": 138
    },
    {
     "cell_type": "code",
     "collapsed": false,
     "input": [
      "visualize_feature_pairs(pos, neg,\n",
      "                        features=(0, 1), n_features=-1,\n",
      "                        var_scale=1, draw_all=False, each_data=1)"
     ],
     "language": "python",
     "metadata": {},
     "outputs": [
      {
       "output_type": "stream",
       "stream": "stdout",
       "text": [
        "(1125,)\n",
        "(1125, 2)\n"
       ]
      }
     ],
     "prompt_number": 143
    },
    {
     "cell_type": "code",
     "collapsed": false,
     "input": [
      "print len(positive_feature_vects)"
     ],
     "language": "python",
     "metadata": {},
     "outputs": [
      {
       "ename": "NameError",
       "evalue": "name 'positive_feature_vects' is not defined",
       "output_type": "pyerr",
       "traceback": [
        "\u001b[1;31m---------------------------------------------------------------------------\u001b[0m\n\u001b[1;31mNameError\u001b[0m                                 Traceback (most recent call last)",
        "\u001b[1;32m<ipython-input-7-8c916c3c9b74>\u001b[0m in \u001b[0;36m<module>\u001b[1;34m()\u001b[0m\n\u001b[1;32m----> 1\u001b[1;33m \u001b[1;32mprint\u001b[0m \u001b[0mlen\u001b[0m\u001b[1;33m(\u001b[0m\u001b[0mpositive_feature_vects\u001b[0m\u001b[1;33m)\u001b[0m\u001b[1;33m\u001b[0m\u001b[0m\n\u001b[0m",
        "\u001b[1;31mNameError\u001b[0m: name 'positive_feature_vects' is not defined"
       ]
      }
     ],
     "prompt_number": 7
    },
    {
     "cell_type": "code",
     "collapsed": false,
     "input": [
      "import sklearn\n",
      "print sklearn.__version__"
     ],
     "language": "python",
     "metadata": {},
     "outputs": [
      {
       "output_type": "stream",
       "stream": "stdout",
       "text": [
        "0.16.1\n"
       ]
      }
     ],
     "prompt_number": 8
    },
    {
     "cell_type": "code",
     "collapsed": false,
     "input": [
      "fig = plt.figure()\n",
      "\n",
      "gs = GridSpec(2, 2)\n",
      "ax1 = plt.subplot(gs[0, -1])\n",
      "# identical to ax1 = plt.subplot(gs.new_subplotspec((0, 0), colspan=3))\n",
      "ax2 = plt.subplot(gs[0, :1])\n",
      "ax3 = plt.subplot(gs[1, :])\n",
      "ax3.grid()\n",
      "\n",
      "plt.show()"
     ],
     "language": "python",
     "metadata": {},
     "outputs": [
      {
       "ename": "NameError",
       "evalue": "name 'plt' is not defined",
       "output_type": "pyerr",
       "traceback": [
        "\u001b[1;31m---------------------------------------------------------------------------\u001b[0m\n\u001b[1;31mNameError\u001b[0m                                 Traceback (most recent call last)",
        "\u001b[1;32m<ipython-input-9-de7a815af3ca>\u001b[0m in \u001b[0;36m<module>\u001b[1;34m()\u001b[0m\n\u001b[1;32m----> 1\u001b[1;33m \u001b[0mfig\u001b[0m \u001b[1;33m=\u001b[0m \u001b[0mplt\u001b[0m\u001b[1;33m.\u001b[0m\u001b[0mfigure\u001b[0m\u001b[1;33m(\u001b[0m\u001b[1;33m)\u001b[0m\u001b[1;33m\u001b[0m\u001b[0m\n\u001b[0m\u001b[0;32m      2\u001b[0m \u001b[1;33m\u001b[0m\u001b[0m\n\u001b[0;32m      3\u001b[0m \u001b[0mgs\u001b[0m \u001b[1;33m=\u001b[0m \u001b[0mGridSpec\u001b[0m\u001b[1;33m(\u001b[0m\u001b[1;36m2\u001b[0m\u001b[1;33m,\u001b[0m \u001b[1;36m2\u001b[0m\u001b[1;33m)\u001b[0m\u001b[1;33m\u001b[0m\u001b[0m\n\u001b[0;32m      4\u001b[0m \u001b[0max1\u001b[0m \u001b[1;33m=\u001b[0m \u001b[0mplt\u001b[0m\u001b[1;33m.\u001b[0m\u001b[0msubplot\u001b[0m\u001b[1;33m(\u001b[0m\u001b[0mgs\u001b[0m\u001b[1;33m[\u001b[0m\u001b[1;36m0\u001b[0m\u001b[1;33m,\u001b[0m \u001b[1;33m-\u001b[0m\u001b[1;36m1\u001b[0m\u001b[1;33m]\u001b[0m\u001b[1;33m)\u001b[0m\u001b[1;33m\u001b[0m\u001b[0m\n\u001b[0;32m      5\u001b[0m \u001b[1;31m# identical to ax1 = plt.subplot(gs.new_subplotspec((0, 0), colspan=3))\u001b[0m\u001b[1;33m\u001b[0m\u001b[1;33m\u001b[0m\u001b[0m\n",
        "\u001b[1;31mNameError\u001b[0m: name 'plt' is not defined"
       ]
      }
     ],
     "prompt_number": 9
    },
    {
     "cell_type": "code",
     "collapsed": false,
     "input": [
      "print str(range(20))"
     ],
     "language": "python",
     "metadata": {},
     "outputs": [
      {
       "output_type": "stream",
       "stream": "stdout",
       "text": [
        "[0, 1, 2, 3, 4, 5, 6, 7, 8, 9, 10, 11, 12, 13, 14, 15, 16, 17, 18, 19]\n"
       ]
      }
     ],
     "prompt_number": 1
    },
    {
     "cell_type": "code",
     "collapsed": false,
     "input": [
      "camera = data.camera()"
     ],
     "language": "python",
     "metadata": {},
     "outputs": [],
     "prompt_number": 78
    },
    {
     "cell_type": "code",
     "collapsed": false,
     "input": [
      "orientations=16\n",
      "pixels_per_cell=(8, 8)\n",
      "cells_per_block=(1, 1)\n",
      "\n",
      "hist, hog_img = hogg(camera, orientations=orientations, pixels_per_cell=pixels_per_cell,\n",
      "                     cells_per_block=cells_per_block, visualise=True)\n",
      "\n",
      "\n",
      "#hist[hist<0] = 0\n",
      "\n",
      "print fd[0:20]"
     ],
     "language": "python",
     "metadata": {},
     "outputs": [
      {
       "ename": "NameError",
       "evalue": "name 'hogg' is not defined",
       "output_type": "pyerr",
       "traceback": [
        "\u001b[1;31m---------------------------------------------------------------------------\u001b[0m\n\u001b[1;31mNameError\u001b[0m                                 Traceback (most recent call last)",
        "\u001b[1;32m<ipython-input-2-7553b40ec403>\u001b[0m in \u001b[0;36m<module>\u001b[1;34m()\u001b[0m\n\u001b[0;32m      3\u001b[0m \u001b[0mcells_per_block\u001b[0m\u001b[1;33m=\u001b[0m\u001b[1;33m(\u001b[0m\u001b[1;36m1\u001b[0m\u001b[1;33m,\u001b[0m \u001b[1;36m1\u001b[0m\u001b[1;33m)\u001b[0m\u001b[1;33m\u001b[0m\u001b[0m\n\u001b[0;32m      4\u001b[0m \u001b[1;33m\u001b[0m\u001b[0m\n\u001b[1;32m----> 5\u001b[1;33m hist, hog_img = hogg(camera, orientations=orientations, pixels_per_cell=pixels_per_cell,\n\u001b[0m\u001b[0;32m      6\u001b[0m                      cells_per_block=cells_per_block, visualise=True)\n\u001b[0;32m      7\u001b[0m \u001b[1;33m\u001b[0m\u001b[0m\n",
        "\u001b[1;31mNameError\u001b[0m: name 'hogg' is not defined"
       ]
      }
     ],
     "prompt_number": 2
    },
    {
     "cell_type": "code",
     "collapsed": false,
     "input": [
      "print fd[0:20], fd.shape\n",
      "print hist[0:20], hist.shape\n",
      "print np.array_equal(fd, hist)"
     ],
     "language": "python",
     "metadata": {},
     "outputs": [
      {
       "ename": "NameError",
       "evalue": "name 'fd' is not defined",
       "output_type": "pyerr",
       "traceback": [
        "\u001b[1;31m---------------------------------------------------------------------------\u001b[0m\n\u001b[1;31mNameError\u001b[0m                                 Traceback (most recent call last)",
        "\u001b[1;32m<ipython-input-3-66883f73fa94>\u001b[0m in \u001b[0;36m<module>\u001b[1;34m()\u001b[0m\n\u001b[1;32m----> 1\u001b[1;33m \u001b[1;32mprint\u001b[0m \u001b[0mfd\u001b[0m\u001b[1;33m[\u001b[0m\u001b[1;36m0\u001b[0m\u001b[1;33m:\u001b[0m\u001b[1;36m20\u001b[0m\u001b[1;33m]\u001b[0m\u001b[1;33m,\u001b[0m \u001b[0mfd\u001b[0m\u001b[1;33m.\u001b[0m\u001b[0mshape\u001b[0m\u001b[1;33m\u001b[0m\u001b[0m\n\u001b[0m\u001b[0;32m      2\u001b[0m \u001b[1;32mprint\u001b[0m \u001b[0mhist\u001b[0m\u001b[1;33m[\u001b[0m\u001b[1;36m0\u001b[0m\u001b[1;33m:\u001b[0m\u001b[1;36m20\u001b[0m\u001b[1;33m]\u001b[0m\u001b[1;33m,\u001b[0m \u001b[0mhist\u001b[0m\u001b[1;33m.\u001b[0m\u001b[0mshape\u001b[0m\u001b[1;33m\u001b[0m\u001b[0m\n\u001b[0;32m      3\u001b[0m \u001b[1;32mprint\u001b[0m \u001b[0mnp\u001b[0m\u001b[1;33m.\u001b[0m\u001b[0marray_equal\u001b[0m\u001b[1;33m(\u001b[0m\u001b[0mfd\u001b[0m\u001b[1;33m,\u001b[0m \u001b[0mhist\u001b[0m\u001b[1;33m)\u001b[0m\u001b[1;33m\u001b[0m\u001b[0m\n",
        "\u001b[1;31mNameError\u001b[0m: name 'fd' is not defined"
       ]
      }
     ],
     "prompt_number": 3
    },
    {
     "cell_type": "code",
     "collapsed": false,
     "input": [
      "print np.histogram(hog_img)"
     ],
     "language": "python",
     "metadata": {},
     "outputs": [
      {
       "ename": "NameError",
       "evalue": "name 'np' is not defined",
       "output_type": "pyerr",
       "traceback": [
        "\u001b[1;31m---------------------------------------------------------------------------\u001b[0m\n\u001b[1;31mNameError\u001b[0m                                 Traceback (most recent call last)",
        "\u001b[1;32m<ipython-input-4-d4df9981be0c>\u001b[0m in \u001b[0;36m<module>\u001b[1;34m()\u001b[0m\n\u001b[1;32m----> 1\u001b[1;33m \u001b[1;32mprint\u001b[0m \u001b[0mnp\u001b[0m\u001b[1;33m.\u001b[0m\u001b[0mhistogram\u001b[0m\u001b[1;33m(\u001b[0m\u001b[0mhog_img\u001b[0m\u001b[1;33m)\u001b[0m\u001b[1;33m\u001b[0m\u001b[0m\n\u001b[0m",
        "\u001b[1;31mNameError\u001b[0m: name 'np' is not defined"
       ]
      }
     ],
     "prompt_number": 4
    },
    {
     "cell_type": "code",
     "collapsed": false,
     "input": [
      "import imtools\n",
      "print imtools.__version__"
     ],
     "language": "python",
     "metadata": {},
     "outputs": [
      {
       "output_type": "stream",
       "stream": "stdout",
       "text": [
        "0.1.11\n"
       ]
      }
     ],
     "prompt_number": 2
    },
    {
     "cell_type": "code",
     "collapsed": false,
     "input": [
      "import numpy as np\n"
     ],
     "language": "python",
     "metadata": {},
     "outputs": [],
     "prompt_number": 6
    },
    {
     "cell_type": "markdown",
     "metadata": {},
     "source": [
      "# Barveni okoli\n",
      "\n",
      "negativni staci testovat pouze na HNM"
     ]
    },
    {
     "cell_type": "code",
     "collapsed": false,
     "input": [
      "import file_manager as fm\n",
      "import re"
     ],
     "language": "python",
     "metadata": {},
     "outputs": [],
     "prompt_number": 5
    },
    {
     "cell_type": "code",
     "collapsed": false,
     "input": [
      "def get_orig_image(imgname, config):\n",
      "    \n",
      "    maskname = fm.get_maskname(imgname, config)\n",
      "    orig_imgname = re.sub('masks', 'orig_images', maskname)\n",
      "    return dr.load_image(orig_imgname)\n",
      "\n",
      "    \n",
      "def color_background(imgname, to_draw=False):\n",
      "    \n",
      "    x, h, y, w = fm.get_bb_from_imgname(imgname)\n",
      "    \n",
      "    #print fm.get_maskname(imgname, config)\n",
      "    mask = fm.get_mask(imgname, config)\n",
      "    #img = get_orig_image(imgname, config)\n",
      "    \n",
      "    frame = dr.load_image(imgname)\n",
      "    mask_frame = mask[x:h, y:w]\n",
      "    \n",
      "    #show_image_in_new_figure(img)\n",
      "    #show_image_in_new_figure(mask)\n",
      "    \"\"\"\n",
      "    show_image_in_new_figure(frame)\n",
      "    show_image_in_new_figure(mask_frame)\"\"\"\n",
      "    \n",
      "    # obarveni pozadi\n",
      "    liver = np.mean(frame[mask_frame==2])\n",
      "    if to_draw: \n",
      "        show_hogs2(frame)\n",
      "    frame[mask_frame==0] = liver\n",
      "    blur = cv2.GaussianBlur(frame,(3,3), 0)\n",
      "    blur[mask_frame>=1] = frame[mask_frame>=1]\n",
      "    \n",
      "    hist, hog_img = show_hogs2(blur, to_draw=to_draw)\n",
      "    if to_draw: \n",
      "        show_image_in_new_figure(blur)\n",
      "        \n",
      "    return hist\n",
      "     \n",
      "    "
     ],
     "language": "python",
     "metadata": {},
     "outputs": [],
     "prompt_number": 6
    },
    {
     "cell_type": "code",
     "collapsed": false,
     "input": [
      "pos_path = \"datasets/PNG/interesting/positives/\"\n",
      "hnm_path = \"datasets/PNG/interesting/HNM/\"\n",
      "\n",
      "pos_path = \"datasets/PNG/datasets/frames/positives/\"\n",
      "hnm_path = \"datasets/PNG/datasets/frames/HNM/\"\n",
      "\n",
      "positives = [pos_path + imgname for imgname in os.listdir(pos_path) if imgname.endswith('.png') and not ('AFFINE' in imgname)]\n",
      "negatives = [hnm_path + imgname for imgname in os.listdir(hnm_path) if imgname.endswith('.png') and not ('AFFINE' in imgname)]\n",
      "\n",
      "orientations=4\n",
      "pixels_per_cell=(8, 8)\n",
      "cells_per_block=(2, 2)\n",
      "\n",
      "P = list()\n",
      "N = list()\n",
      "\n",
      "for positive in positives[:]:\n",
      "    try:\n",
      "        P.append(color_background(positive))\n",
      "    except:\n",
      "        print fm.get_maskname(positive, config)\n",
      "        print positive\n",
      "        print fm.get_bb_from_imgname(positive)\n",
      "        P.append(color_background(positive))\n",
      "\n",
      "for negative in negatives[:]:\n",
      "    try:\n",
      "        N.append(color_background(negative))\n",
      "    except:\n",
      "        pass\n"
     ],
     "language": "python",
     "metadata": {},
     "outputs": [
      {
       "output_type": "stream",
       "stream": "stdout",
       "text": [
        "datasets/processed/masks/180_arterial-GT002.pklz\n",
        "datasets/PNG/datasets/frames/positives/180_arterial-GT002_bb=77-149-27-88_0.png\n",
        "[77, 149, 27, 88]\n"
       ]
      },
      {
       "ename": "IndexError",
       "evalue": "index 67 is out of bounds for axis 0 with size 54",
       "output_type": "pyerr",
       "traceback": [
        "\u001b[1;31m---------------------------------------------------------------------------\u001b[0m\n\u001b[1;31mIndexError\u001b[0m                                Traceback (most recent call last)",
        "\u001b[1;32m<ipython-input-12-8050cce98248>\u001b[0m in \u001b[0;36m<module>\u001b[1;34m()\u001b[0m\n\u001b[0;32m     22\u001b[0m         \u001b[1;32mprint\u001b[0m \u001b[0mpositive\u001b[0m\u001b[1;33m\u001b[0m\u001b[0m\n\u001b[0;32m     23\u001b[0m         \u001b[1;32mprint\u001b[0m \u001b[0mfm\u001b[0m\u001b[1;33m.\u001b[0m\u001b[0mget_bb_from_imgname\u001b[0m\u001b[1;33m(\u001b[0m\u001b[0mpositive\u001b[0m\u001b[1;33m)\u001b[0m\u001b[1;33m\u001b[0m\u001b[0m\n\u001b[1;32m---> 24\u001b[1;33m         \u001b[0mP\u001b[0m\u001b[1;33m.\u001b[0m\u001b[0mappend\u001b[0m\u001b[1;33m(\u001b[0m\u001b[0mcolor_background\u001b[0m\u001b[1;33m(\u001b[0m\u001b[0mpositive\u001b[0m\u001b[1;33m)\u001b[0m\u001b[1;33m)\u001b[0m\u001b[1;33m\u001b[0m\u001b[0m\n\u001b[0m\u001b[0;32m     25\u001b[0m \u001b[1;33m\u001b[0m\u001b[0m\n\u001b[0;32m     26\u001b[0m \u001b[1;32mfor\u001b[0m \u001b[0mnegative\u001b[0m \u001b[1;32min\u001b[0m \u001b[0mnegatives\u001b[0m\u001b[1;33m[\u001b[0m\u001b[1;33m:\u001b[0m\u001b[1;33m]\u001b[0m\u001b[1;33m:\u001b[0m\u001b[1;33m\u001b[0m\u001b[0m\n",
        "\u001b[1;32m<ipython-input-6-55650aceed0d>\u001b[0m in \u001b[0;36mcolor_background\u001b[1;34m(imgname, to_draw)\u001b[0m\n\u001b[0;32m     24\u001b[0m \u001b[1;33m\u001b[0m\u001b[0m\n\u001b[0;32m     25\u001b[0m     \u001b[1;31m# obarveni pozadi\u001b[0m\u001b[1;33m\u001b[0m\u001b[1;33m\u001b[0m\u001b[0m\n\u001b[1;32m---> 26\u001b[1;33m     \u001b[0mliver\u001b[0m \u001b[1;33m=\u001b[0m \u001b[0mnp\u001b[0m\u001b[1;33m.\u001b[0m\u001b[0mmean\u001b[0m\u001b[1;33m(\u001b[0m\u001b[0mframe\u001b[0m\u001b[1;33m[\u001b[0m\u001b[0mmask_frame\u001b[0m\u001b[1;33m==\u001b[0m\u001b[1;36m2\u001b[0m\u001b[1;33m]\u001b[0m\u001b[1;33m)\u001b[0m\u001b[1;33m\u001b[0m\u001b[0m\n\u001b[0m\u001b[0;32m     27\u001b[0m     \u001b[1;32mif\u001b[0m \u001b[0mto_draw\u001b[0m\u001b[1;33m:\u001b[0m\u001b[1;33m\u001b[0m\u001b[0m\n\u001b[0;32m     28\u001b[0m         \u001b[0mshow_hogs2\u001b[0m\u001b[1;33m(\u001b[0m\u001b[0mframe\u001b[0m\u001b[1;33m)\u001b[0m\u001b[1;33m\u001b[0m\u001b[0m\n",
        "\u001b[1;31mIndexError\u001b[0m: index 67 is out of bounds for axis 0 with size 54"
       ]
      }
     ],
     "prompt_number": 12
    },
    {
     "cell_type": "code",
     "collapsed": false,
     "input": [
      "pca, feature_vects = reduce_dimension(P, \n",
      "                                      N,\n",
      "                                      fv_len=2, \n",
      "                                      new_pca=True)\n",
      "\n",
      "pos = feature_vects[:len(P)]\n",
      "neg = feature_vects[len(N):]\n",
      "print len(positives), len(P)\n",
      "print len(negatives), len(N)"
     ],
     "language": "python",
     "metadata": {},
     "outputs": [
      {
       "output_type": "stream",
       "stream": "stdout",
       "text": [
        " (3559, 400) (3559, 1) 400\n",
        "1131"
       ]
      },
      {
       "output_type": "stream",
       "stream": "stdout",
       "text": [
        " 567\n",
        "2992 2992\n"
       ]
      }
     ],
     "prompt_number": 16
    },
    {
     "cell_type": "code",
     "collapsed": false,
     "input": [
      "visualize_feature_pairs(pos, neg,\n",
      "                        features=(0, 1), n_features=-1,\n",
      "                        var_scale=1, draw_all=False, each_data=1)"
     ],
     "language": "python",
     "metadata": {},
     "outputs": [
      {
       "output_type": "stream",
       "stream": "stdout",
       "text": [
        "(567,)\n",
        "(567, 2)\n"
       ]
      }
     ],
     "prompt_number": 14
    },
    {
     "cell_type": "code",
     "collapsed": false,
     "input": [
      "def show_hogs2(img, to_draw=True):\n",
      "\n",
      "    roi = preprocess_image(img)\n",
      "    \n",
      "    # extrakce vektoru priznaku\n",
      "    feature_vect, hog_img = skimHOG(roi)\n",
      "    #feature_vect, hog_img = extract_single_feature_vect(roi)[0]\n",
      "    \n",
      "    #show_image_in_new_figure(roi)\n",
      "    #show_plot_in_new_figure(feature_vect)\n",
      "    if to_draw: draw_hogs(roi, hog_img, feature_vect, rescale=False)\n",
      "    \n",
      "    return feature_vect, hog_img"
     ],
     "language": "python",
     "metadata": {},
     "outputs": [],
     "prompt_number": 8
    },
    {
     "cell_type": "code",
     "collapsed": false,
     "input": [
      "masks = [config[\"masks_path\"]+name for name in os.listdir(config[\"masks_path\"]) if (name.endswith('.pklz'))]\n",
      "print masks[0:2]"
     ],
     "language": "python",
     "metadata": {},
     "outputs": [
      {
       "output_type": "stream",
       "stream": "stdout",
       "text": [
        "[u'datasets/processed/masks/00_copy_of_180_arterial-GT010.pklz', u'datasets/processed/masks/180_arterial-GT000.pklz']\n"
       ]
      }
     ],
     "prompt_number": 10
    },
    {
     "cell_type": "code",
     "collapsed": false,
     "input": [],
     "language": "python",
     "metadata": {},
     "outputs": []
    }
   ],
   "metadata": {}
  }
 ]
}