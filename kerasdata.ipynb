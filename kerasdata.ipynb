{
 "cells": [
  {
   "cell_type": "code",
   "execution_count": 3,
   "metadata": {},
   "outputs": [
    {
     "name": "stderr",
     "output_type": "stream",
     "text": [
      "Using TensorFlow backend.\n"
     ]
    }
   ],
   "source": [
    "import keras\n",
    "import h5py\n",
    "import numpy as np\n",
    "from random import shuffle\n",
    "import glob\n",
    "import skimage.io\n",
    "import re"
   ]
  },
  {
   "cell_type": "markdown",
   "metadata": {},
   "source": [
    "# Real data"
   ]
  },
  {
   "cell_type": "markdown",
   "metadata": {},
   "source": [
    "### Metody"
   ]
  },
  {
   "cell_type": "code",
   "execution_count": 4,
   "metadata": {},
   "outputs": [],
   "source": [
    "def get_imagename(path):\n",
    "    \"\"\" Vrati jmeno obrazku bez pripony a cesty \"\"\"\n",
    "    dot = re.findall('[^\\/]*\\.', path)\n",
    "    mesh = re.findall('[^\\/]*\\#', path)\n",
    "    return dot[0][:-1] if len(mesh)==0 else mesh[0][:-1]\n",
    "\n",
    "def get_unique_name(path):\n",
    "    \"\"\" Vrati jmeno obrazku bez pripony a cesty \"\"\"\n",
    "    mesh = re.findall(r'.*GT\\d{3}', path)[0]\n",
    "    return mesh\n",
    "\n",
    "def get_maskname(imgname):\n",
    "    \"\"\" Vrati jmeno obrazku bez pripony a cesty \"\"\"\n",
    "    mesh = re.sub(r'Slices', 'Masks', imagname)\n",
    "    return mesh\n",
    "\n",
    "def merge_imgnames(addrs, addrs_un):\n",
    "\n",
    "    k = 0\n",
    "\n",
    "    train_names = list()\n",
    "    val_names = list()\n",
    "    test_names = list()\n",
    "\n",
    "    for i, name in enumerate(addrs_un):\n",
    "        k += 1\n",
    "        if k <= 3:\n",
    "            train_names.append(name)\n",
    "        elif k == 4:\n",
    "            val_names.append(name)\n",
    "        elif k == 5:\n",
    "            test_names.append(name)\n",
    "            k=0\n",
    "    \n",
    "    print(len(train_names), len(val_names), len(test_names))\n",
    "    \n",
    "    train_addrs = list()\n",
    "    val_addrs = list()\n",
    "    test_addrs = list()\n",
    "    \n",
    "    for addr in addrs:\n",
    "        for name in addrs_un:\n",
    "            if addr.startswith(name):\n",
    "                if name in train_names:\n",
    "                    train_addrs.append(addr)\n",
    "                elif name in val_names:\n",
    "                    val_addrs.append(addr)\n",
    "                elif name in test_names:\n",
    "                    test_addrs.append(addr)\n",
    "                    \n",
    "    print(len(train_addrs), len(val_addrs), len(test_addrs))\n",
    "        \n",
    "    return train_addrs, val_addrs, test_addrs\n",
    "    \n",
    "    "
   ]
  },
  {
   "cell_type": "code",
   "execution_count": 6,
   "metadata": {},
   "outputs": [
    {
     "name": "stdout",
     "output_type": "stream",
     "text": [
      "28350 28350\n"
     ]
    }
   ],
   "source": [
    "hdf_path = \"datasets/processed/aug-ge+int_structured_data-liver_only.hdf5\"\n",
    "data_path = 'CTs/kerasdata/Slices/*.png'\n",
    "masks_path = 'CTs/kerasdata/Masks/*.png'\n",
    "\n",
    "data_addrs = glob.glob(data_path)\n",
    "masks_addrs = glob.glob(masks_path)\n",
    "\n",
    "# bez augmentace\n",
    "data_addrs = [a for a in data_addrs]# if \"rot=0_shear=0\" in a]\n",
    "masks_addrs = [a for a in masks_addrs]# if \"rot=0_shear=0\" in a]\n",
    "\n",
    "print(len(data_addrs), len(masks_addrs))"
   ]
  },
  {
   "cell_type": "markdown",
   "metadata": {},
   "source": [
    "#### Strukturovane"
   ]
  },
  {
   "cell_type": "code",
   "execution_count": 7,
   "metadata": {},
   "outputs": [
    {
     "name": "stdout",
     "output_type": "stream",
     "text": [
      "378 126 126\n",
      "17010 5670 5670\n",
      "378 126 126\n",
      "17010 5670 5670\n"
     ]
    }
   ],
   "source": [
    "data_addrs_un = list(set([get_unique_name(a) for a in data_addrs]))\n",
    "masks_addrs_un = [re.sub(\"Slices\", \"Masks\", a) for a in data_addrs_un]\n",
    "\n",
    "# Rozdeleni do datasetu podle rezu\n",
    "train_data_addrs, val_data_addrs, test_data_addrs = merge_imgnames(data_addrs, data_addrs_un)\n",
    "train_label_addrs, val_label_addrs, test_label_addrs = merge_imgnames(masks_addrs, masks_addrs_un)\n",
    "\n",
    "# --- Shufflovani ---\n",
    "# trenovaci\n",
    "a = list(zip(train_data_addrs, train_label_addrs))\n",
    "shuffle(a)\n",
    "train_data_addrs, train_label_addrs = zip(*a)\n",
    "# validacni\n",
    "b = list(zip(val_data_addrs, val_label_addrs))\n",
    "shuffle(b)\n",
    "val_data_addrs, val_label_addrs = zip(*b)\n",
    "# testovaci\n",
    "c = list(zip(test_data_addrs, test_label_addrs))\n",
    "shuffle(c)\n",
    "test_data_addrs, test_label_addrs = zip(*c)"
   ]
  },
  {
   "cell_type": "markdown",
   "metadata": {},
   "source": [
    "#### Ulozeni do databaze"
   ]
  },
  {
   "cell_type": "code",
   "execution_count": 8,
   "metadata": {},
   "outputs": [
    {
     "name": "stdout",
     "output_type": "stream",
     "text": [
      "(17010, 240, 232, 1) (5670, 240, 232, 1) (5670, 240, 232, 1)\n"
     ]
    },
    {
     "data": {
      "text/plain": [
       "<HDF5 dataset \"test_labels\": shape (5670, 240, 232, 3), type \"|i1\">"
      ]
     },
     "execution_count": 8,
     "metadata": {},
     "output_type": "execute_result"
    }
   ],
   "source": [
    "train_shape = (len(train_data_addrs), 240, 232, 1)\n",
    "val_shape = (len(val_data_addrs), 240, 232, 1)\n",
    "test_shape = (len(test_data_addrs), 240, 232, 1)\n",
    "\n",
    "n_classes = 3\n",
    "train_label_shape = (len(train_data_addrs), 240, 232, n_classes)\n",
    "val_label_shape = (len(val_data_addrs), 240, 232, n_classes)\n",
    "test_label_shape = (len(test_data_addrs), 240, 232, n_classes)\n",
    "\n",
    "print(train_shape, val_shape, test_shape)\n",
    "\n",
    "# otevreni souboru\n",
    "hdf5_file = h5py.File(hdf_path, mode='w')\n",
    "\n",
    "# data\n",
    "hdf5_file.create_dataset(\"train_data\", train_shape, np.uint8)\n",
    "hdf5_file.create_dataset(\"val_data\", val_shape, np.uint8)\n",
    "hdf5_file.create_dataset(\"test_data\", test_shape, np.uint8)\n",
    "\n",
    "# anotace\n",
    "hdf5_file.create_dataset(\"train_labels\", train_label_shape, np.int8)\n",
    "hdf5_file.create_dataset(\"val_labels\", val_label_shape, np.int8)\n",
    "hdf5_file.create_dataset(\"test_labels\", test_label_shape, np.int8)"
   ]
  },
  {
   "cell_type": "code",
   "execution_count": 32,
   "metadata": {},
   "outputs": [],
   "source": [
    "hdf5_file.close()"
   ]
  },
  {
   "cell_type": "code",
   "execution_count": 9,
   "metadata": {},
   "outputs": [
    {
     "name": "stdout",
     "output_type": "stream",
     "text": [
      "Train data: 1000/17010\n",
      "Train data: 2000/17010\n",
      "Train data: 3000/17010\n",
      "Train data: 4000/17010\n",
      "Train data: 5000/17010\n",
      "Train data: 6000/17010\n",
      "Train data: 7000/17010\n",
      "Train data: 8000/17010\n",
      "Train data: 9000/17010\n",
      "Train data: 10000/17010\n",
      "Train data: 11000/17010\n",
      "Train data: 12000/17010\n",
      "Train data: 13000/17010\n",
      "Train data: 14000/17010\n",
      "Train data: 15000/17010\n",
      "Train data: 16000/17010\n",
      "Train data: 17000/17010\n",
      "Validation data: 1000/5670\n",
      "Validation data: 2000/5670\n",
      "Validation data: 3000/5670\n",
      "Validation data: 4000/5670\n",
      "Validation data: 5000/5670\n",
      "Test data: 1000/5670\n",
      "Test data: 2000/5670\n",
      "Test data: 3000/5670\n",
      "Test data: 4000/5670\n",
      "Test data: 5000/5670\n",
      "Hotovo -> Ulozeno\n"
     ]
    }
   ],
   "source": [
    "for i in range(len(train_data_addrs)):\n",
    "    # progress\n",
    "    if i % 1000 == 0 and i > 1:\n",
    "        print('Trenovaci data: {}/{}'.format(i, len(train_data_addrs)))\n",
    "    # CT rez\n",
    "    addr = train_data_addrs[i]\n",
    "    img = skimage.io.imread(addr)\n",
    "    input_img = np.zeros((img.shape[0], img.shape[1], 1))\n",
    "    input_img[:, : ,0] = img\n",
    "    hdf5_file[\"train_data\"][i, ...] = input_img\n",
    "    # anotace\n",
    "    addr = train_label_addrs[i]\n",
    "    mask = skimage.io.imread(addr)\n",
    "    input_mask = np.zeros((mask.shape[0], mask.shape[1], n_classes))\n",
    "    for j in range(n_classes):\n",
    "        input_mask[:, : ,j][mask==j] = 1\n",
    "    hdf5_file[\"train_labels\"][i, ...] = input_mask\n",
    "    \n",
    "for i in range(len(val_data_addrs)):\n",
    "    # progress\n",
    "    if i % 1000 == 0 and i > 1:\n",
    "        print('Validacni data: {}/{}'.format(i, len(val_data_addrs)))\n",
    "    # CT rez\n",
    "    addr = val_data_addrs[i]\n",
    "    img = skimage.io.imread(addr)\n",
    "    input_img = np.zeros((img.shape[0], img.shape[1], 1))\n",
    "    input_img[:, : ,0] = img\n",
    "    hdf5_file[\"val_data\"][i, ...] = input_img\n",
    "    # anotace\n",
    "    addr = val_label_addrs[i]\n",
    "    mask = skimage.io.imread(addr)\n",
    "    mask = skimage.io.imread(addr)\n",
    "    input_mask = np.zeros((mask.shape[0], mask.shape[1], n_classes))\n",
    "    for j in range(n_classes):\n",
    "        input_mask[:, : ,j][mask==j] = 1\n",
    "    hdf5_file[\"val_labels\"][i, ...] = input_mask\n",
    "    \n",
    "for i in range(len(test_data_addrs)):\n",
    "    # progress\n",
    "    if i % 1000 == 0 and i > 1:\n",
    "        print('Testovaci data: {}/{}'.format(i, len(test_data_addrs)))\n",
    "    # CT rez\n",
    "    addr = test_data_addrs[i]\n",
    "    img = skimage.io.imread(addr)\n",
    "    input_img = np.zeros((img.shape[0], img.shape[1], 1))\n",
    "    input_img[:, : ,0] = img\n",
    "    hdf5_file[\"test_data\"][i, ...] = input_img\n",
    "    # anotace\n",
    "    addr = test_label_addrs[i]\n",
    "    mask = skimage.io.imread(addr)\n",
    "    mask = skimage.io.imread(addr)\n",
    "    input_mask = np.zeros((mask.shape[0], mask.shape[1], n_classes))\n",
    "    for j in range(n_classes):\n",
    "        input_mask[:, : ,j][mask==j] = 1\n",
    "    hdf5_file[\"test_labels\"][i, ...] = input_mask\n",
    "\n",
    "hdf5_file.close()\n",
    "print(\"Hotovo -> Ulozeno\")"
   ]
  },
  {
   "cell_type": "markdown",
   "metadata": {},
   "source": [
    "# Jen leze"
   ]
  },
  {
   "cell_type": "code",
   "execution_count": 19,
   "metadata": {},
   "outputs": [],
   "source": [
    "for i in range(len(train_data_addrs)):\n",
    "    if i % 1000 == 0 and i > 1:\n",
    "        print('Trenovaci data: {}/{}'.format(i, len(train_data_addrs)))\n",
    "    # CT rez\n",
    "    addr = train_data_addrs[i]\n",
    "    img = skimage.io.imread(addr)\n",
    "    input_img = np.zeros((img.shape[0], img.shape[1], 1))\n",
    "    input_img[:, : ,0] = img\n",
    "    hdf5_file[\"train_data\"][i, ...] = input_img\n",
    "    # anotace\n",
    "    addr = train_label_addrs[i]\n",
    "    mask = skimage.io.imread(addr)\n",
    "    input_mask = np.zeros((mask.shape[0], mask.shape[1], 2))\n",
    "    input_mask[:, : ,1][mask==1] = 1\n",
    "    input_mask[:, : ,0][mask!=1] = 1\n",
    "    hdf5_file[\"train_labels\"][i, ...] = input_mask\n",
    "    \n",
    "for i in range(len(val_data_addrs)):\n",
    "    if i % 1000 == 0 and i > 1:\n",
    "        print('Validacni data: {}/{}'.format(i, len(val_data_addrs)))\n",
    "    # CT rez\n",
    "    addr = val_data_addrs[i]\n",
    "    img = skimage.io.imread(addr)\n",
    "    input_img = np.zeros((img.shape[0], img.shape[1], 1))\n",
    "    input_img[:, : ,0] = img\n",
    "    hdf5_file[\"val_data\"][i, ...] = input_img\n",
    "    # anotace\n",
    "    addr = val_label_addrs[i]\n",
    "    mask = skimage.io.imread(addr)\n",
    "    mask = skimage.io.imread(addr)\n",
    "    input_mask = np.zeros((mask.shape[0], mask.shape[1], n_classes))\n",
    "    input_mask[:, : ,1][mask==1] = 1\n",
    "    input_mask[:, : ,0][mask!=1] = 1\n",
    "    hdf5_file[\"val_labels\"][i, ...] = input_mask\n",
    "    \n",
    "for i in range(len(test_data_addrs)):\n",
    "    if i % 1000 == 0 and i > 1:\n",
    "        print('Testovaci data: {}/{}'.format(i, len(test_data_addrs)))\n",
    "    # CT rez\n",
    "    addr = test_data_addrs[i]\n",
    "    img = skimage.io.imread(addr)\n",
    "    input_img = np.zeros((img.shape[0], img.shape[1], 1))\n",
    "    input_img[:, : ,0] = img\n",
    "    hdf5_file[\"test_data\"][i, ...] = input_img\n",
    "    # anotace\n",
    "    addr = test_label_addrs[i]\n",
    "    mask = skimage.io.imread(addr)\n",
    "    mask = skimage.io.imread(addr)\n",
    "    input_mask = np.zeros((mask.shape[0], mask.shape[1], n_classes))\n",
    "    input_mask[:, : ,1][mask==1] = 1\n",
    "    input_mask[:, : ,0][mask!=1] = 1\n",
    "    hdf5_file[\"test_labels\"][i, ...] = input_mask\n",
    "\n",
    "hdf5_file.close()"
   ]
  },
  {
   "cell_type": "markdown",
   "metadata": {},
   "source": [
    "# Testovani rozdeleni dat"
   ]
  },
  {
   "cell_type": "code",
   "execution_count": 20,
   "metadata": {},
   "outputs": [],
   "source": [
    "data_addrs_un = list(set([get_unique_name(a) for a in data_addrs]))\n",
    "masks_addrs_un = list(set([get_unique_name(a) for a in masks_addrs]))"
   ]
  },
  {
   "cell_type": "code",
   "execution_count": 16,
   "metadata": {},
   "outputs": [
    {
     "name": "stdout",
     "output_type": "stream",
     "text": [
      "CTs/kerasdata/Slices\\180_arterial-GT000_rot=0_shear=0.png\n",
      "CTs/kerasdata/Slices\\180_arterial-GT000\n"
     ]
    }
   ],
   "source": [
    "d = data_addrs[0]\n",
    "print(d)\n",
    "print(get_unique_name(d))\n",
    "\n"
   ]
  },
  {
   "cell_type": "code",
   "execution_count": 21,
   "metadata": {},
   "outputs": [
    {
     "name": "stdout",
     "output_type": "stream",
     "text": [
      "630\n"
     ]
    }
   ],
   "source": [
    "print(len(data_addrs_un))"
   ]
  },
  {
   "cell_type": "code",
   "execution_count": 60,
   "metadata": {},
   "outputs": [
    {
     "name": "stdout",
     "output_type": "stream",
     "text": [
      "CTs/kerasdata/Slices\\222a_venous-GT010_rot=3_shear=1.png\n",
      "CTs/kerasdata/Masks\\222a_venous-GT010_rot=3_shear=1.png\n"
     ]
    }
   ],
   "source": [
    "print(train_data_addrs[1209])\n",
    "print(train_label_addrs[1209])"
   ]
  },
  {
   "cell_type": "markdown",
   "metadata": {},
   "source": [
    "#### Jen test, jestli to rozdělení do T/V/T funguje"
   ]
  },
  {
   "cell_type": "code",
   "execution_count": 10,
   "metadata": {},
   "outputs": [
    {
     "name": "stdout",
     "output_type": "stream",
     "text": [
      "378\n"
     ]
    }
   ],
   "source": [
    "n = 0\n",
    "for addr in train_data_addrs:\n",
    "    if re.sub(\"Slices\", \"Masks\", addr) in train_label_addrs:\n",
    "        n += 1\n",
    "print(n)"
   ]
  },
  {
   "cell_type": "code",
   "execution_count": null,
   "metadata": {},
   "outputs": [],
   "source": []
  }
 ],
 "metadata": {
  "kernelspec": {
   "display_name": "Python 3",
   "language": "python",
   "name": "python3"
  },
  "language_info": {
   "codemirror_mode": {
    "name": "ipython",
    "version": 3
   },
   "file_extension": ".py",
   "mimetype": "text/x-python",
   "name": "python",
   "nbconvert_exporter": "python",
   "pygments_lexer": "ipython3",
   "version": "3.6.3"
  }
 },
 "nbformat": 4,
 "nbformat_minor": 1
}
