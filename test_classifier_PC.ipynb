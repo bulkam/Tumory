{
 "metadata": {
  "name": "",
  "signature": "sha256:a3d06a3e0da240d6472197375370d514088892141288ee157ab5d6d04d3b357a"
 },
 "nbformat": 3,
 "nbformat_minor": 0,
 "worksheets": [
  {
   "cells": [
    {
     "cell_type": "code",
     "collapsed": false,
     "input": [
      "import classifier as clas\n",
      "import copy\n",
      "import numpy as np\n",
      "import os"
     ],
     "language": "python",
     "metadata": {},
     "outputs": []
    },
    {
     "cell_type": "code",
     "collapsed": false,
     "input": [
      "svm = clas.Classifier()\n",
      "svm.create_training_data()\n",
      "#svm.train()"
     ],
     "language": "python",
     "metadata": {},
     "outputs": []
    },
    {
     "cell_type": "code",
     "collapsed": false,
     "input": [
      "scorings = ['accuracy', \n",
      "            'average_precision',\n",
      "            'f1', 'f1_macro', 'f1_micro', 'f1_weighted',\n",
      "            'neg_log_loss',          \n",
      "            'precision', \n",
      "            'precision_macro',\n",
      "            'precision_micro',\n",
      "            'precision_weighted', \n",
      "            'recall', 'recall_macro', 'recall_micro', 'recall_weighted',\n",
      "            'roc_auc'\n",
      "            ]\n",
      "\n",
      "clustering = ['adjusted_mutual_info_score',\n",
      "              'adjusted_rand_score',\n",
      "              'completeness_score',\n",
      "              'fowlkes_mallows_score',\n",
      "              'homogeneity_score',\n",
      "              'mutual_info_score',\n",
      "              'normalized_mutual_info_score',\n",
      "              'neg_log_loss',\n",
      "              'v_measure_score']\n",
      "\n",
      "regression = ['explained_variance',\n",
      "              'neg_mean_absolute_error',\n",
      "              'neg_mean_squared_error',\n",
      "              'neg_mean_squared_log_error',\n",
      "              'neg_median_absolute_error',\n",
      "              'r2']\n",
      "\n",
      "multilabel_only = ['f1_samples', 'precision_samples', 'recall_samples']\n",
      "#scorings=['accuracy', 'average_precision']\n",
      "scorings = [\"accuracy\", \"precision\", \"recall\", \"f1\"]"
     ],
     "language": "python",
     "metadata": {},
     "outputs": []
    },
    {
     "cell_type": "code",
     "collapsed": false,
     "input": [
      "#svm.evaluate(mode=\"train\", cv_scorings=scorings)\n",
      "#svm.extractor.n_negative_patches *= 3\n",
      "svm.cross_validation(cv_scorings=scorings, extract_new_features=bool(0))\n",
      "#svm.evaluate_test(to_train=False)"
     ],
     "language": "python",
     "metadata": {},
     "outputs": []
    },
    {
     "cell_type": "code",
     "collapsed": false,
     "input": [
      "print svm.test_classifier.predict(svm.data)\n",
      "print svm.labels\n",
      "\n",
      "TP = 7.0\n",
      "FP = 5.0\n",
      "FN = 2.0\n",
      "print TP / (TP+FP) \n",
      "print TP / (TP+FN) \n",
      "\n",
      "print 1 - float( np.sum(svm.test_classifier.predict(svm.data) != svm.labels)) / len(svm.data)\n",
      "#print cross_val_score(svm.test_classifier, svm.data, svm.labels)\n",
      "\n",
      "print svm.test_classifier.score(svm.data, svm.labels)\n"
     ],
     "language": "python",
     "metadata": {},
     "outputs": []
    },
    {
     "cell_type": "code",
     "collapsed": false,
     "input": [
      "a = np.zeros(9)\n",
      "print a\n",
      "print a.reshape(1,-1)"
     ],
     "language": "python",
     "metadata": {},
     "outputs": []
    },
    {
     "cell_type": "code",
     "collapsed": false,
     "input": [
      "svm.dataset.create_dataset_CT()"
     ],
     "language": "python",
     "metadata": {},
     "outputs": []
    },
    {
     "cell_type": "code",
     "collapsed": false,
     "input": [
      "svm.extractor.extract_feature_vects(multiple_rois=False, \n",
      "                                     save_features=False,\n",
      "                                     mode=\"transform\")\n",
      "svm.create_training_data()\n",
      "print \"\""
     ],
     "language": "python",
     "metadata": {},
     "outputs": []
    },
    {
     "cell_type": "code",
     "collapsed": false,
     "input": [
      "svm.create_training_data(features=svm.extractor.features)"
     ],
     "language": "python",
     "metadata": {},
     "outputs": []
    },
    {
     "cell_type": "code",
     "collapsed": false,
     "input": [
      "svm.store_results()"
     ],
     "language": "python",
     "metadata": {},
     "outputs": []
    },
    {
     "cell_type": "code",
     "collapsed": false,
     "input": [
      "print len(svm.dataset.orig_images)\n",
      "print svm.extractor.n_negatives\n",
      "print svm.extractor.n_negative_patches\n",
      "print len(svm.extractor.features)"
     ],
     "language": "python",
     "metadata": {},
     "outputs": []
    },
    {
     "cell_type": "code",
     "collapsed": false,
     "input": [
      "svm.extractor.features = {}"
     ],
     "language": "python",
     "metadata": {},
     "outputs": []
    },
    {
     "cell_type": "code",
     "collapsed": false,
     "input": [
      "from sklearn.svm import SVC\n",
      "clf = SVC(kernel=\"linear\", C = 0.1, probability=True, random_state=42)\n",
      "#clas.cross_val_score(clf, svm.data, svm.labels)"
     ],
     "language": "python",
     "metadata": {},
     "outputs": []
    },
    {
     "cell_type": "code",
     "collapsed": false,
     "input": [
      "from sklearn.model_selection import cross_validate, cross_val_score"
     ],
     "language": "python",
     "metadata": {},
     "outputs": []
    },
    {
     "cell_type": "code",
     "collapsed": false,
     "input": [
      "print cross_validate(clf, svm.data, svm.labels, scoring=scorings)#, return_train_score=False)\n",
      "print cross_val_score(clf, svm.data, svm.labels, scoring=\"accuracy\")\n",
      "print cross_val_score(clf, svm.data, svm.labels, scoring=\"precision\")\n",
      "print cross_val_score(clf, svm.data, svm.labels, scoring=\"recall\")\n",
      "print cross_val_score(clf, svm.data, svm.labels, scoring=\"f1\")"
     ],
     "language": "python",
     "metadata": {},
     "outputs": []
    },
    {
     "cell_type": "code",
     "collapsed": false,
     "input": [
      "clf.fit(svm.data, svm.labels)"
     ],
     "language": "python",
     "metadata": {},
     "outputs": []
    },
    {
     "cell_type": "code",
     "collapsed": false,
     "input": [
      "ypred, yref = clf.predict(svm.data), svm.labels\n",
      "print confusion_matrix(yref, ypred)\n",
      "print classification_report(ypred, yref)"
     ],
     "language": "python",
     "metadata": {},
     "outputs": []
    },
    {
     "cell_type": "code",
     "collapsed": false,
     "input": [
      "from sklearn.metrics import classification_report, f1_score, accuracy_score, confusion_matrix"
     ],
     "language": "python",
     "metadata": {},
     "outputs": []
    },
    {
     "cell_type": "code",
     "collapsed": false,
     "input": [
      "ypred, yref = svm.test_classifier.predict(svm.data), svm.labels\n",
      "print confusion_matrix(yref, ypred)\n"
     ],
     "language": "python",
     "metadata": {},
     "outputs": []
    },
    {
     "cell_type": "code",
     "collapsed": false,
     "input": [
      "ypred, yref = svm.test_classifier.predict(svm.data), svm.labels\n",
      "print accuracy_score(svm.test_classifier.predict(svm.data), svm.labels)\n",
      "a = classification_report(svm.test_classifier.predict(svm.data), svm.labels)"
     ],
     "language": "python",
     "metadata": {},
     "outputs": []
    },
    {
     "cell_type": "code",
     "collapsed": false,
     "input": [
      "print type(a)\n",
      "print a"
     ],
     "language": "python",
     "metadata": {},
     "outputs": []
    },
    {
     "cell_type": "code",
     "collapsed": false,
     "input": [
      "ypred, yref = clf.predict(svm.data), svm.labels\n",
      "print accuracy_score(clf.predict(svm.data), svm.labels)\n",
      "a = classification_report(clf.predict(svm.data), svm.labels)"
     ],
     "language": "python",
     "metadata": {},
     "outputs": []
    },
    {
     "cell_type": "code",
     "collapsed": false,
     "input": [
      "svm.test_classifier = copy.copy(clf)"
     ],
     "language": "python",
     "metadata": {},
     "outputs": []
    },
    {
     "cell_type": "code",
     "collapsed": false,
     "input": [
      "from sklearn.metrics import fbeta_score, make_scorer, precision_recall_fscore_support\n",
      "scorer = make_scorer(\"accuracy\")"
     ],
     "language": "python",
     "metadata": {},
     "outputs": []
    },
    {
     "cell_type": "code",
     "collapsed": false,
     "input": [
      "print precision_recall_fscore_support(ypred, yref)"
     ],
     "language": "python",
     "metadata": {},
     "outputs": []
    },
    {
     "cell_type": "code",
     "collapsed": false,
     "input": [
      "from sklearn.metrics import recall_score\n",
      "print recall_score(ypred, yref)"
     ],
     "language": "python",
     "metadata": {},
     "outputs": []
    },
    {
     "cell_type": "code",
     "collapsed": false,
     "input": [
      "print recall_score.__name__+\"__pll\""
     ],
     "language": "python",
     "metadata": {},
     "outputs": []
    },
    {
     "cell_type": "code",
     "collapsed": false,
     "input": [
      "print svm.data.shape"
     ],
     "language": "python",
     "metadata": {},
     "outputs": []
    },
    {
     "cell_type": "code",
     "collapsed": false,
     "input": [
      "ypred, yref = clf.predict(svm.data), svm.labels\n",
      "print accuracy_score(clf.predict(svm.data), svm.labels)\n",
      "print classification_report(clf.predict(svm.data), svm.labels)"
     ],
     "language": "python",
     "metadata": {},
     "outputs": []
    },
    {
     "cell_type": "markdown",
     "metadata": {},
     "source": [
      "# Prohlizeni evaluation"
     ]
    },
    {
     "cell_type": "code",
     "collapsed": false,
     "input": [
      "import os\n",
      "import data_reader as dr\n",
      "import file_manager as fm\n",
      "import copy\n",
      "import numpy as np\n",
      "import os\n",
      "import re\n",
      "\n",
      "eval_path = \"extractor_test_results/HoG/evaluation/\"\n",
      "eval_path = \"extractor_test_results/2017-10-09__13-31-19-696000-classic/evaluation/\"\n",
      "#eval_path = \"extractor_test_results/HoG/evaluation-classic/\"\n",
      "evals = [eval_path + imgname for imgname in os.listdir(eval_path) if imgname.endswith('.json') and not ('AFFINE' in imgname)]"
     ],
     "language": "python",
     "metadata": {},
     "outputs": [],
     "prompt_number": 15
    },
    {
     "cell_type": "code",
     "collapsed": false,
     "input": [
      "scores = list()\n",
      "\n",
      "for eval_file in evals:\n",
      "    scores.append(dr.load_json(eval_file))\n",
      "    scores[-1][\"name\"] = fm.get_imagename(eval_file)\n",
      "    "
     ],
     "language": "python",
     "metadata": {},
     "outputs": [],
     "prompt_number": 16
    },
    {
     "cell_type": "code",
     "collapsed": false,
     "input": [
      "best = dict()\n",
      "test_keys = [key for key in scores[0].keys() if \"test\" in key]\n",
      "\n",
      "for key in test_keys:\n",
      "    best[key] = list()\n",
      "    sorted_scores = sorted(scores, key=lambda k: np.mean(k[key]))[::-1]\n",
      "    for score in sorted_scores:\n",
      "        best[key].append((score[\"name\"], np.mean(score[key])))"
     ],
     "language": "python",
     "metadata": {},
     "outputs": [],
     "prompt_number": 17
    },
    {
     "cell_type": "code",
     "collapsed": false,
     "input": [
      "def print_best(mode=\"best\", n_best=5):\n",
      "    scorings = test_keys\n",
      "    if n_best == -1:\n",
      "        n_best = len(best[scorings[0]])+1\n",
      "        \n",
      "    for scoring in scorings:\n",
      "        if mode == \"worst\":\n",
      "            print \"Nejhorsi podle \"+scoring+\": \"\n",
      "            for each in best[scoring][::-1][:n_best]:\n",
      "                print each\n",
      "        else:\n",
      "            print \"Nejlepsi podle \"+scoring+\": \"\n",
      "            for each in best[scoring][:n_best]:\n",
      "                print each"
     ],
     "language": "python",
     "metadata": {},
     "outputs": [],
     "prompt_number": 18
    },
    {
     "cell_type": "code",
     "collapsed": false,
     "input": [
      "print_best(mode=\"wors\", n_best=-1)"
     ],
     "language": "python",
     "metadata": {},
     "outputs": [
      {
       "output_type": "stream",
       "stream": "stdout",
       "text": [
        "Nejlepsi podle test_f1: \n",
        "('extracted_features_CV_ori=20_ppc=10_cpb=3_colored', 0.78944724449718906)\n",
        "('extracted_features_CV_ori=16_ppc=10_cpb=3_colored', 0.7856826541586458)\n",
        "('extracted_features_CV_ori=20_ppc=10_cpb=4_colored', 0.78298356407283654)\n",
        "('extracted_features_CV_ori=16_ppc=10_cpb=4_colored', 0.77930460284647463)\n",
        "('extracted_features_CV_ori=20_ppc=8_cpb=3_colored', 0.7778320977482327)\n",
        "('extracted_features_CV_ori=20_ppc=8_cpb=4_colored', 0.77741993104351048)\n",
        "('extracted_features_CV_ori=16_ppc=6_cpb=4_colored', 0.77623467106993438)\n",
        "('extracted_features_CV_ori=16_ppc=8_cpb=3_colored', 0.77566675911236604)\n",
        "('extracted_features_CV_ori=20_ppc=6_cpb=3_colored', 0.77460150939647943)\n",
        "('extracted_features_CV_ori=20_ppc=4_cpb=4_colored', 0.77400211204228253)\n",
        "('extracted_features_CV_ori=16_ppc=8_cpb=4_colored', 0.77248077089274914)\n",
        "('extracted_features_CV_ori=16_ppc=6_cpb=3_colored', 0.77150971206942109)\n",
        "('extracted_features_CV_ori=16_ppc=4_cpb=4_colored', 0.77098033936502119)\n",
        "('extracted_features_CV_ori=20_ppc=6_cpb=4_colored', 0.77066183252234188)\n",
        "('extracted_features_CV_ori=20_ppc=8_cpb=2_colored', 0.76787897998243348)\n",
        "('extracted_features_CV_ori=20_ppc=6_cpb=1_colored', 0.76755129964139834)\n",
        "('extracted_features_CV_ori=16_ppc=10_cpb=2_colored', 0.76728868155654195)\n",
        "('extracted_features_CV_ori=20_ppc=10_cpb=2_colored', 0.76721367043947686)\n",
        "('extracted_features_CV_ori=16_ppc=8_cpb=2_colored', 0.76469193337206243)\n",
        "('extracted_features_CV_ori=12_ppc=4_cpb=4_colored', 0.76209716209716205)\n",
        "('extracted_features_CV_ori=16_ppc=6_cpb=1_colored', 0.7607931777626501)\n",
        "('extracted_features_CV_ori=12_ppc=10_cpb=2_colored', 0.75984351293031571)\n",
        "('extracted_features_CV_ori=8_ppc=6_cpb=4_colored', 0.75890529084516778)\n",
        "('extracted_features_CV_ori=16_ppc=4_cpb=3_colored', 0.75848783843703005)\n",
        "('extracted_features_CV_ori=12_ppc=8_cpb=2_colored', 0.7559220719465265)\n",
        "('extracted_features_CV_ori=8_ppc=10_cpb=2_colored', 0.75495994356307472)\n",
        "('extracted_features_CV_ori=8_ppc=8_cpb=2_colored', 0.75222798951714986)\n",
        "('extracted_features_CV_ori=12_ppc=6_cpb=3_colored', 0.75138886805878435)\n",
        "('extracted_features_CV_ori=20_ppc=4_cpb=3_colored', 0.75050934538045888)\n",
        "('extracted_features_CV_ori=20_ppc=4_cpb=1_colored', 0.74869879799276473)\n",
        "('extracted_features_CV_ori=16_ppc=4_cpb=1_colored', 0.74640750455000315)\n",
        "('extracted_features_CV_ori=12_ppc=8_cpb=3_colored', 0.74516653133001454)\n",
        "('extracted_features_CV_ori=16_ppc=6_cpb=2_colored', 0.74121099194429574)\n",
        "('extracted_features_CV_ori=12_ppc=4_cpb=3_colored', 0.739782977169547)\n",
        "('extracted_features_CV_ori=8_ppc=6_cpb=3_colored', 0.73702104485159692)\n",
        "('extracted_features_CV_ori=12_ppc=6_cpb=2_colored', 0.73664578090782673)\n",
        "('extracted_features_CV_ori=8_ppc=4_cpb=4_colored', 0.73599106227164057)\n",
        "('extracted_features_CV_ori=20_ppc=8_cpb=1_colored', 0.73176182923486299)\n",
        "('extracted_features_CV_ori=12_ppc=10_cpb=3_colored', 0.7308895856993326)\n",
        "('extracted_features_CV_ori=8_ppc=8_cpb=3_colored', 0.72869969398951795)\n",
        "('extracted_features_CV_ori=16_ppc=8_cpb=1_colored', 0.72855779877404758)\n",
        "('extracted_features_CV_ori=8_ppc=10_cpb=1_colored', 0.72817903594746747)\n",
        "('extracted_features_CV_ori=8_ppc=6_cpb=2_colored', 0.72537998356010858)\n",
        "('extracted_features_CV_ori=12_ppc=10_cpb=1_colored', 0.72523905675267419)\n",
        "('extracted_features_CV_ori=20_ppc=6_cpb=2_colored', 0.72388724734023135)\n",
        "('extracted_features_CV_ori=12_ppc=6_cpb=1_colored', 0.72049523060977061)\n",
        "('extracted_features_CV_ori=16_ppc=10_cpb=1_colored', 0.72044199429773981)\n",
        "('extracted_features_CV_ori=12_ppc=4_cpb=1_colored', 0.7173588624739704)\n",
        "('extracted_features_CV_ori=20_ppc=4_cpb=2_colored', 0.71638247183657844)\n",
        "('extracted_features_CV_ori=8_ppc=4_cpb=2_colored', 0.71605662699900963)\n",
        "('extracted_features_CV_ori=12_ppc=6_cpb=4_colored', 0.7149280574061887)\n",
        "('extracted_features_CV_ori=20_ppc=10_cpb=1_colored', 0.71239160703691606)\n",
        "('extracted_features_CV_ori=16_ppc=4_cpb=2_colored', 0.71221516182127165)\n",
        "('extracted_features_CV_ori=8_ppc=6_cpb=1_colored', 0.70861037877965904)\n",
        "('extracted_features_CV_ori=12_ppc=4_cpb=2_colored', 0.70189453377652544)\n",
        "('extracted_features_CV_ori=8_ppc=4_cpb=3_colored', 0.70059618487192254)\n",
        "('extracted_features_CV_ori=8_ppc=8_cpb=1_colored', 0.70016166932312107)\n",
        "('extracted_features_CV_ori=8_ppc=4_cpb=1_colored', 0.6994827206691614)\n",
        "('extracted_features_CV_ori=12_ppc=8_cpb=1_colored', 0.69914832216717782)\n",
        "('extracted_features_CV_ori=8_ppc=10_cpb=3_colored', 0.69303781377706308)\n",
        "('extracted_features_CV_ori=12_ppc=10_cpb=4_colored', 0.67349925204685379)\n",
        "('extracted_features_CV_ori=12_ppc=8_cpb=4_colored', 0.65470185988959784)\n",
        "('extracted_features_CV_ori=8_ppc=10_cpb=4_colored', 0.60105995860185801)\n",
        "('extracted_features_CV_ori=8_ppc=8_cpb=4_colored', 0.58246312894200214)\n",
        "Nejlepsi podle test_recall: \n",
        "('extracted_features_CV_ori=20_ppc=10_cpb=3_colored', 0.83506166101386559)\n",
        "('extracted_features_CV_ori=20_ppc=10_cpb=4_colored', 0.82770652216287866)\n",
        "('extracted_features_CV_ori=16_ppc=10_cpb=3_colored', 0.82185879692799502)\n",
        "('extracted_features_CV_ori=16_ppc=10_cpb=4_colored', 0.81744051563941633)\n",
        "('extracted_features_CV_ori=20_ppc=8_cpb=3_colored', 0.80998791470118137)\n",
        "('extracted_features_CV_ori=16_ppc=8_cpb=3_colored', 0.80853248086494356)\n",
        "('extracted_features_CV_ori=20_ppc=8_cpb=4_colored', 0.80263277585019432)\n",
        "('extracted_features_CV_ori=20_ppc=4_cpb=4_colored', 0.8015204678362573)\n",
        "('extracted_features_CV_ori=16_ppc=10_cpb=2_colored', 0.79384169558041917)\n",
        "('extracted_features_CV_ori=16_ppc=4_cpb=4_colored', 0.7925730994152046)\n",
        "('extracted_features_CV_ori=16_ppc=8_cpb=4_colored', 0.79088534560056134)\n",
        "('extracted_features_CV_ori=20_ppc=10_cpb=2_colored', 0.78794199056566994)\n",
        "('extracted_features_CV_ori=20_ppc=8_cpb=2_colored', 0.78495965069587925)\n",
        "('extracted_features_CV_ori=16_ppc=8_cpb=2_colored', 0.7820422855509207)\n",
        "('extracted_features_CV_ori=16_ppc=6_cpb=3_colored', 0.77938208352740268)\n",
        "('extracted_features_CV_ori=16_ppc=6_cpb=4_colored', 0.77648398281840292)\n",
        "('extracted_features_CV_ori=20_ppc=6_cpb=3_colored', 0.77640635512084055)\n",
        "('extracted_features_CV_ori=20_ppc=6_cpb=4_colored', 0.77353413031102836)\n",
        "('extracted_features_CV_ori=16_ppc=4_cpb=3_colored', 0.75875899187496765)\n",
        "('extracted_features_CV_ori=20_ppc=4_cpb=3_colored', 0.75719298245614031)\n",
        "('extracted_features_CV_ori=20_ppc=6_cpb=1_colored', 0.7436617155926345)\n",
        "('extracted_features_CV_ori=12_ppc=10_cpb=2_colored', 0.73934089639130374)\n",
        "('extracted_features_CV_ori=16_ppc=6_cpb=1_colored', 0.73336322170675616)\n",
        "('extracted_features_CV_ori=12_ppc=8_cpb=2_colored', 0.73197276259535038)\n",
        "('extracted_features_CV_ori=8_ppc=8_cpb=2_colored', 0.72752199394435557)\n",
        "('extracted_features_CV_ori=20_ppc=4_cpb=1_colored', 0.72743102932959081)\n",
        "('extracted_features_CV_ori=16_ppc=6_cpb=2_colored', 0.72603407274570186)\n",
        "('extracted_features_CV_ori=12_ppc=4_cpb=4_colored', 0.72351601718159697)\n",
        "('extracted_features_CV_ori=8_ppc=10_cpb=2_colored', 0.72312970254570974)\n",
        "('extracted_features_CV_ori=16_ppc=8_cpb=1_colored', 0.72305823034839456)\n",
        "('extracted_features_CV_ori=16_ppc=4_cpb=1_colored', 0.72303873793094475)\n",
        "('extracted_features_CV_ori=8_ppc=6_cpb=4_colored', 0.72165477629202235)\n",
        "('extracted_features_CV_ori=16_ppc=10_cpb=1_colored', 0.72162228892960634)\n",
        "('extracted_features_CV_ori=20_ppc=8_cpb=1_colored', 0.72159629903967348)\n",
        "('extracted_features_CV_ori=12_ppc=6_cpb=3_colored', 0.71179423484966098)\n",
        "('extracted_features_CV_ori=20_ppc=6_cpb=2_colored', 0.71166485535372359)\n",
        "('extracted_features_CV_ori=12_ppc=10_cpb=1_colored', 0.71128481020882883)\n",
        "('extracted_features_CV_ori=20_ppc=10_cpb=1_colored', 0.70982287890010787)\n",
        "('extracted_features_CV_ori=12_ppc=8_cpb=3_colored', 0.70694449859004849)\n",
        "('extracted_features_CV_ori=8_ppc=10_cpb=1_colored', 0.70686003144776688)\n",
        "('extracted_features_CV_ori=20_ppc=4_cpb=2_colored', 0.70571339854059933)\n",
        "('extracted_features_CV_ori=12_ppc=6_cpb=2_colored', 0.69954387743167912)\n",
        "('extracted_features_CV_ori=12_ppc=4_cpb=3_colored', 0.6969414687160379)\n",
        "('extracted_features_CV_ori=16_ppc=4_cpb=2_colored', 0.69686384101847543)\n",
        "('extracted_features_CV_ori=8_ppc=6_cpb=3_colored', 0.6966200148142373)\n",
        "('extracted_features_CV_ori=12_ppc=6_cpb=1_colored', 0.69655504008940528)\n",
        "('extracted_features_CV_ori=12_ppc=4_cpb=1_colored', 0.6861915714786947)\n",
        "('extracted_features_CV_ori=8_ppc=6_cpb=1_colored', 0.68474263511494027)\n",
        "('extracted_features_CV_ori=12_ppc=8_cpb=1_colored', 0.67888191493509031)\n",
        "('extracted_features_CV_ori=8_ppc=8_cpb=1_colored', 0.67886242251764062)\n",
        "('extracted_features_CV_ori=8_ppc=4_cpb=4_colored', 0.6764995083579155)\n",
        "('extracted_features_CV_ori=8_ppc=6_cpb=2_colored', 0.67597754473509797)\n",
        "('extracted_features_CV_ori=8_ppc=8_cpb=3_colored', 0.67308616948007227)\n",
        "('extracted_features_CV_ori=8_ppc=4_cpb=1_colored', 0.67149428872168715)\n",
        "('extracted_features_CV_ori=8_ppc=4_cpb=2_colored', 0.67005834730289926)\n",
        "('extracted_features_CV_ori=12_ppc=10_cpb=3_colored', 0.66874585786129204)\n",
        "('extracted_features_CV_ori=12_ppc=4_cpb=2_colored', 0.65569528541116806)\n",
        "('extracted_features_CV_ori=8_ppc=4_cpb=3_colored', 0.63533095275060802)\n",
        "('extracted_features_CV_ori=12_ppc=6_cpb=4_colored', 0.63245872794079594)\n",
        "('extracted_features_CV_ori=8_ppc=10_cpb=3_colored', 0.60249762842254373)\n",
        "('extracted_features_CV_ori=12_ppc=10_cpb=4_colored', 0.57752134419710732)\n",
        "('extracted_features_CV_ori=12_ppc=8_cpb=4_colored', 0.54209712421867884)\n",
        "('extracted_features_CV_ori=8_ppc=10_cpb=4_colored', 0.46705781451015554)\n",
        "('extracted_features_CV_ori=8_ppc=8_cpb=4_colored', 0.44930022221355892)\n",
        "Nejlepsi podle test_accuracy: \n",
        "('extracted_features_CV_ori=20_ppc=10_cpb=3_colored', 0.77687354619053173)\n",
        "('extracted_features_CV_ori=16_ppc=6_cpb=4_colored', 0.77654867256637161)\n",
        "('extracted_features_CV_ori=16_ppc=10_cpb=3_colored', 0.77616207295362116)\n",
        "('extracted_features_CV_ori=20_ppc=6_cpb=3_colored', 0.77214976970449722)\n",
        "('extracted_features_CV_ori=20_ppc=6_cpb=1_colored', 0.77106480579054748)\n",
        "('extracted_features_CV_ori=20_ppc=8_cpb=4_colored', 0.76950541239457859)\n",
        "('extracted_features_CV_ori=12_ppc=4_cpb=4_colored', 0.76927754489468514)\n",
        "('extracted_features_CV_ori=20_ppc=6_cpb=4_colored', 0.76919991719712266)\n",
        "('extracted_features_CV_ori=20_ppc=8_cpb=3_colored', 0.76877119800397642)\n",
        "('extracted_features_CV_ori=20_ppc=10_cpb=4_colored', 0.76877119800397642)\n",
        "('extracted_features_CV_ori=8_ppc=6_cpb=4_colored', 0.76810195833820638)\n",
        "('extracted_features_CV_ori=16_ppc=8_cpb=4_colored', 0.76805647603082405)\n",
        "('extracted_features_CV_ori=16_ppc=10_cpb=4_colored', 0.76805322729458236)\n",
        "('extracted_features_CV_ori=16_ppc=6_cpb=3_colored', 0.76775086684262284)\n",
        "('extracted_features_CV_ori=16_ppc=8_cpb=3_colored', 0.76731576416773883)\n",
        "('extracted_features_CV_ori=20_ppc=4_cpb=4_colored', 0.76625730994152041)\n",
        "('extracted_features_CV_ori=16_ppc=4_cpb=4_colored', 0.7662280701754387)\n",
        "('extracted_features_CV_ori=16_ppc=6_cpb=1_colored', 0.76591880758385)\n",
        "('extracted_features_CV_ori=12_ppc=10_cpb=2_colored', 0.76441464270398818)\n",
        "('extracted_features_CV_ori=8_ppc=10_cpb=2_colored', 0.76293971645030079)\n",
        "('extracted_features_CV_ori=12_ppc=8_cpb=2_colored', 0.7622087507959403)\n",
        "('extracted_features_CV_ori=20_ppc=8_cpb=2_colored', 0.76216976596104125)\n",
        "('extracted_features_CV_ori=20_ppc=10_cpb=2_colored', 0.76070133717983701)\n",
        "('extracted_features_CV_ori=16_ppc=8_cpb=2_colored', 0.75997362026171811)\n",
        "('extracted_features_CV_ori=16_ppc=10_cpb=2_colored', 0.75924265460735774)\n",
        "('extracted_features_CV_ori=12_ppc=6_cpb=3_colored', 0.75901775086684264)\n",
        "('extracted_features_CV_ori=8_ppc=8_cpb=2_colored', 0.75777422582615361)\n",
        "('extracted_features_CV_ori=12_ppc=8_cpb=3_colored', 0.75777097708991192)\n",
        "('extracted_features_CV_ori=16_ppc=4_cpb=3_colored', 0.75743932101640532)\n",
        "('extracted_features_CV_ori=20_ppc=4_cpb=1_colored', 0.75410965134562657)\n",
        "('extracted_features_CV_ori=12_ppc=10_cpb=3_colored', 0.75338193442750778)\n",
        "('extracted_features_CV_ori=8_ppc=4_cpb=4_colored', 0.7531827356000621)\n",
        "('extracted_features_CV_ori=16_ppc=4_cpb=1_colored', 0.75117929125570149)\n",
        "('extracted_features_CV_ori=20_ppc=4_cpb=3_colored', 0.75084795321637421)\n",
        "('extracted_features_CV_ori=12_ppc=4_cpb=3_colored', 0.75009056564715626)\n",
        "('extracted_features_CV_ori=8_ppc=8_cpb=3_colored', 0.74821319506711881)\n",
        "('extracted_features_CV_ori=12_ppc=6_cpb=2_colored', 0.74675776123088122)\n",
        "('extracted_features_CV_ori=8_ppc=6_cpb=3_colored', 0.74675776123088111)\n",
        "('extracted_features_CV_ori=12_ppc=6_cpb=4_colored', 0.74574341458365678)\n",
        "('extracted_features_CV_ori=16_ppc=6_cpb=2_colored', 0.74526334255974425)\n",
        "('extracted_features_CV_ori=8_ppc=6_cpb=2_colored', 0.74013683677049624)\n",
        "('extracted_features_CV_ori=8_ppc=10_cpb=1_colored', 0.73568281938325997)\n",
        "('extracted_features_CV_ori=20_ppc=8_cpb=1_colored', 0.73567957064701828)\n",
        "('extracted_features_CV_ori=8_ppc=10_cpb=3_colored', 0.73424362922823017)\n",
        "('extracted_features_CV_ori=8_ppc=4_cpb=2_colored', 0.73202799111145767)\n",
        "('extracted_features_CV_ori=16_ppc=8_cpb=1_colored', 0.73124504567723159)\n",
        "('extracted_features_CV_ori=12_ppc=4_cpb=1_colored', 0.73051408002287122)\n",
        "('extracted_features_CV_ori=12_ppc=10_cpb=1_colored', 0.72977336815978588)\n",
        "('extracted_features_CV_ori=12_ppc=6_cpb=1_colored', 0.7283504216859642)\n",
        "('extracted_features_CV_ori=20_ppc=6_cpb=2_colored', 0.7265564353361279)\n",
        "('extracted_features_CV_ori=8_ppc=4_cpb=3_colored', 0.72372302437509706)\n",
        "('extracted_features_CV_ori=12_ppc=10_cpb=4_colored', 0.72247670656114771)\n",
        "('extracted_features_CV_ori=20_ppc=4_cpb=2_colored', 0.72211871862547217)\n",
        "('extracted_features_CV_ori=16_ppc=10_cpb=1_colored', 0.72168076618195531)\n",
        "('extracted_features_CV_ori=16_ppc=4_cpb=2_colored', 0.72063085442219121)\n",
        "('extracted_features_CV_ori=12_ppc=4_cpb=2_colored', 0.71920767996687884)\n",
        "('extracted_features_CV_ori=12_ppc=8_cpb=4_colored', 0.71802268917391132)\n",
        "('extracted_features_CV_ori=8_ppc=6_cpb=1_colored', 0.71727223110210137)\n",
        "('extracted_features_CV_ori=20_ppc=10_cpb=1_colored', 0.71357841799539978)\n",
        "('extracted_features_CV_ori=8_ppc=4_cpb=1_colored', 0.71211323795043724)\n",
        "('extracted_features_CV_ori=8_ppc=8_cpb=1_colored', 0.70988135615245662)\n",
        "('extracted_features_CV_ori=12_ppc=8_cpb=1_colored', 0.7076689667719257)\n",
        "('extracted_features_CV_ori=8_ppc=10_cpb=4_colored', 0.69890712512832509)\n",
        "('extracted_features_CV_ori=8_ppc=8_cpb=4_colored', 0.67972333762166526)\n",
        "Nejlepsi podle test_precision: \n",
        "('extracted_features_CV_ori=8_ppc=10_cpb=4_colored', 0.86658249158249168)\n",
        "('extracted_features_CV_ori=8_ppc=8_cpb=4_colored', 0.83468598154707008)\n",
        "('extracted_features_CV_ori=12_ppc=8_cpb=4_colored', 0.83228518827934028)\n",
        "('extracted_features_CV_ori=12_ppc=6_cpb=4_colored', 0.82315583781143131)\n",
        "('extracted_features_CV_ori=12_ppc=10_cpb=4_colored', 0.82169955896809566)\n",
        "('extracted_features_CV_ori=8_ppc=10_cpb=3_colored', 0.81927306441702363)\n",
        "('extracted_features_CV_ori=8_ppc=4_cpb=4_colored', 0.81332187969356118)\n",
        "('extracted_features_CV_ori=12_ppc=4_cpb=4_colored', 0.81279122400617732)\n",
        "('extracted_features_CV_ori=12_ppc=10_cpb=3_colored', 0.80756941263713478)\n",
        "('extracted_features_CV_ori=12_ppc=6_cpb=3_colored', 0.80564263322884011)\n",
        "('extracted_features_CV_ori=20_ppc=6_cpb=1_colored', 0.80414652923692831)\n",
        "('extracted_features_CV_ori=12_ppc=4_cpb=3_colored', 0.8030373710672265)\n",
        "('extracted_features_CV_ori=8_ppc=6_cpb=4_colored', 0.80226166124842246)\n",
        "('extracted_features_CV_ori=16_ppc=6_cpb=1_colored', 0.80042735042735036)\n",
        "('extracted_features_CV_ori=8_ppc=8_cpb=3_colored', 0.79466523693327817)\n",
        "('extracted_features_CV_ori=8_ppc=10_cpb=2_colored', 0.79142520544858097)\n",
        "('extracted_features_CV_ori=8_ppc=6_cpb=2_colored', 0.78850173752998332)\n",
        "('extracted_features_CV_ori=12_ppc=8_cpb=3_colored', 0.78790473599065802)\n",
        "('extracted_features_CV_ori=8_ppc=6_cpb=3_colored', 0.78785996936184655)\n",
        "('extracted_features_CV_ori=8_ppc=4_cpb=3_colored', 0.78647966010972825)\n",
        "('extracted_features_CV_ori=12_ppc=10_cpb=2_colored', 0.78262714033598735)\n",
        "('extracted_features_CV_ori=12_ppc=8_cpb=2_colored', 0.78252848125491514)\n",
        "('extracted_features_CV_ori=12_ppc=6_cpb=2_colored', 0.78250488213008185)\n",
        "('extracted_features_CV_ori=20_ppc=4_cpb=1_colored', 0.78216767084622496)\n",
        "('extracted_features_CV_ori=16_ppc=4_cpb=1_colored', 0.78137280065579906)\n",
        "('extracted_features_CV_ori=8_ppc=8_cpb=2_colored', 0.7812875858430216)\n",
        "('extracted_features_CV_ori=16_ppc=6_cpb=4_colored', 0.77646145314894233)\n",
        "('extracted_features_CV_ori=20_ppc=6_cpb=3_colored', 0.77605277816381424)\n",
        "('extracted_features_CV_ori=8_ppc=4_cpb=2_colored', 0.77503176253176254)\n",
        "('extracted_features_CV_ori=20_ppc=6_cpb=4_colored', 0.76834415584415583)\n",
        "('extracted_features_CV_ori=12_ppc=4_cpb=2_colored', 0.76611623948147078)\n",
        "('extracted_features_CV_ori=16_ppc=6_cpb=3_colored', 0.76551489229119352)\n",
        "('extracted_features_CV_ori=16_ppc=4_cpb=3_colored', 0.76026936026936021)\n",
        "('extracted_features_CV_ori=16_ppc=6_cpb=2_colored', 0.75973644991764067)\n",
        "('extracted_features_CV_ori=12_ppc=4_cpb=1_colored', 0.75936988072154643)\n",
        "('extracted_features_CV_ori=16_ppc=8_cpb=4_colored', 0.75510009489707419)\n",
        "('extracted_features_CV_ori=8_ppc=10_cpb=1_colored', 0.75488699049427044)\n",
        "('extracted_features_CV_ori=20_ppc=8_cpb=4_colored', 0.75390429676143966)\n",
        "('extracted_features_CV_ori=16_ppc=10_cpb=3_colored', 0.7530401143722143)\n",
        "('extracted_features_CV_ori=12_ppc=6_cpb=1_colored', 0.75249435511500151)\n",
        "('extracted_features_CV_ori=20_ppc=8_cpb=2_colored', 0.75202931534867223)\n",
        "('extracted_features_CV_ori=16_ppc=4_cpb=4_colored', 0.75125955915429599)\n",
        "('extracted_features_CV_ori=20_ppc=10_cpb=3_colored', 0.74865185439866255)\n",
        "('extracted_features_CV_ori=16_ppc=8_cpb=2_colored', 0.74849271402550099)\n",
        "('extracted_features_CV_ori=20_ppc=4_cpb=4_colored', 0.7484741277973278)\n",
        "('extracted_features_CV_ori=20_ppc=8_cpb=3_colored', 0.74824859396719068)\n",
        "('extracted_features_CV_ori=20_ppc=10_cpb=2_colored', 0.74756697459142563)\n",
        "('extracted_features_CV_ori=20_ppc=4_cpb=3_colored', 0.7465870946472456)\n",
        "('extracted_features_CV_ori=16_ppc=8_cpb=3_colored', 0.7458366679241798)\n",
        "('extracted_features_CV_ori=16_ppc=10_cpb=4_colored', 0.74545809626454773)\n",
        "('extracted_features_CV_ori=20_ppc=8_cpb=1_colored', 0.74516900009595111)\n",
        "('extracted_features_CV_ori=20_ppc=10_cpb=4_colored', 0.74405522618583253)\n",
        "('extracted_features_CV_ori=16_ppc=10_cpb=2_colored', 0.74248997754825907)\n",
        "('extracted_features_CV_ori=12_ppc=10_cpb=1_colored', 0.74217507407114935)\n",
        "('extracted_features_CV_ori=20_ppc=6_cpb=2_colored', 0.74074668705402658)\n",
        "('extracted_features_CV_ori=8_ppc=6_cpb=1_colored', 0.74069728901661669)\n",
        "('extracted_features_CV_ori=16_ppc=8_cpb=1_colored', 0.73665591988764734)\n",
        "('extracted_features_CV_ori=8_ppc=4_cpb=1_colored', 0.73526853923387536)\n",
        "('extracted_features_CV_ori=16_ppc=4_cpb=2_colored', 0.73361396340640228)\n",
        "('extracted_features_CV_ori=20_ppc=4_cpb=2_colored', 0.73221726190476188)\n",
        "('extracted_features_CV_ori=8_ppc=8_cpb=1_colored', 0.72591295109694121)\n",
        "('extracted_features_CV_ori=12_ppc=8_cpb=1_colored', 0.72246583636049122)\n",
        "('extracted_features_CV_ori=16_ppc=10_cpb=1_colored', 0.72087824739843143)\n",
        "('extracted_features_CV_ori=20_ppc=10_cpb=1_colored', 0.71671353857421705)\n"
       ]
      }
     ],
     "prompt_number": 19
    },
    {
     "cell_type": "code",
     "collapsed": false,
     "input": [
      "name = 'extracted_features_CV_ori=8_ppc=8_cpb=4_colored'\n",
      "ppc = re.findall(r'ppc\\=\\d+', name)[0]\n",
      "ppc = int(re.findall(r'\\d+', ppc)[0])\n",
      "\n",
      "ppcs = dict()\n",
      "cpbs = dict()\n",
      "oris = dict()\n",
      "\n",
      "keys = [\"test_accuracy\"]\n",
      "keys = [\"test_recall\"]\n",
      "#keys = [\"test_precision\"]\n",
      "#keys = best.keys()\n",
      "\n",
      "for scoring in keys:\n",
      "    for i, (name, value) in enumerate(best[scoring]):\n",
      "        \n",
      "        ppc = re.findall(r'ppc\\=\\d+', name)[0]\n",
      "        ppc = int(re.findall(r'\\d+', ppc)[0])\n",
      "        cpb = re.findall(r'cpb\\=\\d+', name)[0]\n",
      "        cpb = int(re.findall(r'\\d+', cpb)[0])\n",
      "        ori = re.findall(r'ori\\=\\d+', name)[0]\n",
      "        ori = int(re.findall(r'\\d+', ori)[0])\n",
      "        \n",
      "        #if not ori = 16:\n",
      "         #   continue\n",
      "        \n",
      "        if not ppcs.has_key(ppc):\n",
      "            ppcs[ppc] = 0\n",
      "        else:\n",
      "            ppcs[ppc] += i\n",
      "\n",
      "        if not cpbs.has_key(cpb):\n",
      "            cpbs[cpb] = 0\n",
      "        else:\n",
      "            cpbs[cpb] += i  \n",
      "\n",
      "        if not oris.has_key(ori):\n",
      "            oris[ori] = 0\n",
      "        else:\n",
      "            oris[ori] += i\n",
      "            \n",
      "print len(best[best.keys()[0]])        \n",
      "print oris\n",
      "print ppcs\n",
      "print cpbs"
     ],
     "language": "python",
     "metadata": {},
     "outputs": [
      {
       "output_type": "stream",
       "stream": "stdout",
       "text": [
        "48\n",
        "{16: 168, 12: 356, 20: 126, 8: 428}\n",
        "{8: 276, 10: 302, 4: 256, 6: 282}\n",
        "{2: 276, 3: 351, 4: 491}\n"
       ]
      }
     ],
     "prompt_number": 13
    },
    {
     "cell_type": "code",
     "collapsed": false,
     "input": [
      "from collections import OrderedDict\n",
      "\n",
      "oris_sorted_by_value = OrderedDict(sorted(oris.items(), key=lambda x: x[1]))\n",
      "ppcs_sorted_by_value = OrderedDict(sorted(ppcs.items(), key=lambda x: x[1]))\n",
      "cpbs_sorted_by_value = OrderedDict(sorted(cpbs.items(), key=lambda x: x[1]))\n",
      "\n",
      "print keys\n",
      "print \"ori: \", oris_sorted_by_value\n",
      "print \"ppc: \", ppcs_sorted_by_value\n",
      "print \"cpb: \", cpbs_sorted_by_value"
     ],
     "language": "python",
     "metadata": {},
     "outputs": [
      {
       "output_type": "stream",
       "stream": "stdout",
       "text": [
        "['test_recall']\n",
        "ori:  OrderedDict([(20, 126), (16, 168), (12, 356), (8, 428)])\n",
        "ppc:  OrderedDict([(4, 256), (8, 276), (6, 282), (10, 302)])\n",
        "cpb:  OrderedDict([(2, 276), (3, 351), (4, 491)])\n"
       ]
      }
     ],
     "prompt_number": 14
    },
    {
     "cell_type": "code",
     "collapsed": false,
     "input": [
      "# u medianu nejlepsi 16, 8, 3\n",
      "# u bilatelar: recall nejhorsi: 1\n",
      "#              precision nejhorsi: 1"
     ],
     "language": "python",
     "metadata": {},
     "outputs": []
    },
    {
     "cell_type": "code",
     "collapsed": false,
     "input": [],
     "language": "python",
     "metadata": {},
     "outputs": []
    },
    {
     "cell_type": "code",
     "collapsed": false,
     "input": [],
     "language": "python",
     "metadata": {},
     "outputs": []
    }
   ],
   "metadata": {}
  }
 ]
}